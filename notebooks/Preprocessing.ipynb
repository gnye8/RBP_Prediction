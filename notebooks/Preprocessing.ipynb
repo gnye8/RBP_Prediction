{
 "cells": [
  {
   "cell_type": "markdown",
   "id": "7372e229",
   "metadata": {},
   "source": [
    "### Converting windows to 1D vectors and then 2D arrays\n",
    "\n",
    "1. since we need to give CNN a matrix input of some sort, we will first convert each nucleotide to a 1D vector \n",
    "2. then each window will be a 2D array of vectors  "
   ]
  },
  {
   "cell_type": "code",
   "execution_count": 1,
   "id": "8833666f",
   "metadata": {},
   "outputs": [],
   "source": [
    "import pandas as pd\n",
    "import numpy as np\n",
    "import matplotlib.pyplot as plt\n",
    "import seaborn as sns\n",
    "import os\n",
    "import json \n",
    "\n",
    "from sklearn.model_selection import train_test_split"
   ]
  },
  {
   "cell_type": "code",
   "execution_count": null,
   "id": "f15346d7-7b16-496e-b33a-e317fa54d7c2",
   "metadata": {},
   "outputs": [],
   "source": []
  },
  {
   "cell_type": "code",
   "execution_count": 143,
   "id": "2f7cb377",
   "metadata": {},
   "outputs": [
    {
     "data": {
      "text/html": [
       "<div>\n",
       "<style scoped>\n",
       "    .dataframe tbody tr th:only-of-type {\n",
       "        vertical-align: middle;\n",
       "    }\n",
       "\n",
       "    .dataframe tbody tr th {\n",
       "        vertical-align: top;\n",
       "    }\n",
       "\n",
       "    .dataframe thead th {\n",
       "        text-align: right;\n",
       "    }\n",
       "</style>\n",
       "<table border=\"1\" class=\"dataframe\">\n",
       "  <thead>\n",
       "    <tr style=\"text-align: right;\">\n",
       "      <th></th>\n",
       "      <th>ID</th>\n",
       "      <th>sequence_identity</th>\n",
       "      <th>sequence</th>\n",
       "      <th>RBP_binding</th>\n",
       "      <th>seq_len</th>\n",
       "      <th>padded_seqs</th>\n",
       "      <th>padded_len</th>\n",
       "    </tr>\n",
       "  </thead>\n",
       "  <tbody>\n",
       "    <tr>\n",
       "      <th>0</th>\n",
       "      <td>CID_041533;chrX,47028785,47028819,+</td>\n",
       "      <td>positive_test</td>\n",
       "      <td>gaacacaucaccugggccucuugcaccuuuuagaaagggcaaccuu...</td>\n",
       "      <td>1</td>\n",
       "      <td>334</td>\n",
       "      <td>gaacacaucaccugggccucuugcaccuuuuagaaagggcaaccuu...</td>\n",
       "      <td>400</td>\n",
       "    </tr>\n",
       "    <tr>\n",
       "      <th>1</th>\n",
       "      <td>CID_014973;chr15,90774588,90774613,-</td>\n",
       "      <td>positive_test</td>\n",
       "      <td>guccuguggcguuuguucuccuaggccaaccccuucaaggagcgaa...</td>\n",
       "      <td>1</td>\n",
       "      <td>325</td>\n",
       "      <td>guccuguggcguuuguucuccuaggccaaccccuucaaggagcgaa...</td>\n",
       "      <td>400</td>\n",
       "    </tr>\n",
       "    <tr>\n",
       "      <th>2</th>\n",
       "      <td>CID_015737;chr16,30959327,30959347,+</td>\n",
       "      <td>positive_test</td>\n",
       "      <td>ccuucccccugacccugacuccuugaacgucacugaaaacggcagc...</td>\n",
       "      <td>1</td>\n",
       "      <td>320</td>\n",
       "      <td>ccuucccccugacccugacuccuugaacgucacugaaaacggcagc...</td>\n",
       "      <td>400</td>\n",
       "    </tr>\n",
       "    <tr>\n",
       "      <th>3</th>\n",
       "      <td>CID_025246;chr2,227661131,227661173,-</td>\n",
       "      <td>positive_test</td>\n",
       "      <td>ugccucaccccaaacccccaguggagagcagcggugguaagcucuu...</td>\n",
       "      <td>1</td>\n",
       "      <td>342</td>\n",
       "      <td>ugccucaccccaaacccccaguggagagcagcggugguaagcucuu...</td>\n",
       "      <td>400</td>\n",
       "    </tr>\n",
       "    <tr>\n",
       "      <th>4</th>\n",
       "      <td>CID_009003;chr12,6347000,6347052,+</td>\n",
       "      <td>positive_test</td>\n",
       "      <td>gacccaugucucucccuuucccucagccuuccuucagaucaaacca...</td>\n",
       "      <td>1</td>\n",
       "      <td>352</td>\n",
       "      <td>gacccaugucucucccuuucccucagccuuccuucagaucaaacca...</td>\n",
       "      <td>400</td>\n",
       "    </tr>\n",
       "  </tbody>\n",
       "</table>\n",
       "</div>"
      ],
      "text/plain": [
       "                                      ID sequence_identity  \\\n",
       "0    CID_041533;chrX,47028785,47028819,+     positive_test   \n",
       "1   CID_014973;chr15,90774588,90774613,-     positive_test   \n",
       "2   CID_015737;chr16,30959327,30959347,+     positive_test   \n",
       "3  CID_025246;chr2,227661131,227661173,-     positive_test   \n",
       "4     CID_009003;chr12,6347000,6347052,+     positive_test   \n",
       "\n",
       "                                            sequence  RBP_binding  seq_len  \\\n",
       "0  gaacacaucaccugggccucuugcaccuuuuagaaagggcaaccuu...            1      334   \n",
       "1  guccuguggcguuuguucuccuaggccaaccccuucaaggagcgaa...            1      325   \n",
       "2  ccuucccccugacccugacuccuugaacgucacugaaaacggcagc...            1      320   \n",
       "3  ugccucaccccaaacccccaguggagagcagcggugguaagcucuu...            1      342   \n",
       "4  gacccaugucucucccuuucccucagccuuccuucagaucaaacca...            1      352   \n",
       "\n",
       "                                         padded_seqs  padded_len  \n",
       "0  gaacacaucaccugggccucuugcaccuuuuagaaagggcaaccuu...         400  \n",
       "1  guccuguggcguuuguucuccuaggccaaccccuucaaggagcgaa...         400  \n",
       "2  ccuucccccugacccugacuccuugaacgucacugaaaacggcagc...         400  \n",
       "3  ugccucaccccaaacccccaguggagagcagcggugguaagcucuu...         400  \n",
       "4  gacccaugucucucccuuucccucagccuuccuucagaucaaacca...         400  "
      ]
     },
     "execution_count": 143,
     "metadata": {},
     "output_type": "execute_result"
    }
   ],
   "source": [
    "ago1234 = pd.read_csv('../data/intermediate/ago1234_padded.csv', index_col=0)\n",
    "ago1234.head()"
   ]
  },
  {
   "cell_type": "code",
   "execution_count": 144,
   "id": "d1c65de9",
   "metadata": {},
   "outputs": [],
   "source": [
    "## we append three rows at the top and bottom of each sequence with [0.25, 0.25, 0.25, 0.25] \n",
    "#so that the neural network does not get confused in thinking that this is an important pattern\n",
    "\n",
    "def get_RNA_conv_array(seq, buffer=3):\n",
    "    seq_len = len(seq)\n",
    "    #print(seq_len)\n",
    "    \n",
    "    alpha='acgu'\n",
    "    arr_len = seq_len + (buffer*2)\n",
    "    #print(arr_len)\n",
    "    seq_arr = np.zeros([arr_len, 4])\n",
    "    \n",
    "    for idx in range(buffer):\n",
    "        #print(idx)\n",
    "        seq_arr[idx] = np.array([0.25]*4)\n",
    "        seq_arr[-(idx+1)] = np.array([0.25]*4)\n",
    "        #print(seq_arr)\n",
    "    \n",
    "    for idx,char in enumerate(seq):\n",
    "        idx = idx+3\n",
    "        if char not in alpha:\n",
    "            seq_arr[idx] = np.array([0.25]*4)\n",
    "        else:\n",
    "            index = alpha.index(char)\n",
    "            seq_arr[idx][index] = 1\n",
    "            \n",
    "    return seq_arr"
   ]
  },
  {
   "cell_type": "code",
   "execution_count": null,
   "id": "c9fc5cbe",
   "metadata": {},
   "outputs": [],
   "source": []
  },
  {
   "cell_type": "markdown",
   "id": "0460b31e-5385-4bef-8023-fd57a4662c8d",
   "metadata": {},
   "source": [
    "### Model 1\n",
    "\n",
    "First we will train a model using only the sequence data, then we will train another using both the sequence data and the base-pairing data and compare performance. \n",
    "\n",
    "The authors who originally created this dataset included an external testing dataset that we can use for additional validation. Therefore, I will not include this dataset in any of the training and will use it for additional validation at the end (this dataset includes 459 sequences that do not bind the RBP and 448 that do bind). "
   ]
  },
  {
   "cell_type": "code",
   "execution_count": 145,
   "id": "41c50578",
   "metadata": {},
   "outputs": [
    {
     "data": {
      "text/html": [
       "<div>\n",
       "<style scoped>\n",
       "    .dataframe tbody tr th:only-of-type {\n",
       "        vertical-align: middle;\n",
       "    }\n",
       "\n",
       "    .dataframe tbody tr th {\n",
       "        vertical-align: top;\n",
       "    }\n",
       "\n",
       "    .dataframe thead th {\n",
       "        text-align: right;\n",
       "    }\n",
       "</style>\n",
       "<table border=\"1\" class=\"dataframe\">\n",
       "  <thead>\n",
       "    <tr style=\"text-align: right;\">\n",
       "      <th></th>\n",
       "      <th>ID</th>\n",
       "      <th>sequence_identity</th>\n",
       "      <th>sequence</th>\n",
       "      <th>RBP_binding</th>\n",
       "      <th>seq_len</th>\n",
       "      <th>padded_seqs</th>\n",
       "      <th>padded_len</th>\n",
       "    </tr>\n",
       "  </thead>\n",
       "  <tbody>\n",
       "    <tr>\n",
       "      <th>0</th>\n",
       "      <td>CID_041533;chrX,47028785,47028819,+</td>\n",
       "      <td>positive_test</td>\n",
       "      <td>gaacacaucaccugggccucuugcaccuuuuagaaagggcaaccuu...</td>\n",
       "      <td>1</td>\n",
       "      <td>334</td>\n",
       "      <td>gaacacaucaccugggccucuugcaccuuuuagaaagggcaaccuu...</td>\n",
       "      <td>400</td>\n",
       "    </tr>\n",
       "    <tr>\n",
       "      <th>1</th>\n",
       "      <td>CID_014973;chr15,90774588,90774613,-</td>\n",
       "      <td>positive_test</td>\n",
       "      <td>guccuguggcguuuguucuccuaggccaaccccuucaaggagcgaa...</td>\n",
       "      <td>1</td>\n",
       "      <td>325</td>\n",
       "      <td>guccuguggcguuuguucuccuaggccaaccccuucaaggagcgaa...</td>\n",
       "      <td>400</td>\n",
       "    </tr>\n",
       "    <tr>\n",
       "      <th>2</th>\n",
       "      <td>CID_015737;chr16,30959327,30959347,+</td>\n",
       "      <td>positive_test</td>\n",
       "      <td>ccuucccccugacccugacuccuugaacgucacugaaaacggcagc...</td>\n",
       "      <td>1</td>\n",
       "      <td>320</td>\n",
       "      <td>ccuucccccugacccugacuccuugaacgucacugaaaacggcagc...</td>\n",
       "      <td>400</td>\n",
       "    </tr>\n",
       "    <tr>\n",
       "      <th>3</th>\n",
       "      <td>CID_025246;chr2,227661131,227661173,-</td>\n",
       "      <td>positive_test</td>\n",
       "      <td>ugccucaccccaaacccccaguggagagcagcggugguaagcucuu...</td>\n",
       "      <td>1</td>\n",
       "      <td>342</td>\n",
       "      <td>ugccucaccccaaacccccaguggagagcagcggugguaagcucuu...</td>\n",
       "      <td>400</td>\n",
       "    </tr>\n",
       "    <tr>\n",
       "      <th>4</th>\n",
       "      <td>CID_009003;chr12,6347000,6347052,+</td>\n",
       "      <td>positive_test</td>\n",
       "      <td>gacccaugucucucccuuucccucagccuuccuucagaucaaacca...</td>\n",
       "      <td>1</td>\n",
       "      <td>352</td>\n",
       "      <td>gacccaugucucucccuuucccucagccuuccuucagaucaaacca...</td>\n",
       "      <td>400</td>\n",
       "    </tr>\n",
       "  </tbody>\n",
       "</table>\n",
       "</div>"
      ],
      "text/plain": [
       "                                      ID sequence_identity  \\\n",
       "0    CID_041533;chrX,47028785,47028819,+     positive_test   \n",
       "1   CID_014973;chr15,90774588,90774613,-     positive_test   \n",
       "2   CID_015737;chr16,30959327,30959347,+     positive_test   \n",
       "3  CID_025246;chr2,227661131,227661173,-     positive_test   \n",
       "4     CID_009003;chr12,6347000,6347052,+     positive_test   \n",
       "\n",
       "                                            sequence  RBP_binding  seq_len  \\\n",
       "0  gaacacaucaccugggccucuugcaccuuuuagaaagggcaaccuu...            1      334   \n",
       "1  guccuguggcguuuguucuccuaggccaaccccuucaaggagcgaa...            1      325   \n",
       "2  ccuucccccugacccugacuccuugaacgucacugaaaacggcagc...            1      320   \n",
       "3  ugccucaccccaaacccccaguggagagcagcggugguaagcucuu...            1      342   \n",
       "4  gacccaugucucucccuuucccucagccuuccuucagaucaaacca...            1      352   \n",
       "\n",
       "                                         padded_seqs  padded_len  \n",
       "0  gaacacaucaccugggccucuugcaccuuuuagaaagggcaaccuu...         400  \n",
       "1  guccuguggcguuuguucuccuaggccaaccccuucaaggagcgaa...         400  \n",
       "2  ccuucccccugacccugacuccuugaacgucacugaaaacggcagc...         400  \n",
       "3  ugccucaccccaaacccccaguggagagcagcggugguaagcucuu...         400  \n",
       "4  gacccaugucucucccuuucccucagccuuccuucagaucaaacca...         400  "
      ]
     },
     "execution_count": 145,
     "metadata": {},
     "output_type": "execute_result"
    }
   ],
   "source": [
    "ago1234.head()"
   ]
  },
  {
   "cell_type": "code",
   "execution_count": 146,
   "id": "b37841b7",
   "metadata": {},
   "outputs": [],
   "source": [
    "external_validation = []\n",
    "for index,row in ago1234.iterrows():\n",
    "    identity = row['sequence_identity'].split('_')\n",
    "    if identity[1] == 'test':\n",
    "        external_validation.append(1)\n",
    "    else:\n",
    "        external_validation.append(0)\n",
    "ago1234['external_validation'] = external_validation"
   ]
  },
  {
   "cell_type": "code",
   "execution_count": 147,
   "id": "0fde415d-9b13-48ba-b996-e569b0c8fec5",
   "metadata": {},
   "outputs": [
    {
     "data": {
      "text/html": [
       "<div>\n",
       "<style scoped>\n",
       "    .dataframe tbody tr th:only-of-type {\n",
       "        vertical-align: middle;\n",
       "    }\n",
       "\n",
       "    .dataframe tbody tr th {\n",
       "        vertical-align: top;\n",
       "    }\n",
       "\n",
       "    .dataframe thead th {\n",
       "        text-align: right;\n",
       "    }\n",
       "</style>\n",
       "<table border=\"1\" class=\"dataframe\">\n",
       "  <thead>\n",
       "    <tr style=\"text-align: right;\">\n",
       "      <th></th>\n",
       "      <th>ID</th>\n",
       "      <th>sequence_identity</th>\n",
       "      <th>sequence</th>\n",
       "      <th>RBP_binding</th>\n",
       "      <th>seq_len</th>\n",
       "      <th>padded_seqs</th>\n",
       "      <th>padded_len</th>\n",
       "      <th>external_validation</th>\n",
       "    </tr>\n",
       "  </thead>\n",
       "  <tbody>\n",
       "    <tr>\n",
       "      <th>0</th>\n",
       "      <td>CID_041533;chrX,47028785,47028819,+</td>\n",
       "      <td>positive_test</td>\n",
       "      <td>gaacacaucaccugggccucuugcaccuuuuagaaagggcaaccuu...</td>\n",
       "      <td>1</td>\n",
       "      <td>334</td>\n",
       "      <td>gaacacaucaccugggccucuugcaccuuuuagaaagggcaaccuu...</td>\n",
       "      <td>400</td>\n",
       "      <td>1</td>\n",
       "    </tr>\n",
       "    <tr>\n",
       "      <th>1</th>\n",
       "      <td>CID_014973;chr15,90774588,90774613,-</td>\n",
       "      <td>positive_test</td>\n",
       "      <td>guccuguggcguuuguucuccuaggccaaccccuucaaggagcgaa...</td>\n",
       "      <td>1</td>\n",
       "      <td>325</td>\n",
       "      <td>guccuguggcguuuguucuccuaggccaaccccuucaaggagcgaa...</td>\n",
       "      <td>400</td>\n",
       "      <td>1</td>\n",
       "    </tr>\n",
       "    <tr>\n",
       "      <th>2</th>\n",
       "      <td>CID_015737;chr16,30959327,30959347,+</td>\n",
       "      <td>positive_test</td>\n",
       "      <td>ccuucccccugacccugacuccuugaacgucacugaaaacggcagc...</td>\n",
       "      <td>1</td>\n",
       "      <td>320</td>\n",
       "      <td>ccuucccccugacccugacuccuugaacgucacugaaaacggcagc...</td>\n",
       "      <td>400</td>\n",
       "      <td>1</td>\n",
       "    </tr>\n",
       "    <tr>\n",
       "      <th>3</th>\n",
       "      <td>CID_025246;chr2,227661131,227661173,-</td>\n",
       "      <td>positive_test</td>\n",
       "      <td>ugccucaccccaaacccccaguggagagcagcggugguaagcucuu...</td>\n",
       "      <td>1</td>\n",
       "      <td>342</td>\n",
       "      <td>ugccucaccccaaacccccaguggagagcagcggugguaagcucuu...</td>\n",
       "      <td>400</td>\n",
       "      <td>1</td>\n",
       "    </tr>\n",
       "    <tr>\n",
       "      <th>4</th>\n",
       "      <td>CID_009003;chr12,6347000,6347052,+</td>\n",
       "      <td>positive_test</td>\n",
       "      <td>gacccaugucucucccuuucccucagccuuccuucagaucaaacca...</td>\n",
       "      <td>1</td>\n",
       "      <td>352</td>\n",
       "      <td>gacccaugucucucccuuucccucagccuuccuucagaucaaacca...</td>\n",
       "      <td>400</td>\n",
       "      <td>1</td>\n",
       "    </tr>\n",
       "  </tbody>\n",
       "</table>\n",
       "</div>"
      ],
      "text/plain": [
       "                                      ID sequence_identity  \\\n",
       "0    CID_041533;chrX,47028785,47028819,+     positive_test   \n",
       "1   CID_014973;chr15,90774588,90774613,-     positive_test   \n",
       "2   CID_015737;chr16,30959327,30959347,+     positive_test   \n",
       "3  CID_025246;chr2,227661131,227661173,-     positive_test   \n",
       "4     CID_009003;chr12,6347000,6347052,+     positive_test   \n",
       "\n",
       "                                            sequence  RBP_binding  seq_len  \\\n",
       "0  gaacacaucaccugggccucuugcaccuuuuagaaagggcaaccuu...            1      334   \n",
       "1  guccuguggcguuuguucuccuaggccaaccccuucaaggagcgaa...            1      325   \n",
       "2  ccuucccccugacccugacuccuugaacgucacugaaaacggcagc...            1      320   \n",
       "3  ugccucaccccaaacccccaguggagagcagcggugguaagcucuu...            1      342   \n",
       "4  gacccaugucucucccuuucccucagccuuccuucagaucaaacca...            1      352   \n",
       "\n",
       "                                         padded_seqs  padded_len  \\\n",
       "0  gaacacaucaccugggccucuugcaccuuuuagaaagggcaaccuu...         400   \n",
       "1  guccuguggcguuuguucuccuaggccaaccccuucaaggagcgaa...         400   \n",
       "2  ccuucccccugacccugacuccuugaacgucacugaaaacggcagc...         400   \n",
       "3  ugccucaccccaaacccccaguggagagcagcggugguaagcucuu...         400   \n",
       "4  gacccaugucucucccuuucccucagccuuccuucagaucaaacca...         400   \n",
       "\n",
       "   external_validation  \n",
       "0                    1  \n",
       "1                    1  \n",
       "2                    1  \n",
       "3                    1  \n",
       "4                    1  "
      ]
     },
     "execution_count": 147,
     "metadata": {},
     "output_type": "execute_result"
    }
   ],
   "source": [
    "ago1234.head()"
   ]
  },
  {
   "cell_type": "code",
   "execution_count": 148,
   "id": "26ac8886",
   "metadata": {},
   "outputs": [],
   "source": [
    "ago1234_train = ago1234.loc[ago1234['external_validation'] == 0]\n",
    "external_val = ago1234.loc[ago1234['external_validation'] == 1]"
   ]
  },
  {
   "cell_type": "code",
   "execution_count": 149,
   "id": "2e809a02",
   "metadata": {},
   "outputs": [
    {
     "data": {
      "text/html": [
       "<div>\n",
       "<style scoped>\n",
       "    .dataframe tbody tr th:only-of-type {\n",
       "        vertical-align: middle;\n",
       "    }\n",
       "\n",
       "    .dataframe tbody tr th {\n",
       "        vertical-align: top;\n",
       "    }\n",
       "\n",
       "    .dataframe thead th {\n",
       "        text-align: right;\n",
       "    }\n",
       "</style>\n",
       "<table border=\"1\" class=\"dataframe\">\n",
       "  <thead>\n",
       "    <tr style=\"text-align: right;\">\n",
       "      <th></th>\n",
       "      <th>ID</th>\n",
       "      <th>sequence_identity</th>\n",
       "      <th>sequence</th>\n",
       "      <th>RBP_binding</th>\n",
       "      <th>seq_len</th>\n",
       "      <th>padded_seqs</th>\n",
       "      <th>padded_len</th>\n",
       "      <th>external_validation</th>\n",
       "    </tr>\n",
       "  </thead>\n",
       "  <tbody>\n",
       "    <tr>\n",
       "      <th>139424</th>\n",
       "      <td>PARCLIP_AGO1234.train.neg_26225;chr6,100855730...</td>\n",
       "      <td>negative_train</td>\n",
       "      <td>ucuugauaaugauguuucagacaugacaccaaaagcacugacaaca...</td>\n",
       "      <td>0</td>\n",
       "      <td>354</td>\n",
       "      <td>ucuugauaaugauguuucagacaugacaccaaaagcacugacaaca...</td>\n",
       "      <td>400</td>\n",
       "      <td>0</td>\n",
       "    </tr>\n",
       "    <tr>\n",
       "      <th>139425</th>\n",
       "      <td>PARCLIP_AGO1234.train.neg_15504;chr19,37132064...</td>\n",
       "      <td>negative_train</td>\n",
       "      <td>gccaggcuggucuccaaugccugaccucaagugaucuacccgccua...</td>\n",
       "      <td>0</td>\n",
       "      <td>319</td>\n",
       "      <td>gccaggcuggucuccaaugccugaccucaagugaucuacccgccua...</td>\n",
       "      <td>400</td>\n",
       "      <td>0</td>\n",
       "    </tr>\n",
       "    <tr>\n",
       "      <th>139426</th>\n",
       "      <td>PARCLIP_AGO1234.train.neg_2101;chr10,70137203,...</td>\n",
       "      <td>negative_train</td>\n",
       "      <td>aggaaagaugaaaaucacaauguuuuagcuaauuuuuaauauuaaa...</td>\n",
       "      <td>0</td>\n",
       "      <td>364</td>\n",
       "      <td>aggaaagaugaaaaucacaauguuuuagcuaauuuuuaauauuaaa...</td>\n",
       "      <td>400</td>\n",
       "      <td>0</td>\n",
       "    </tr>\n",
       "    <tr>\n",
       "      <th>139427</th>\n",
       "      <td>PARCLIP_AGO1234.train.neg_16713;chr2,103349661...</td>\n",
       "      <td>negative_train</td>\n",
       "      <td>acucugagcucaaggaaaauacauauuucaugcgaguucuuucuuu...</td>\n",
       "      <td>0</td>\n",
       "      <td>326</td>\n",
       "      <td>acucugagcucaaggaaaauacauauuucaugcgaguucuuucuuu...</td>\n",
       "      <td>400</td>\n",
       "      <td>0</td>\n",
       "    </tr>\n",
       "    <tr>\n",
       "      <th>139428</th>\n",
       "      <td>PARCLIP_AGO1234.train.neg_9764;chr16,4701858,4...</td>\n",
       "      <td>negative_train</td>\n",
       "      <td>cagcgugcaggggucuggcguugaggcugccuggcuggauuugcuc...</td>\n",
       "      <td>0</td>\n",
       "      <td>328</td>\n",
       "      <td>cagcgugcaggggucuggcguugaggcugccuggcuggauuugcuc...</td>\n",
       "      <td>400</td>\n",
       "      <td>0</td>\n",
       "    </tr>\n",
       "  </tbody>\n",
       "</table>\n",
       "</div>"
      ],
      "text/plain": [
       "                                                       ID sequence_identity  \\\n",
       "139424  PARCLIP_AGO1234.train.neg_26225;chr6,100855730...    negative_train   \n",
       "139425  PARCLIP_AGO1234.train.neg_15504;chr19,37132064...    negative_train   \n",
       "139426  PARCLIP_AGO1234.train.neg_2101;chr10,70137203,...    negative_train   \n",
       "139427  PARCLIP_AGO1234.train.neg_16713;chr2,103349661...    negative_train   \n",
       "139428  PARCLIP_AGO1234.train.neg_9764;chr16,4701858,4...    negative_train   \n",
       "\n",
       "                                                 sequence  RBP_binding  \\\n",
       "139424  ucuugauaaugauguuucagacaugacaccaaaagcacugacaaca...            0   \n",
       "139425  gccaggcuggucuccaaugccugaccucaagugaucuacccgccua...            0   \n",
       "139426  aggaaagaugaaaaucacaauguuuuagcuaauuuuuaauauuaaa...            0   \n",
       "139427  acucugagcucaaggaaaauacauauuucaugcgaguucuuucuuu...            0   \n",
       "139428  cagcgugcaggggucuggcguugaggcugccuggcuggauuugcuc...            0   \n",
       "\n",
       "        seq_len                                        padded_seqs  \\\n",
       "139424      354  ucuugauaaugauguuucagacaugacaccaaaagcacugacaaca...   \n",
       "139425      319  gccaggcuggucuccaaugccugaccucaagugaucuacccgccua...   \n",
       "139426      364  aggaaagaugaaaaucacaauguuuuagcuaauuuuuaauauuaaa...   \n",
       "139427      326  acucugagcucaaggaaaauacauauuucaugcgaguucuuucuuu...   \n",
       "139428      328  cagcgugcaggggucuggcguugaggcugccuggcuggauuugcuc...   \n",
       "\n",
       "        padded_len  external_validation  \n",
       "139424         400                    0  \n",
       "139425         400                    0  \n",
       "139426         400                    0  \n",
       "139427         400                    0  \n",
       "139428         400                    0  "
      ]
     },
     "execution_count": 149,
     "metadata": {},
     "output_type": "execute_result"
    }
   ],
   "source": [
    "ago1234 = ago1234_train\n",
    "ago1234.head()"
   ]
  },
  {
   "cell_type": "code",
   "execution_count": 150,
   "id": "a2a2a0d5",
   "metadata": {},
   "outputs": [
    {
     "name": "stdout",
     "output_type": "stream",
     "text": [
      "<class 'pandas.core.frame.DataFrame'>\n",
      "Index: 62211 entries, 139424 to 276846\n",
      "Data columns (total 8 columns):\n",
      " #   Column               Non-Null Count  Dtype \n",
      "---  ------               --------------  ----- \n",
      " 0   ID                   62211 non-null  object\n",
      " 1   sequence_identity    62211 non-null  object\n",
      " 2   sequence             62211 non-null  object\n",
      " 3   RBP_binding          62211 non-null  int64 \n",
      " 4   seq_len              62211 non-null  int64 \n",
      " 5   padded_seqs          62211 non-null  object\n",
      " 6   padded_len           62211 non-null  int64 \n",
      " 7   external_validation  62211 non-null  int64 \n",
      "dtypes: int64(4), object(4)\n",
      "memory usage: 4.3+ MB\n"
     ]
    }
   ],
   "source": [
    "ago1234.info()"
   ]
  },
  {
   "cell_type": "code",
   "execution_count": 151,
   "id": "4a885448",
   "metadata": {},
   "outputs": [
    {
     "data": {
      "text/plain": [
       "RBP_binding\n",
       "1    33112\n",
       "0    29099\n",
       "Name: count, dtype: int64"
      ]
     },
     "execution_count": 151,
     "metadata": {},
     "output_type": "execute_result"
    }
   ],
   "source": [
    "ago1234.RBP_binding.value_counts()"
   ]
  },
  {
   "cell_type": "code",
   "execution_count": 152,
   "id": "ad709e37",
   "metadata": {},
   "outputs": [
    {
     "data": {
      "text/html": [
       "<div>\n",
       "<style scoped>\n",
       "    .dataframe tbody tr th:only-of-type {\n",
       "        vertical-align: middle;\n",
       "    }\n",
       "\n",
       "    .dataframe tbody tr th {\n",
       "        vertical-align: top;\n",
       "    }\n",
       "\n",
       "    .dataframe thead th {\n",
       "        text-align: right;\n",
       "    }\n",
       "</style>\n",
       "<table border=\"1\" class=\"dataframe\">\n",
       "  <thead>\n",
       "    <tr style=\"text-align: right;\">\n",
       "      <th></th>\n",
       "      <th>ID</th>\n",
       "      <th>sequence_identity</th>\n",
       "      <th>sequence</th>\n",
       "      <th>RBP_binding</th>\n",
       "      <th>seq_len</th>\n",
       "      <th>padded_seqs</th>\n",
       "      <th>padded_len</th>\n",
       "      <th>external_validation</th>\n",
       "    </tr>\n",
       "  </thead>\n",
       "  <tbody>\n",
       "    <tr>\n",
       "      <th>0</th>\n",
       "      <td>CID_041533;chrX,47028785,47028819,+</td>\n",
       "      <td>positive_test</td>\n",
       "      <td>gaacacaucaccugggccucuugcaccuuuuagaaagggcaaccuu...</td>\n",
       "      <td>1</td>\n",
       "      <td>334</td>\n",
       "      <td>gaacacaucaccugggccucuugcaccuuuuagaaagggcaaccuu...</td>\n",
       "      <td>400</td>\n",
       "      <td>1</td>\n",
       "    </tr>\n",
       "    <tr>\n",
       "      <th>1</th>\n",
       "      <td>CID_014973;chr15,90774588,90774613,-</td>\n",
       "      <td>positive_test</td>\n",
       "      <td>guccuguggcguuuguucuccuaggccaaccccuucaaggagcgaa...</td>\n",
       "      <td>1</td>\n",
       "      <td>325</td>\n",
       "      <td>guccuguggcguuuguucuccuaggccaaccccuucaaggagcgaa...</td>\n",
       "      <td>400</td>\n",
       "      <td>1</td>\n",
       "    </tr>\n",
       "    <tr>\n",
       "      <th>2</th>\n",
       "      <td>CID_015737;chr16,30959327,30959347,+</td>\n",
       "      <td>positive_test</td>\n",
       "      <td>ccuucccccugacccugacuccuugaacgucacugaaaacggcagc...</td>\n",
       "      <td>1</td>\n",
       "      <td>320</td>\n",
       "      <td>ccuucccccugacccugacuccuugaacgucacugaaaacggcagc...</td>\n",
       "      <td>400</td>\n",
       "      <td>1</td>\n",
       "    </tr>\n",
       "    <tr>\n",
       "      <th>3</th>\n",
       "      <td>CID_025246;chr2,227661131,227661173,-</td>\n",
       "      <td>positive_test</td>\n",
       "      <td>ugccucaccccaaacccccaguggagagcagcggugguaagcucuu...</td>\n",
       "      <td>1</td>\n",
       "      <td>342</td>\n",
       "      <td>ugccucaccccaaacccccaguggagagcagcggugguaagcucuu...</td>\n",
       "      <td>400</td>\n",
       "      <td>1</td>\n",
       "    </tr>\n",
       "    <tr>\n",
       "      <th>4</th>\n",
       "      <td>CID_009003;chr12,6347000,6347052,+</td>\n",
       "      <td>positive_test</td>\n",
       "      <td>gacccaugucucucccuuucccucagccuuccuucagaucaaacca...</td>\n",
       "      <td>1</td>\n",
       "      <td>352</td>\n",
       "      <td>gacccaugucucucccuuucccucagccuuccuucagaucaaacca...</td>\n",
       "      <td>400</td>\n",
       "      <td>1</td>\n",
       "    </tr>\n",
       "  </tbody>\n",
       "</table>\n",
       "</div>"
      ],
      "text/plain": [
       "                                      ID sequence_identity  \\\n",
       "0    CID_041533;chrX,47028785,47028819,+     positive_test   \n",
       "1   CID_014973;chr15,90774588,90774613,-     positive_test   \n",
       "2   CID_015737;chr16,30959327,30959347,+     positive_test   \n",
       "3  CID_025246;chr2,227661131,227661173,-     positive_test   \n",
       "4     CID_009003;chr12,6347000,6347052,+     positive_test   \n",
       "\n",
       "                                            sequence  RBP_binding  seq_len  \\\n",
       "0  gaacacaucaccugggccucuugcaccuuuuagaaagggcaaccuu...            1      334   \n",
       "1  guccuguggcguuuguucuccuaggccaaccccuucaaggagcgaa...            1      325   \n",
       "2  ccuucccccugacccugacuccuugaacgucacugaaaacggcagc...            1      320   \n",
       "3  ugccucaccccaaacccccaguggagagcagcggugguaagcucuu...            1      342   \n",
       "4  gacccaugucucucccuuucccucagccuuccuucagaucaaacca...            1      352   \n",
       "\n",
       "                                         padded_seqs  padded_len  \\\n",
       "0  gaacacaucaccugggccucuugcaccuuuuagaaagggcaaccuu...         400   \n",
       "1  guccuguggcguuuguucuccuaggccaaccccuucaaggagcgaa...         400   \n",
       "2  ccuucccccugacccugacuccuugaacgucacugaaaacggcagc...         400   \n",
       "3  ugccucaccccaaacccccaguggagagcagcggugguaagcucuu...         400   \n",
       "4  gacccaugucucucccuuucccucagccuuccuucagaucaaacca...         400   \n",
       "\n",
       "   external_validation  \n",
       "0                    1  \n",
       "1                    1  \n",
       "2                    1  \n",
       "3                    1  \n",
       "4                    1  "
      ]
     },
     "execution_count": 152,
     "metadata": {},
     "output_type": "execute_result"
    }
   ],
   "source": [
    "external_val.head()"
   ]
  },
  {
   "cell_type": "code",
   "execution_count": 153,
   "id": "48d1a604",
   "metadata": {},
   "outputs": [
    {
     "name": "stdout",
     "output_type": "stream",
     "text": [
      "<class 'pandas.core.frame.DataFrame'>\n",
      "Index: 907 entries, 0 to 70211\n",
      "Data columns (total 8 columns):\n",
      " #   Column               Non-Null Count  Dtype \n",
      "---  ------               --------------  ----- \n",
      " 0   ID                   907 non-null    object\n",
      " 1   sequence_identity    907 non-null    object\n",
      " 2   sequence             907 non-null    object\n",
      " 3   RBP_binding          907 non-null    int64 \n",
      " 4   seq_len              907 non-null    int64 \n",
      " 5   padded_seqs          907 non-null    object\n",
      " 6   padded_len           907 non-null    int64 \n",
      " 7   external_validation  907 non-null    int64 \n",
      "dtypes: int64(4), object(4)\n",
      "memory usage: 63.8+ KB\n"
     ]
    }
   ],
   "source": [
    "external_val.info()"
   ]
  },
  {
   "cell_type": "code",
   "execution_count": 154,
   "id": "86a6951c",
   "metadata": {},
   "outputs": [
    {
     "data": {
      "text/plain": [
       "RBP_binding\n",
       "0    459\n",
       "1    448\n",
       "Name: count, dtype: int64"
      ]
     },
     "execution_count": 154,
     "metadata": {},
     "output_type": "execute_result"
    }
   ],
   "source": [
    "external_val.RBP_binding.value_counts()"
   ]
  },
  {
   "cell_type": "code",
   "execution_count": 155,
   "id": "4a554d39",
   "metadata": {},
   "outputs": [],
   "source": [
    "X = []\n",
    "y = []\n",
    "\n",
    "for index,row in ago1234.iterrows():\n",
    "    seq_subt = []\n",
    "    seq_arr = get_RNA_conv_array(row['padded_seqs'])\n",
    "    seq_subt.append(seq_arr.T)\n",
    "    X.append(np.array(seq_subt))\n",
    "    y.append(row['RBP_binding'])"
   ]
  },
  {
   "cell_type": "code",
   "execution_count": 156,
   "id": "4f013ff8",
   "metadata": {},
   "outputs": [
    {
     "name": "stdout",
     "output_type": "stream",
     "text": [
      "(62211, 406, 4, 1)\n",
      "(62211,)\n"
     ]
    }
   ],
   "source": [
    "X = np.array(X)\n",
    "y = np.array(y)\n",
    "\n",
    "X = np.swapaxes(X, -1, 1)\n",
    "\n",
    "print(X.shape)\n",
    "print(y.shape)"
   ]
  },
  {
   "cell_type": "code",
   "execution_count": 157,
   "id": "2a03dd56",
   "metadata": {},
   "outputs": [
    {
     "name": "stdout",
     "output_type": "stream",
     "text": [
      "(55989, 406, 4, 1)\n",
      "(6222, 406, 4, 1)\n",
      "(55989,)\n",
      "(6222,)\n"
     ]
    }
   ],
   "source": [
    "X_train2, X_test2, y_train2, y_test2 = train_test_split(X, y, test_size=0.1, random_state=42, stratify=y)\n",
    "\n",
    "print(X_train2.shape)\n",
    "print(X_test2.shape)\n",
    "print(y_train2.shape)\n",
    "print(y_test2.shape)"
   ]
  },
  {
   "cell_type": "code",
   "execution_count": 158,
   "id": "cb09373b",
   "metadata": {},
   "outputs": [],
   "source": [
    "np.save('../data/modeling/X_train2', X_train2)\n",
    "np.save('../data/modeling/X_test2', X_test2)\n",
    "np.save('../data/modeling/y_train2', y_train2)\n",
    "np.save('../data/modeling/y_test2', y_test2)"
   ]
  },
  {
   "cell_type": "markdown",
   "id": "e2f1268c",
   "metadata": {},
   "source": [
    "Now for the external validation datasets. "
   ]
  },
  {
   "cell_type": "code",
   "execution_count": 159,
   "id": "2233f823",
   "metadata": {},
   "outputs": [
    {
     "name": "stdout",
     "output_type": "stream",
     "text": [
      "(907, 406, 4, 1)\n",
      "(907,)\n"
     ]
    }
   ],
   "source": [
    "X_extval = []\n",
    "y_extval = []\n",
    "\n",
    "for index,row in external_val.iterrows():\n",
    "    seq_subt = []\n",
    "    seq_arr = get_RNA_conv_array(row['padded_seqs'])\n",
    "    seq_subt.append(seq_arr.T)\n",
    "    X_extval.append(np.array(seq_subt))\n",
    "    y_extval.append(row['RBP_binding'])\n",
    "    \n",
    "X_extval = np.array(X_extval)\n",
    "y_extval = np.array(y_extval)\n",
    "\n",
    "X_extval = np.swapaxes(X_extval, -1, 1)\n",
    "\n",
    "print(X_extval.shape)\n",
    "print(y_extval.shape)"
   ]
  },
  {
   "cell_type": "code",
   "execution_count": 160,
   "id": "b2b49dab",
   "metadata": {},
   "outputs": [],
   "source": [
    "np.save('../data/modeling/X_extval', X_extval)\n",
    "np.save('../data/modeling/y_extval', y_extval)"
   ]
  },
  {
   "cell_type": "code",
   "execution_count": null,
   "id": "3f68208f",
   "metadata": {},
   "outputs": [],
   "source": []
  },
  {
   "cell_type": "code",
   "execution_count": null,
   "id": "eb41a590",
   "metadata": {},
   "outputs": [],
   "source": []
  },
  {
   "cell_type": "code",
   "execution_count": null,
   "id": "2d06b412",
   "metadata": {},
   "outputs": [],
   "source": []
  },
  {
   "cell_type": "markdown",
   "id": "abf18f98-6e65-473b-ac7a-d41397453612",
   "metadata": {},
   "source": [
    "### Model 2\n",
    "\n",
    "Now we will add the secondary structure information. We will use the same schema for the arrays, except we will use [0,0,0,0] to indicate an 'n', and we will place the base pairing probability in the array in the place of a 1. "
   ]
  },
  {
   "cell_type": "code",
   "execution_count": 161,
   "id": "3eb81023-1b73-4faa-829a-36bede191c53",
   "metadata": {},
   "outputs": [],
   "source": [
    "f = open('../data/intermediate/eterna.json')\n",
    "eterna = json.load(f)\n",
    "f.close()"
   ]
  },
  {
   "cell_type": "code",
   "execution_count": 162,
   "id": "e2e2207e-377b-4a62-8ed1-ec9c2e18d93e",
   "metadata": {},
   "outputs": [
    {
     "name": "stdout",
     "output_type": "stream",
     "text": [
      "CID_035006;chr6,47254049,47254070,-\n",
      "63118\n",
      "dict_keys(['sequence', 'p_net_base_pairing'])\n"
     ]
    }
   ],
   "source": [
    "print(list(eterna.keys())[0])\n",
    "print(len(eterna))\n",
    "print(eterna['CID_035006;chr6,47254049,47254070,-'].keys())"
   ]
  },
  {
   "cell_type": "markdown",
   "id": "62e5a577",
   "metadata": {},
   "source": [
    "Now we will preprocess them by converting them to nice arrays."
   ]
  },
  {
   "cell_type": "code",
   "execution_count": 163,
   "id": "0868ed05-a44d-48e1-9c56-89f8e09ed798",
   "metadata": {},
   "outputs": [],
   "source": [
    "def get_eterna_RNA_conv_array(seq, bp_data, buffer=3):\n",
    "    seq_len = len(seq)\n",
    "    if len(bp_data) != seq_len:\n",
    "        to_add = len(seq) - len(bp_data) \n",
    "        bp_data = bp_data + [0 for i in range(to_add)]\n",
    "    #print(seq_len)\n",
    "    \n",
    "    alpha='acgu'\n",
    "    arr_len = seq_len + (buffer*2)\n",
    "    #print(arr_len)\n",
    "    seq_arr = np.zeros([arr_len, 4])\n",
    "    \n",
    "    for idx in range(buffer):\n",
    "        #print(idx)\n",
    "        seq_arr[idx] = np.array([0]*4)\n",
    "        seq_arr[-(idx+1)] = np.array([0]*4)\n",
    "        #print(seq_arr)\n",
    "    \n",
    "    for idx,char in enumerate(seq):\n",
    "        #idx = idx+3\n",
    "        val = bp_data[idx]\n",
    "        if char not in alpha:\n",
    "            seq_arr[idx+3] = np.array([0]*4)\n",
    "        else:\n",
    "            index = alpha.index(char)\n",
    "            seq_arr[idx+3][index] = val\n",
    "            \n",
    "    return seq_arr"
   ]
  },
  {
   "cell_type": "code",
   "execution_count": 164,
   "id": "33e7bc03-d206-4a2c-bab6-ccf3bb9644b4",
   "metadata": {},
   "outputs": [],
   "source": [
    "X_bp = []\n",
    "y_bp = []\n",
    "\n",
    "for index,row in ago1234.iterrows():\n",
    "    seq = row['padded_seqs']\n",
    "    bp_data = eterna[row['ID']]['p_net_base_pairing']\n",
    "    #print(seq)\n",
    "    #print(bp_data)\n",
    "    seq_subt = []\n",
    "    seq_arr = get_eterna_RNA_conv_array(seq, bp_data)\n",
    "    seq_subt.append(seq_arr.T)\n",
    "    X_bp.append(np.array(seq_subt))\n",
    "    y_bp.append(row['RBP_binding'])"
   ]
  },
  {
   "cell_type": "code",
   "execution_count": 165,
   "id": "d8d57667-0d8e-413e-9970-6703747afa52",
   "metadata": {},
   "outputs": [
    {
     "name": "stdout",
     "output_type": "stream",
     "text": [
      "(62211, 406, 4, 1)\n",
      "(62211,)\n"
     ]
    }
   ],
   "source": [
    "X_bp = np.array(X_bp)\n",
    "y_bp = np.array(y_bp)\n",
    "\n",
    "X_bp = np.swapaxes(X_bp, -1, 1)\n",
    "\n",
    "print(X_bp.shape)\n",
    "print(y_bp.shape)"
   ]
  },
  {
   "cell_type": "code",
   "execution_count": 166,
   "id": "39b9778c-7e38-4684-8a83-923873f08b78",
   "metadata": {},
   "outputs": [
    {
     "name": "stdout",
     "output_type": "stream",
     "text": [
      "(55989, 406, 4, 1)\n",
      "(6222, 406, 4, 1)\n",
      "(55989,)\n",
      "(6222,)\n"
     ]
    }
   ],
   "source": [
    "X_bp_train, X_bp_test, y_bp_train, y_bp_test = train_test_split(X_bp, y_bp, test_size=0.1, \n",
    "                                                                random_state=42, stratify=y_bp)\n",
    "\n",
    "print(X_bp_train.shape)\n",
    "print(X_bp_test.shape)\n",
    "print(y_bp_train.shape)\n",
    "print(y_bp_test.shape)"
   ]
  },
  {
   "cell_type": "code",
   "execution_count": 167,
   "id": "db2702f3-5bba-43b5-87f3-2aa68f8527a3",
   "metadata": {},
   "outputs": [],
   "source": [
    "np.save('../data/modeling/X_bp_train', X_bp_train)\n",
    "np.save('../data/modeling/X_bp_test', X_bp_test)\n",
    "np.save('../data/modeling/y_bp_train', y_bp_train)\n",
    "np.save('../data/modeling/y_bp_test', y_bp_test)"
   ]
  },
  {
   "cell_type": "markdown",
   "id": "49a12248",
   "metadata": {},
   "source": [
    "now for the validation sets"
   ]
  },
  {
   "cell_type": "code",
   "execution_count": 168,
   "id": "6ef8bb0a",
   "metadata": {},
   "outputs": [
    {
     "name": "stdout",
     "output_type": "stream",
     "text": [
      "(907, 406, 4, 1)\n",
      "(907,)\n"
     ]
    }
   ],
   "source": [
    "X_bp_extval = []\n",
    "y_bp_extval = []\n",
    "\n",
    "for index,row in external_val.iterrows():\n",
    "    seq_subt = []\n",
    "    bp_data = eterna[row['ID']]['p_net_base_pairing']\n",
    "    seq = row['padded_seqs']\n",
    "    seq_arr = get_eterna_RNA_conv_array(seq, bp_data)\n",
    "    seq_subt.append(seq_arr.T)\n",
    "    X_bp_extval.append(np.array(seq_subt))\n",
    "    y_bp_extval.append(row['RBP_binding'])\n",
    "    \n",
    "X_bp_extval = np.array(X_bp_extval)\n",
    "y_bp_extval = np.array(y_bp_extval)\n",
    "\n",
    "X_bp_extval = np.swapaxes(X_bp_extval, -1, 1)\n",
    "\n",
    "print(X_bp_extval.shape)\n",
    "print(y_bp_extval.shape)"
   ]
  },
  {
   "cell_type": "code",
   "execution_count": 169,
   "id": "ea2eadc5-1484-4865-8e6c-cc7a0d2824b9",
   "metadata": {},
   "outputs": [],
   "source": [
    "np.save('../data/modeling/X_bp_extval', X_bp_extval)\n",
    "np.save('../data/modeling/y_bp_extval', y_bp_extval)"
   ]
  },
  {
   "cell_type": "markdown",
   "id": "5c7cc386",
   "metadata": {},
   "source": [
    "### Modeling Thoughts\n",
    "\n",
    "We will perform modeling on Google Colab since I can purchase GPUs to use to speed up processing. \n",
    "\n",
    "from here: https://levelup.gitconnected.com/a-practical-guide-to-selecting-cnn-architectures-for-computer-vision-applications-4a07ef90234\n",
    "\n",
    "### Architectures to Try \n",
    "1. VGGNet - suitable for fine-grained classification tasks\n",
    "2. LeNet - suitable for small-scale classification tasks\n",
    "\n",
    "\n",
    "Since computational resources are limited, we might be limited to less complex architectures to limit training time/memory usage. "
   ]
  },
  {
   "cell_type": "code",
   "execution_count": null,
   "id": "e1da0ec7",
   "metadata": {},
   "outputs": [],
   "source": []
  },
  {
   "cell_type": "code",
   "execution_count": null,
   "id": "bb73037e-4eed-436a-b3d3-e9c22954bf99",
   "metadata": {},
   "outputs": [],
   "source": []
  },
  {
   "cell_type": "code",
   "execution_count": null,
   "id": "ee9903d5",
   "metadata": {},
   "outputs": [],
   "source": []
  },
  {
   "cell_type": "code",
   "execution_count": null,
   "id": "ea0b4d76",
   "metadata": {},
   "outputs": [],
   "source": []
  },
  {
   "cell_type": "code",
   "execution_count": null,
   "id": "a1cef1b9",
   "metadata": {},
   "outputs": [],
   "source": []
  },
  {
   "cell_type": "code",
   "execution_count": null,
   "id": "57e3313c-57ed-4b9b-bad4-9b37ee6d0204",
   "metadata": {},
   "outputs": [],
   "source": []
  },
  {
   "cell_type": "code",
   "execution_count": null,
   "id": "6265749f-d572-44df-b823-a013bdc30616",
   "metadata": {},
   "outputs": [],
   "source": []
  },
  {
   "cell_type": "code",
   "execution_count": null,
   "id": "4cdcf44f-3f75-41e1-b502-094ff12971ee",
   "metadata": {},
   "outputs": [],
   "source": []
  },
  {
   "cell_type": "code",
   "execution_count": null,
   "id": "ba7c61b5-44a6-45c1-9017-12adb3a82a7e",
   "metadata": {},
   "outputs": [],
   "source": []
  },
  {
   "cell_type": "code",
   "execution_count": null,
   "id": "e87721bd-134a-4176-8230-c21c406a6aa2",
   "metadata": {},
   "outputs": [],
   "source": []
  },
  {
   "cell_type": "code",
   "execution_count": null,
   "id": "29f79e84-8850-401e-92b1-41e0e2535cf9",
   "metadata": {},
   "outputs": [],
   "source": []
  },
  {
   "cell_type": "code",
   "execution_count": null,
   "id": "3b006b61-3c87-47da-9bec-1dca6570f544",
   "metadata": {},
   "outputs": [],
   "source": []
  },
  {
   "cell_type": "code",
   "execution_count": null,
   "id": "e2553431",
   "metadata": {},
   "outputs": [],
   "source": []
  },
  {
   "cell_type": "code",
   "execution_count": null,
   "id": "ddcec62c-8b35-4589-a14c-d0634a6090f5",
   "metadata": {},
   "outputs": [],
   "source": []
  },
  {
   "cell_type": "code",
   "execution_count": null,
   "id": "c518b20d-e973-4aa8-a1e4-515159f90556",
   "metadata": {},
   "outputs": [],
   "source": []
  },
  {
   "cell_type": "code",
   "execution_count": null,
   "id": "9e9f77ba-d4d8-452d-b975-29d531495219",
   "metadata": {},
   "outputs": [],
   "source": []
  },
  {
   "cell_type": "code",
   "execution_count": null,
   "id": "a5f63d23",
   "metadata": {},
   "outputs": [],
   "source": []
  },
  {
   "cell_type": "code",
   "execution_count": null,
   "id": "86e5c340",
   "metadata": {},
   "outputs": [],
   "source": []
  },
  {
   "cell_type": "code",
   "execution_count": null,
   "id": "eb71143b",
   "metadata": {},
   "outputs": [],
   "source": []
  },
  {
   "cell_type": "code",
   "execution_count": null,
   "id": "3c85a32b",
   "metadata": {},
   "outputs": [],
   "source": []
  },
  {
   "cell_type": "code",
   "execution_count": null,
   "id": "705cf30c",
   "metadata": {},
   "outputs": [],
   "source": []
  },
  {
   "cell_type": "code",
   "execution_count": null,
   "id": "6164900f",
   "metadata": {},
   "outputs": [],
   "source": []
  },
  {
   "cell_type": "code",
   "execution_count": null,
   "id": "fa930828",
   "metadata": {},
   "outputs": [],
   "source": []
  },
  {
   "cell_type": "code",
   "execution_count": null,
   "id": "b142ee91",
   "metadata": {},
   "outputs": [],
   "source": []
  },
  {
   "cell_type": "code",
   "execution_count": null,
   "id": "80700ace",
   "metadata": {},
   "outputs": [],
   "source": []
  },
  {
   "cell_type": "code",
   "execution_count": null,
   "id": "e1563350",
   "metadata": {},
   "outputs": [],
   "source": []
  },
  {
   "cell_type": "code",
   "execution_count": null,
   "id": "523f1e3b",
   "metadata": {},
   "outputs": [],
   "source": []
  },
  {
   "cell_type": "code",
   "execution_count": null,
   "id": "49546e47",
   "metadata": {},
   "outputs": [],
   "source": []
  },
  {
   "cell_type": "code",
   "execution_count": null,
   "id": "88ebf19a",
   "metadata": {},
   "outputs": [],
   "source": []
  },
  {
   "cell_type": "code",
   "execution_count": null,
   "id": "b4f42322",
   "metadata": {},
   "outputs": [],
   "source": []
  }
 ],
 "metadata": {
  "kernelspec": {
   "display_name": "Python 3 (ipykernel)",
   "language": "python",
   "name": "python3"
  },
  "language_info": {
   "codemirror_mode": {
    "name": "ipython",
    "version": 3
   },
   "file_extension": ".py",
   "mimetype": "text/x-python",
   "name": "python",
   "nbconvert_exporter": "python",
   "pygments_lexer": "ipython3",
   "version": "3.10.13"
  }
 },
 "nbformat": 4,
 "nbformat_minor": 5
}
