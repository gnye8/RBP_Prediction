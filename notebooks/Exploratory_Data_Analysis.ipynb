{
 "cells": [
  {
   "cell_type": "code",
   "execution_count": 3,
   "id": "c1b4119b",
   "metadata": {},
   "outputs": [],
   "source": [
    "import pandas as pd\n",
    "import numpy as np\n",
    "import matplotlib.pyplot as plt\n",
    "import seaborn as sns\n",
    "import os\n",
    "from Bio import SeqIO\n",
    "import json"
   ]
  },
  {
   "cell_type": "markdown",
   "id": "b34a20b2",
   "metadata": {},
   "source": [
    "### Goals\n",
    "\n",
    "In this notebook there are a few features of the data that we need to address. \n",
    "\n",
    "1. First, not all our RNA sequences are the same length. One common solution to this problem in the literature is to pad the RNA sequences (e.g. to just add Ns to the sequences so that they are all the same length as the maximum length RNA). \n",
    "2. We will run the padded sequences through an RNA secondary structure prediction algorithm in order to add an additional feature to our data since secondary structure information is relevant to protein binding. \n",
    "3. Finally, we must convert our RNA strings to data that can be interpreted by a machine learning algorithm. A common solution for this is to convert each nucleotide to a 1D vector so that each sequence is a 2D array of values."
   ]
  },
  {
   "cell_type": "code",
   "execution_count": 4,
   "id": "3477ef3c",
   "metadata": {},
   "outputs": [
    {
     "data": {
      "text/html": [
       "<div>\n",
       "<style scoped>\n",
       "    .dataframe tbody tr th:only-of-type {\n",
       "        vertical-align: middle;\n",
       "    }\n",
       "\n",
       "    .dataframe tbody tr th {\n",
       "        vertical-align: top;\n",
       "    }\n",
       "\n",
       "    .dataframe thead th {\n",
       "        text-align: right;\n",
       "    }\n",
       "</style>\n",
       "<table border=\"1\" class=\"dataframe\">\n",
       "  <thead>\n",
       "    <tr style=\"text-align: right;\">\n",
       "      <th></th>\n",
       "      <th>ID</th>\n",
       "      <th>sequence_identity</th>\n",
       "      <th>sequence</th>\n",
       "      <th>RBP_binding</th>\n",
       "      <th>seq_len</th>\n",
       "    </tr>\n",
       "  </thead>\n",
       "  <tbody>\n",
       "    <tr>\n",
       "      <th>0</th>\n",
       "      <td>CID_041533;chrX,47028785,47028819,+</td>\n",
       "      <td>positive_test</td>\n",
       "      <td>gaacacaucaccugggccucuugcaccuuuuagaaagggcaaccuu...</td>\n",
       "      <td>1</td>\n",
       "      <td>334</td>\n",
       "    </tr>\n",
       "    <tr>\n",
       "      <th>1</th>\n",
       "      <td>CID_014973;chr15,90774588,90774613,-</td>\n",
       "      <td>positive_test</td>\n",
       "      <td>guccuguggcguuuguucuccuaggccaaccccuucaaggagcgaa...</td>\n",
       "      <td>1</td>\n",
       "      <td>325</td>\n",
       "    </tr>\n",
       "    <tr>\n",
       "      <th>2</th>\n",
       "      <td>CID_015737;chr16,30959327,30959347,+</td>\n",
       "      <td>positive_test</td>\n",
       "      <td>ccuucccccugacccugacuccuugaacgucacugaaaacggcagc...</td>\n",
       "      <td>1</td>\n",
       "      <td>320</td>\n",
       "    </tr>\n",
       "    <tr>\n",
       "      <th>3</th>\n",
       "      <td>CID_025246;chr2,227661131,227661173,-</td>\n",
       "      <td>positive_test</td>\n",
       "      <td>ugccucaccccaaacccccaguggagagcagcggugguaagcucuu...</td>\n",
       "      <td>1</td>\n",
       "      <td>342</td>\n",
       "    </tr>\n",
       "    <tr>\n",
       "      <th>4</th>\n",
       "      <td>CID_009003;chr12,6347000,6347052,+</td>\n",
       "      <td>positive_test</td>\n",
       "      <td>gacccaugucucucccuuucccucagccuuccuucagaucaaacca...</td>\n",
       "      <td>1</td>\n",
       "      <td>352</td>\n",
       "    </tr>\n",
       "  </tbody>\n",
       "</table>\n",
       "</div>"
      ],
      "text/plain": [
       "                                      ID sequence_identity  \\\n",
       "0    CID_041533;chrX,47028785,47028819,+     positive_test   \n",
       "1   CID_014973;chr15,90774588,90774613,-     positive_test   \n",
       "2   CID_015737;chr16,30959327,30959347,+     positive_test   \n",
       "3  CID_025246;chr2,227661131,227661173,-     positive_test   \n",
       "4     CID_009003;chr12,6347000,6347052,+     positive_test   \n",
       "\n",
       "                                            sequence  RBP_binding  seq_len  \n",
       "0  gaacacaucaccugggccucuugcaccuuuuagaaagggcaaccuu...            1      334  \n",
       "1  guccuguggcguuuguucuccuaggccaaccccuucaaggagcgaa...            1      325  \n",
       "2  ccuucccccugacccugacuccuugaacgucacugaaaacggcagc...            1      320  \n",
       "3  ugccucaccccaaacccccaguggagagcagcggugguaagcucuu...            1      342  \n",
       "4  gacccaugucucucccuuucccucagccuuccuucagaucaaacca...            1      352  "
      ]
     },
     "execution_count": 4,
     "metadata": {},
     "output_type": "execute_result"
    }
   ],
   "source": [
    "ago1234 = pd.read_csv('../data/intermediate/ago1234.csv', index_col=0)\n",
    "ago1234.head()"
   ]
  },
  {
   "cell_type": "code",
   "execution_count": 5,
   "id": "43d4c3e3",
   "metadata": {},
   "outputs": [
    {
     "name": "stdout",
     "output_type": "stream",
     "text": [
      "<class 'pandas.core.frame.DataFrame'>\n",
      "Index: 63118 entries, 0 to 276846\n",
      "Data columns (total 5 columns):\n",
      " #   Column             Non-Null Count  Dtype \n",
      "---  ------             --------------  ----- \n",
      " 0   ID                 63118 non-null  object\n",
      " 1   sequence_identity  63118 non-null  object\n",
      " 2   sequence           63118 non-null  object\n",
      " 3   RBP_binding        63118 non-null  int64 \n",
      " 4   seq_len            63118 non-null  int64 \n",
      "dtypes: int64(2), object(3)\n",
      "memory usage: 2.9+ MB\n"
     ]
    }
   ],
   "source": [
    "ago1234.info()"
   ]
  },
  {
   "cell_type": "code",
   "execution_count": 6,
   "id": "31ddd2a3",
   "metadata": {},
   "outputs": [
    {
     "data": {
      "text/plain": [
       "count    63118.000000\n",
       "mean       329.553455\n",
       "std         22.673263\n",
       "min         67.000000\n",
       "25%        324.000000\n",
       "50%        329.000000\n",
       "75%        338.000000\n",
       "max        375.000000\n",
       "Name: seq_len, dtype: float64"
      ]
     },
     "execution_count": 6,
     "metadata": {},
     "output_type": "execute_result"
    }
   ],
   "source": [
    "ago1234.seq_len.describe()"
   ]
  },
  {
   "cell_type": "code",
   "execution_count": 7,
   "id": "a49a9f40",
   "metadata": {},
   "outputs": [],
   "source": [
    "#the maximum sequence length here is 375 nucleotides. if we increase this to 400 nucleotides per sequence, \n",
    "#then we can have six windows of 100 nucleotides with 50 nucleotide overlap per window"
   ]
  },
  {
   "cell_type": "code",
   "execution_count": 8,
   "id": "fe359012",
   "metadata": {},
   "outputs": [],
   "source": [
    "def pad_sequence(seq, max_len=400, pad='n'):\n",
    "    seq_len = len(seq)\n",
    "    if seq_len < max_len:\n",
    "        to_add = max_len - seq_len\n",
    "        new_seq = seq + (pad*to_add)\n",
    "    return new_seq"
   ]
  },
  {
   "cell_type": "code",
   "execution_count": 9,
   "id": "aee1ad58",
   "metadata": {},
   "outputs": [],
   "source": [
    "ago1234['padded_seqs'] = [pad_sequence(seq) for seq in ago1234['sequence']]"
   ]
  },
  {
   "cell_type": "code",
   "execution_count": 10,
   "id": "a19d896d",
   "metadata": {},
   "outputs": [
    {
     "data": {
      "text/html": [
       "<div>\n",
       "<style scoped>\n",
       "    .dataframe tbody tr th:only-of-type {\n",
       "        vertical-align: middle;\n",
       "    }\n",
       "\n",
       "    .dataframe tbody tr th {\n",
       "        vertical-align: top;\n",
       "    }\n",
       "\n",
       "    .dataframe thead th {\n",
       "        text-align: right;\n",
       "    }\n",
       "</style>\n",
       "<table border=\"1\" class=\"dataframe\">\n",
       "  <thead>\n",
       "    <tr style=\"text-align: right;\">\n",
       "      <th></th>\n",
       "      <th>ID</th>\n",
       "      <th>sequence_identity</th>\n",
       "      <th>sequence</th>\n",
       "      <th>RBP_binding</th>\n",
       "      <th>seq_len</th>\n",
       "      <th>padded_seqs</th>\n",
       "    </tr>\n",
       "  </thead>\n",
       "  <tbody>\n",
       "    <tr>\n",
       "      <th>0</th>\n",
       "      <td>CID_041533;chrX,47028785,47028819,+</td>\n",
       "      <td>positive_test</td>\n",
       "      <td>gaacacaucaccugggccucuugcaccuuuuagaaagggcaaccuu...</td>\n",
       "      <td>1</td>\n",
       "      <td>334</td>\n",
       "      <td>gaacacaucaccugggccucuugcaccuuuuagaaagggcaaccuu...</td>\n",
       "    </tr>\n",
       "    <tr>\n",
       "      <th>1</th>\n",
       "      <td>CID_014973;chr15,90774588,90774613,-</td>\n",
       "      <td>positive_test</td>\n",
       "      <td>guccuguggcguuuguucuccuaggccaaccccuucaaggagcgaa...</td>\n",
       "      <td>1</td>\n",
       "      <td>325</td>\n",
       "      <td>guccuguggcguuuguucuccuaggccaaccccuucaaggagcgaa...</td>\n",
       "    </tr>\n",
       "    <tr>\n",
       "      <th>2</th>\n",
       "      <td>CID_015737;chr16,30959327,30959347,+</td>\n",
       "      <td>positive_test</td>\n",
       "      <td>ccuucccccugacccugacuccuugaacgucacugaaaacggcagc...</td>\n",
       "      <td>1</td>\n",
       "      <td>320</td>\n",
       "      <td>ccuucccccugacccugacuccuugaacgucacugaaaacggcagc...</td>\n",
       "    </tr>\n",
       "    <tr>\n",
       "      <th>3</th>\n",
       "      <td>CID_025246;chr2,227661131,227661173,-</td>\n",
       "      <td>positive_test</td>\n",
       "      <td>ugccucaccccaaacccccaguggagagcagcggugguaagcucuu...</td>\n",
       "      <td>1</td>\n",
       "      <td>342</td>\n",
       "      <td>ugccucaccccaaacccccaguggagagcagcggugguaagcucuu...</td>\n",
       "    </tr>\n",
       "    <tr>\n",
       "      <th>4</th>\n",
       "      <td>CID_009003;chr12,6347000,6347052,+</td>\n",
       "      <td>positive_test</td>\n",
       "      <td>gacccaugucucucccuuucccucagccuuccuucagaucaaacca...</td>\n",
       "      <td>1</td>\n",
       "      <td>352</td>\n",
       "      <td>gacccaugucucucccuuucccucagccuuccuucagaucaaacca...</td>\n",
       "    </tr>\n",
       "  </tbody>\n",
       "</table>\n",
       "</div>"
      ],
      "text/plain": [
       "                                      ID sequence_identity  \\\n",
       "0    CID_041533;chrX,47028785,47028819,+     positive_test   \n",
       "1   CID_014973;chr15,90774588,90774613,-     positive_test   \n",
       "2   CID_015737;chr16,30959327,30959347,+     positive_test   \n",
       "3  CID_025246;chr2,227661131,227661173,-     positive_test   \n",
       "4     CID_009003;chr12,6347000,6347052,+     positive_test   \n",
       "\n",
       "                                            sequence  RBP_binding  seq_len  \\\n",
       "0  gaacacaucaccugggccucuugcaccuuuuagaaagggcaaccuu...            1      334   \n",
       "1  guccuguggcguuuguucuccuaggccaaccccuucaaggagcgaa...            1      325   \n",
       "2  ccuucccccugacccugacuccuugaacgucacugaaaacggcagc...            1      320   \n",
       "3  ugccucaccccaaacccccaguggagagcagcggugguaagcucuu...            1      342   \n",
       "4  gacccaugucucucccuuucccucagccuuccuucagaucaaacca...            1      352   \n",
       "\n",
       "                                         padded_seqs  \n",
       "0  gaacacaucaccugggccucuugcaccuuuuagaaagggcaaccuu...  \n",
       "1  guccuguggcguuuguucuccuaggccaaccccuucaaggagcgaa...  \n",
       "2  ccuucccccugacccugacuccuugaacgucacugaaaacggcagc...  \n",
       "3  ugccucaccccaaacccccaguggagagcagcggugguaagcucuu...  \n",
       "4  gacccaugucucucccuuucccucagccuuccuucagaucaaacca...  "
      ]
     },
     "execution_count": 10,
     "metadata": {},
     "output_type": "execute_result"
    }
   ],
   "source": [
    "ago1234.head()"
   ]
  },
  {
   "cell_type": "code",
   "execution_count": 11,
   "id": "7e323242",
   "metadata": {},
   "outputs": [
    {
     "name": "stdout",
     "output_type": "stream",
     "text": [
      "<class 'pandas.core.frame.DataFrame'>\n",
      "Index: 63118 entries, 0 to 276846\n",
      "Data columns (total 6 columns):\n",
      " #   Column             Non-Null Count  Dtype \n",
      "---  ------             --------------  ----- \n",
      " 0   ID                 63118 non-null  object\n",
      " 1   sequence_identity  63118 non-null  object\n",
      " 2   sequence           63118 non-null  object\n",
      " 3   RBP_binding        63118 non-null  int64 \n",
      " 4   seq_len            63118 non-null  int64 \n",
      " 5   padded_seqs        63118 non-null  object\n",
      "dtypes: int64(2), object(4)\n",
      "memory usage: 3.4+ MB\n"
     ]
    }
   ],
   "source": [
    "ago1234.info()"
   ]
  },
  {
   "cell_type": "code",
   "execution_count": 12,
   "id": "81ddaf83",
   "metadata": {},
   "outputs": [],
   "source": [
    "ago1234['padded_len'] = [len(seq) for seq in ago1234['padded_seqs']]"
   ]
  },
  {
   "cell_type": "code",
   "execution_count": 13,
   "id": "aa344870",
   "metadata": {},
   "outputs": [
    {
     "data": {
      "image/png": "[encoded data removed]",
      "text/plain": [
       "<Figure size 640x480 with 1 Axes>"
      ]
     },
     "metadata": {},
     "output_type": "display_data"
    }
   ],
   "source": [
    "#as a sanity check that this operation worked\n",
    "ago1234.padded_len.hist()\n",
    "plt.xlabel('padded seq lengths')\n",
    "plt.show()"
   ]
  },
  {
   "cell_type": "code",
   "execution_count": 19,
   "id": "3d6b0e2a",
   "metadata": {},
   "outputs": [
    {
     "name": "stdout",
     "output_type": "stream",
     "text": [
      "<class 'pandas.core.frame.DataFrame'>\n",
      "Index: 63118 entries, 0 to 276846\n",
      "Data columns (total 7 columns):\n",
      " #   Column             Non-Null Count  Dtype \n",
      "---  ------             --------------  ----- \n",
      " 0   ID                 63118 non-null  object\n",
      " 1   sequence_identity  63118 non-null  object\n",
      " 2   sequence           63118 non-null  object\n",
      " 3   RBP_binding        63118 non-null  int64 \n",
      " 4   seq_len            63118 non-null  int64 \n",
      " 5   padded_seqs        63118 non-null  object\n",
      " 6   padded_len         63118 non-null  int64 \n",
      "dtypes: int64(3), object(4)\n",
      "memory usage: 3.9+ MB\n"
     ]
    }
   ],
   "source": [
    "ago1234.info()\n",
    "ago1234.to_csv('../data/intermediate/ago1234_padded.csv')"
   ]
  },
  {
   "cell_type": "code",
   "execution_count": 16,
   "id": "2d51e437",
   "metadata": {},
   "outputs": [
    {
     "data": {
      "text/html": [
       "<div>\n",
       "<style scoped>\n",
       "    .dataframe tbody tr th:only-of-type {\n",
       "        vertical-align: middle;\n",
       "    }\n",
       "\n",
       "    .dataframe tbody tr th {\n",
       "        vertical-align: top;\n",
       "    }\n",
       "\n",
       "    .dataframe thead th {\n",
       "        text-align: right;\n",
       "    }\n",
       "</style>\n",
       "<table border=\"1\" class=\"dataframe\">\n",
       "  <thead>\n",
       "    <tr style=\"text-align: right;\">\n",
       "      <th></th>\n",
       "      <th>Unnamed: 0</th>\n",
       "      <th>ID</th>\n",
       "      <th>sequence_identity</th>\n",
       "      <th>sequence</th>\n",
       "      <th>seq_len</th>\n",
       "      <th>RBP_binding</th>\n",
       "    </tr>\n",
       "  </thead>\n",
       "  <tbody>\n",
       "    <tr>\n",
       "      <th>0</th>\n",
       "      <td>0</td>\n",
       "      <td>cid_24084;chrX,53680075,53680107,-</td>\n",
       "      <td>positive_test</td>\n",
       "      <td>ugugaggcaauugcuuagcauaguaucuggcacauaaguuaguuca...</td>\n",
       "      <td>332</td>\n",
       "      <td>1</td>\n",
       "    </tr>\n",
       "    <tr>\n",
       "      <th>1</th>\n",
       "      <td>1</td>\n",
       "      <td>cid_6339;chr13,92163497,92163529,+</td>\n",
       "      <td>positive_test</td>\n",
       "      <td>aaauuugaguuuguaguuaaaugauugucucagaagcauuuccuuu...</td>\n",
       "      <td>332</td>\n",
       "      <td>1</td>\n",
       "    </tr>\n",
       "    <tr>\n",
       "      <th>2</th>\n",
       "      <td>2</td>\n",
       "      <td>cid_7047;chr14,32590369,32590406,+</td>\n",
       "      <td>positive_test</td>\n",
       "      <td>uuuuuuuuuuuuuuuuuuuuggagacaggguucucucucuaacacc...</td>\n",
       "      <td>337</td>\n",
       "      <td>1</td>\n",
       "    </tr>\n",
       "    <tr>\n",
       "      <th>3</th>\n",
       "      <td>3</td>\n",
       "      <td>cid_738;chr1,44765193,44765227,-</td>\n",
       "      <td>positive_test</td>\n",
       "      <td>uuugaacauuucucaccuuccuaggcccauuugcuugggccuuucu...</td>\n",
       "      <td>334</td>\n",
       "      <td>1</td>\n",
       "    </tr>\n",
       "    <tr>\n",
       "      <th>4</th>\n",
       "      <td>4</td>\n",
       "      <td>cid_22458;chr8,128991034,128991066,+</td>\n",
       "      <td>positive_test</td>\n",
       "      <td>acaccuggcuaauuuuuuugugguuuuaguagagaugagguuucac...</td>\n",
       "      <td>332</td>\n",
       "      <td>1</td>\n",
       "    </tr>\n",
       "  </tbody>\n",
       "</table>\n",
       "</div>"
      ],
      "text/plain": [
       "   Unnamed: 0                                    ID sequence_identity  \\\n",
       "0           0    cid_24084;chrX,53680075,53680107,-     positive_test   \n",
       "1           1    cid_6339;chr13,92163497,92163529,+     positive_test   \n",
       "2           2    cid_7047;chr14,32590369,32590406,+     positive_test   \n",
       "3           3      cid_738;chr1,44765193,44765227,-     positive_test   \n",
       "4           4  cid_22458;chr8,128991034,128991066,+     positive_test   \n",
       "\n",
       "                                            sequence  seq_len  RBP_binding  \n",
       "0  ugugaggcaauugcuuagcauaguaucuggcacauaaguuaguuca...      332            1  \n",
       "1  aaauuugaguuuguaguuaaaugauugucucagaagcauuuccuuu...      332            1  \n",
       "2  uuuuuuuuuuuuuuuuuuuuggagacaggguucucucucuaacacc...      337            1  \n",
       "3  uuugaacauuucucaccuuccuaggcccauuugcuugggccuuucu...      334            1  \n",
       "4  acaccuggcuaauuuuuuugugguuuuaguagagaugagguuucac...      332            1  "
      ]
     },
     "execution_count": 16,
     "metadata": {},
     "output_type": "execute_result"
    }
   ],
   "source": [
    "hnrnpc = pd.read_csv('../data/intermediate/hnrnpc.csv')\n",
    "hnrnpc.head()"
   ]
  },
  {
   "cell_type": "code",
   "execution_count": 17,
   "id": "759ed792",
   "metadata": {},
   "outputs": [],
   "source": [
    "def pad_sequences_in_dataframe(csv_filename):\n",
    "    df = pd.read_csv(csv_filename, index_col=0)\n",
    "    df['padded_seqs'] = [pad_sequence(seq) for seq in df['sequence']]\n",
    "    df['padded_len'] = [len(seq) for seq in df['padded_seqs']]\n",
    "    df.padded_len.hist()\n",
    "    plt.xlabel('padded seq lengths')\n",
    "    plt.show()\n",
    "    return df"
   ]
  },
  {
   "cell_type": "code",
   "execution_count": 18,
   "id": "d6716bdd",
   "metadata": {},
   "outputs": [
    {
     "data": {
      "image/png": "[encoded data removed]",
      "text/plain": [
       "<Figure size 640x480 with 1 Axes>"
      ]
     },
     "metadata": {},
     "output_type": "display_data"
    },
    {
     "data": {
      "text/html": [
       "<div>\n",
       "<style scoped>\n",
       "    .dataframe tbody tr th:only-of-type {\n",
       "        vertical-align: middle;\n",
       "    }\n",
       "\n",
       "    .dataframe tbody tr th {\n",
       "        vertical-align: top;\n",
       "    }\n",
       "\n",
       "    .dataframe thead th {\n",
       "        text-align: right;\n",
       "    }\n",
       "</style>\n",
       "<table border=\"1\" class=\"dataframe\">\n",
       "  <thead>\n",
       "    <tr style=\"text-align: right;\">\n",
       "      <th></th>\n",
       "      <th>ID</th>\n",
       "      <th>sequence_identity</th>\n",
       "      <th>sequence</th>\n",
       "      <th>seq_len</th>\n",
       "      <th>RBP_binding</th>\n",
       "      <th>padded_seqs</th>\n",
       "      <th>padded_len</th>\n",
       "    </tr>\n",
       "  </thead>\n",
       "  <tbody>\n",
       "    <tr>\n",
       "      <th>0</th>\n",
       "      <td>cid_24084;chrX,53680075,53680107,-</td>\n",
       "      <td>positive_test</td>\n",
       "      <td>ugugaggcaauugcuuagcauaguaucuggcacauaaguuaguuca...</td>\n",
       "      <td>332</td>\n",
       "      <td>1</td>\n",
       "      <td>ugugaggcaauugcuuagcauaguaucuggcacauaaguuaguuca...</td>\n",
       "      <td>400</td>\n",
       "    </tr>\n",
       "    <tr>\n",
       "      <th>1</th>\n",
       "      <td>cid_6339;chr13,92163497,92163529,+</td>\n",
       "      <td>positive_test</td>\n",
       "      <td>aaauuugaguuuguaguuaaaugauugucucagaagcauuuccuuu...</td>\n",
       "      <td>332</td>\n",
       "      <td>1</td>\n",
       "      <td>aaauuugaguuuguaguuaaaugauugucucagaagcauuuccuuu...</td>\n",
       "      <td>400</td>\n",
       "    </tr>\n",
       "    <tr>\n",
       "      <th>2</th>\n",
       "      <td>cid_7047;chr14,32590369,32590406,+</td>\n",
       "      <td>positive_test</td>\n",
       "      <td>uuuuuuuuuuuuuuuuuuuuggagacaggguucucucucuaacacc...</td>\n",
       "      <td>337</td>\n",
       "      <td>1</td>\n",
       "      <td>uuuuuuuuuuuuuuuuuuuuggagacaggguucucucucuaacacc...</td>\n",
       "      <td>400</td>\n",
       "    </tr>\n",
       "    <tr>\n",
       "      <th>3</th>\n",
       "      <td>cid_738;chr1,44765193,44765227,-</td>\n",
       "      <td>positive_test</td>\n",
       "      <td>uuugaacauuucucaccuuccuaggcccauuugcuugggccuuucu...</td>\n",
       "      <td>334</td>\n",
       "      <td>1</td>\n",
       "      <td>uuugaacauuucucaccuuccuaggcccauuugcuugggccuuucu...</td>\n",
       "      <td>400</td>\n",
       "    </tr>\n",
       "    <tr>\n",
       "      <th>4</th>\n",
       "      <td>cid_22458;chr8,128991034,128991066,+</td>\n",
       "      <td>positive_test</td>\n",
       "      <td>acaccuggcuaauuuuuuugugguuuuaguagagaugagguuucac...</td>\n",
       "      <td>332</td>\n",
       "      <td>1</td>\n",
       "      <td>acaccuggcuaauuuuuuugugguuuuaguagagaugagguuucac...</td>\n",
       "      <td>400</td>\n",
       "    </tr>\n",
       "  </tbody>\n",
       "</table>\n",
       "</div>"
      ],
      "text/plain": [
       "                                     ID sequence_identity  \\\n",
       "0    cid_24084;chrX,53680075,53680107,-     positive_test   \n",
       "1    cid_6339;chr13,92163497,92163529,+     positive_test   \n",
       "2    cid_7047;chr14,32590369,32590406,+     positive_test   \n",
       "3      cid_738;chr1,44765193,44765227,-     positive_test   \n",
       "4  cid_22458;chr8,128991034,128991066,+     positive_test   \n",
       "\n",
       "                                            sequence  seq_len  RBP_binding  \\\n",
       "0  ugugaggcaauugcuuagcauaguaucuggcacauaaguuaguuca...      332            1   \n",
       "1  aaauuugaguuuguaguuaaaugauugucucagaagcauuuccuuu...      332            1   \n",
       "2  uuuuuuuuuuuuuuuuuuuuggagacaggguucucucucuaacacc...      337            1   \n",
       "3  uuugaacauuucucaccuuccuaggcccauuugcuugggccuuucu...      334            1   \n",
       "4  acaccuggcuaauuuuuuugugguuuuaguagagaugagguuucac...      332            1   \n",
       "\n",
       "                                         padded_seqs  padded_len  \n",
       "0  ugugaggcaauugcuuagcauaguaucuggcacauaaguuaguuca...         400  \n",
       "1  aaauuugaguuuguaguuaaaugauugucucagaagcauuuccuuu...         400  \n",
       "2  uuuuuuuuuuuuuuuuuuuuggagacaggguucucucucuaacacc...         400  \n",
       "3  uuugaacauuucucaccuuccuaggcccauuugcuugggccuuucu...         400  \n",
       "4  acaccuggcuaauuuuuuugugguuuuaguagagaugagguuucac...         400  "
      ]
     },
     "execution_count": 18,
     "metadata": {},
     "output_type": "execute_result"
    }
   ],
   "source": [
    "hnrnpc = pad_sequences_in_dataframe('../data/intermediate/hnrnpc.csv')\n",
    "hnrnpc.head()"
   ]
  },
  {
   "cell_type": "code",
   "execution_count": 20,
   "id": "d65f4192",
   "metadata": {},
   "outputs": [],
   "source": [
    "hnrnpc.to_csv('../data/intermediate/hnrnpc_padded.csv')"
   ]
  },
  {
   "cell_type": "code",
   "execution_count": 21,
   "id": "57da367a",
   "metadata": {},
   "outputs": [
    {
     "data": {
      "image/png": "[encoded data removed]",
      "text/plain": [
       "<Figure size 640x480 with 1 Axes>"
      ]
     },
     "metadata": {},
     "output_type": "display_data"
    },
    {
     "data": {
      "text/html": [
       "<div>\n",
       "<style scoped>\n",
       "    .dataframe tbody tr th:only-of-type {\n",
       "        vertical-align: middle;\n",
       "    }\n",
       "\n",
       "    .dataframe tbody tr th {\n",
       "        vertical-align: top;\n",
       "    }\n",
       "\n",
       "    .dataframe thead th {\n",
       "        text-align: right;\n",
       "    }\n",
       "</style>\n",
       "<table border=\"1\" class=\"dataframe\">\n",
       "  <thead>\n",
       "    <tr style=\"text-align: right;\">\n",
       "      <th></th>\n",
       "      <th>ID</th>\n",
       "      <th>sequence_identity</th>\n",
       "      <th>sequence</th>\n",
       "      <th>RBP_binding</th>\n",
       "      <th>seq_len</th>\n",
       "      <th>padded_seqs</th>\n",
       "      <th>padded_len</th>\n",
       "    </tr>\n",
       "  </thead>\n",
       "  <tbody>\n",
       "    <tr>\n",
       "      <th>0</th>\n",
       "      <td>CID_002575;chr1,156283921,156283954,-</td>\n",
       "      <td>positive_test</td>\n",
       "      <td>cuuucaugauuuccuugauuggcucugucauaaauccuacgaaguc...</td>\n",
       "      <td>1</td>\n",
       "      <td>333</td>\n",
       "      <td>cuuucaugauuuccuugauuggcucugucauaaauccuacgaaguc...</td>\n",
       "      <td>400</td>\n",
       "    </tr>\n",
       "    <tr>\n",
       "      <th>1</th>\n",
       "      <td>CID_005459;chr10,96368133,96368162,+</td>\n",
       "      <td>positive_test</td>\n",
       "      <td>guuugaggauaaaugaggucuaaagacaguaugaacuuguuaauaa...</td>\n",
       "      <td>1</td>\n",
       "      <td>329</td>\n",
       "      <td>guuugaggauaaaugaggucuaaagacaguaugaacuuguuaauaa...</td>\n",
       "      <td>400</td>\n",
       "    </tr>\n",
       "    <tr>\n",
       "      <th>2</th>\n",
       "      <td>CID_030395;chr5,145493419,145493445,-</td>\n",
       "      <td>positive_test</td>\n",
       "      <td>ucagaaccuuaggcuggaccuaaauagauugauuucauuucuaacc...</td>\n",
       "      <td>1</td>\n",
       "      <td>326</td>\n",
       "      <td>ucagaaccuuaggcuggaccuaaauagauugauuucauuucuaacc...</td>\n",
       "      <td>400</td>\n",
       "    </tr>\n",
       "    <tr>\n",
       "      <th>3</th>\n",
       "      <td>CID_009617;chr12,98941568,98941613,+</td>\n",
       "      <td>positive_test</td>\n",
       "      <td>aggagucuuuuucaucuaaauauguuccuaaguauguucccuuggc...</td>\n",
       "      <td>1</td>\n",
       "      <td>345</td>\n",
       "      <td>aggagucuuuuucaucuaaauauguuccuaaguauguucccuuggc...</td>\n",
       "      <td>400</td>\n",
       "    </tr>\n",
       "    <tr>\n",
       "      <th>4</th>\n",
       "      <td>CID_035058;chr8,614716,614750,-</td>\n",
       "      <td>positive_test</td>\n",
       "      <td>caaauauucagaauugagccacuguguugccauacugauuauguaa...</td>\n",
       "      <td>1</td>\n",
       "      <td>334</td>\n",
       "      <td>caaauauucagaauugagccacuguguugccauacugauuauguaa...</td>\n",
       "      <td>400</td>\n",
       "    </tr>\n",
       "  </tbody>\n",
       "</table>\n",
       "</div>"
      ],
      "text/plain": [
       "                                      ID sequence_identity  \\\n",
       "0  CID_002575;chr1,156283921,156283954,-     positive_test   \n",
       "1   CID_005459;chr10,96368133,96368162,+     positive_test   \n",
       "2  CID_030395;chr5,145493419,145493445,-     positive_test   \n",
       "3   CID_009617;chr12,98941568,98941613,+     positive_test   \n",
       "4        CID_035058;chr8,614716,614750,-     positive_test   \n",
       "\n",
       "                                            sequence  RBP_binding  seq_len  \\\n",
       "0  cuuucaugauuuccuugauuggcucugucauaaauccuacgaaguc...            1      333   \n",
       "1  guuugaggauaaaugaggucuaaagacaguaugaacuuguuaauaa...            1      329   \n",
       "2  ucagaaccuuaggcuggaccuaaauagauugauuucauuucuaacc...            1      326   \n",
       "3  aggagucuuuuucaucuaaauauguuccuaaguauguucccuuggc...            1      345   \n",
       "4  caaauauucagaauugagccacuguguugccauacugauuauguaa...            1      334   \n",
       "\n",
       "                                         padded_seqs  padded_len  \n",
       "0  cuuucaugauuuccuugauuggcucugucauaaauccuacgaaguc...         400  \n",
       "1  guuugaggauaaaugaggucuaaagacaguaugaacuuguuaauaa...         400  \n",
       "2  ucagaaccuuaggcuggaccuaaauagauugauuucauuucuaacc...         400  \n",
       "3  aggagucuuuuucaucuaaauauguuccuaaguauguucccuuggc...         400  \n",
       "4  caaauauucagaauugagccacuguguugccauacugauuauguaa...         400  "
      ]
     },
     "execution_count": 21,
     "metadata": {},
     "output_type": "execute_result"
    }
   ],
   "source": [
    "elavl1a = pad_sequences_in_dataframe(csv_filename='../data/intermediate/elavl1a.csv')\n",
    "elavl1a.head()"
   ]
  },
  {
   "cell_type": "code",
   "execution_count": 22,
   "id": "c4d7ed85",
   "metadata": {},
   "outputs": [],
   "source": [
    "elavl1a.to_csv('../data/intermediate/elavl1a_padded.csv')"
   ]
  },
  {
   "cell_type": "code",
   "execution_count": 23,
   "id": "38311326",
   "metadata": {},
   "outputs": [
    {
     "data": {
      "image/png": "[encoded data removed]",
      "text/plain": [
       "<Figure size 640x480 with 1 Axes>"
      ]
     },
     "metadata": {},
     "output_type": "display_data"
    },
    {
     "data": {
      "text/html": [
       "<div>\n",
       "<style scoped>\n",
       "    .dataframe tbody tr th:only-of-type {\n",
       "        vertical-align: middle;\n",
       "    }\n",
       "\n",
       "    .dataframe tbody tr th {\n",
       "        vertical-align: top;\n",
       "    }\n",
       "\n",
       "    .dataframe thead th {\n",
       "        text-align: right;\n",
       "    }\n",
       "</style>\n",
       "<table border=\"1\" class=\"dataframe\">\n",
       "  <thead>\n",
       "    <tr style=\"text-align: right;\">\n",
       "      <th></th>\n",
       "      <th>ID</th>\n",
       "      <th>sequence_identity</th>\n",
       "      <th>sequence</th>\n",
       "      <th>RBP_binding</th>\n",
       "      <th>seq_len</th>\n",
       "      <th>padded_seqs</th>\n",
       "      <th>padded_len</th>\n",
       "    </tr>\n",
       "  </thead>\n",
       "  <tbody>\n",
       "    <tr>\n",
       "      <th>0</th>\n",
       "      <td>cid_822;chr1,31501807,31501871,-</td>\n",
       "      <td>positive_test</td>\n",
       "      <td>auuaaauuaaaaaguaugagaaauagcuaacauaauucucaugaug...</td>\n",
       "      <td>1</td>\n",
       "      <td>364</td>\n",
       "      <td>auuaaauuaaaaaguaugagaaauagcuaacauaauucucaugaug...</td>\n",
       "      <td>400</td>\n",
       "    </tr>\n",
       "    <tr>\n",
       "      <th>1</th>\n",
       "      <td>cid_8722;chr11,61919476,61919533,+</td>\n",
       "      <td>positive_test</td>\n",
       "      <td>auaucuucaagaagagcaagccccgcuaucacaagcgcaccagcuc...</td>\n",
       "      <td>1</td>\n",
       "      <td>357</td>\n",
       "      <td>auaucuucaagaagagcaagccccgcuaucacaagcgcaccagcuc...</td>\n",
       "      <td>400</td>\n",
       "    </tr>\n",
       "    <tr>\n",
       "      <th>2</th>\n",
       "      <td>cid_25818;chr2,96858720,96858758,-</td>\n",
       "      <td>positive_test</td>\n",
       "      <td>auuucuuuaguauccaauguacucacgggauuauguuuauguucgg...</td>\n",
       "      <td>1</td>\n",
       "      <td>338</td>\n",
       "      <td>auuucuuuaguauccaauguacucacgggauuauguuuauguucgg...</td>\n",
       "      <td>400</td>\n",
       "    </tr>\n",
       "    <tr>\n",
       "      <th>3</th>\n",
       "      <td>cid_47473;chr8,138917864,138917895,+</td>\n",
       "      <td>positive_test</td>\n",
       "      <td>uugauuuuucuguuuagagaaaugaggacaaaaacaugaacuuaau...</td>\n",
       "      <td>1</td>\n",
       "      <td>331</td>\n",
       "      <td>uugauuuuucuguuuagagaaaugaggacaaaaacaugaacuuaau...</td>\n",
       "      <td>400</td>\n",
       "    </tr>\n",
       "    <tr>\n",
       "      <th>4</th>\n",
       "      <td>cid_15287;chr14,53385787,53385854,-</td>\n",
       "      <td>positive_test</td>\n",
       "      <td>uuggaccuuagauaaguaugguauucaggcagaugcuaagcuucag...</td>\n",
       "      <td>1</td>\n",
       "      <td>367</td>\n",
       "      <td>uuggaccuuagauaaguaugguauucaggcagaugcuaagcuucag...</td>\n",
       "      <td>400</td>\n",
       "    </tr>\n",
       "  </tbody>\n",
       "</table>\n",
       "</div>"
      ],
      "text/plain": [
       "                                     ID sequence_identity  \\\n",
       "0      cid_822;chr1,31501807,31501871,-     positive_test   \n",
       "1    cid_8722;chr11,61919476,61919533,+     positive_test   \n",
       "2    cid_25818;chr2,96858720,96858758,-     positive_test   \n",
       "3  cid_47473;chr8,138917864,138917895,+     positive_test   \n",
       "4   cid_15287;chr14,53385787,53385854,-     positive_test   \n",
       "\n",
       "                                            sequence  RBP_binding  seq_len  \\\n",
       "0  auuaaauuaaaaaguaugagaaauagcuaacauaauucucaugaug...            1      364   \n",
       "1  auaucuucaagaagagcaagccccgcuaucacaagcgcaccagcuc...            1      357   \n",
       "2  auuucuuuaguauccaauguacucacgggauuauguuuauguucgg...            1      338   \n",
       "3  uugauuuuucuguuuagagaaaugaggacaaaaacaugaacuuaau...            1      331   \n",
       "4  uuggaccuuagauaaguaugguauucaggcagaugcuaagcuucag...            1      367   \n",
       "\n",
       "                                         padded_seqs  padded_len  \n",
       "0  auuaaauuaaaaaguaugagaaauagcuaacauaauucucaugaug...         400  \n",
       "1  auaucuucaagaagagcaagccccgcuaucacaagcgcaccagcuc...         400  \n",
       "2  auuucuuuaguauccaauguacucacgggauuauguuuauguucgg...         400  \n",
       "3  uugauuuuucuguuuagagaaaugaggacaaaaacaugaacuuaau...         400  \n",
       "4  uuggaccuuagauaaguaugguauucaggcagaugcuaagcuucag...         400  "
      ]
     },
     "execution_count": 23,
     "metadata": {},
     "output_type": "execute_result"
    }
   ],
   "source": [
    "tial1 = pad_sequences_in_dataframe(csv_filename='../data/intermediate/tial1.csv')\n",
    "tial1.head()"
   ]
  },
  {
   "cell_type": "code",
   "execution_count": 24,
   "id": "9886e621",
   "metadata": {},
   "outputs": [],
   "source": [
    "tial1.to_csv('../data/intermediate/tial1_padded.csv')"
   ]
  },
  {
   "cell_type": "code",
   "execution_count": null,
   "id": "55554673",
   "metadata": {},
   "outputs": [],
   "source": []
  },
  {
   "cell_type": "code",
   "execution_count": null,
   "id": "171ce4cf",
   "metadata": {},
   "outputs": [],
   "source": []
  },
  {
   "cell_type": "code",
   "execution_count": null,
   "id": "462386c8",
   "metadata": {},
   "outputs": [],
   "source": []
  },
  {
   "cell_type": "code",
   "execution_count": null,
   "id": "7da689d3",
   "metadata": {},
   "outputs": [],
   "source": []
  },
  {
   "cell_type": "code",
   "execution_count": null,
   "id": "b38f7a68",
   "metadata": {},
   "outputs": [],
   "source": []
  },
  {
   "cell_type": "markdown",
   "id": "14ed1075",
   "metadata": {},
   "source": [
    " "
   ]
  },
  {
   "cell_type": "markdown",
   "id": "127aafc8",
   "metadata": {},
   "source": [
    "### Eternafold\n",
    "\n",
    "Now to run each window through Eternafold. \n",
    "\n",
    "Eternafold is available for download here: https://eternagame.org/software\n",
    "Here is the paper explaining how it works and the datasets it was trained on: https://www.nature.com/articles/s41592-022-01605-0\n",
    "I will be accessing it through a wrapper that is available in arnie (a github repo designed by the Das Lab at Stanford, which created Eternafold and which I am currently a member of): https://github.com/DasLab/arnie\n",
    "\n",
    "Eternafold is an RNA secondary structure prediction algorithm. This means it can predict whether two nucleotides will pair with each in a given RNA sequence. This is relevant information to the task of predicting protein binding with an RNA since the secondary structure of the RNA will influence where the protein will bind. \n",
    "\n",
    "For the sake of processing speed, I have run the secondary structure prediction task on Sherlock, the Stanford computing cluster. The script I used for this task can be found in the scripts directory in the main repo (spawn_eternafold_jobs.py and eternafold_preds.py) \n",
    "\n",
    "Since Eternafold does not predict pairing probabilities for non-standard nucleotides, I will exclude the n's from the calculation. I will pad the length of the p_paired probabilities with nans for now and will decide what value to replace them with for training the model down the line. \n",
    "\n",
    "At this stage, due to the length of time it requires for Eternafold to predict the base-pairing probabilities of sequences for each dataset, I will have to move forward with only a single dataset for the time being. \n"
   ]
  },
  {
   "cell_type": "code",
   "execution_count": 25,
   "id": "861513bb",
   "metadata": {},
   "outputs": [
    {
     "name": "stdout",
     "output_type": "stream",
     "text": [
      "902\n",
      "['child57960.json', 'child43470.json', 'child36120.json', 'child11480.json', 'child4690.json']\n"
     ]
    }
   ],
   "source": [
    "json_dir = '../data/eterna/global'\n",
    "json_files = os.listdir(json_dir)\n",
    "print(len(json_files))\n",
    "print(json_files[0:5])"
   ]
  },
  {
   "cell_type": "code",
   "execution_count": 26,
   "id": "3cc0519a",
   "metadata": {},
   "outputs": [],
   "source": [
    "eterna = {}\n",
    "for file in json_files:\n",
    "    f = open(f'{json_dir}/{file}')\n",
    "    single_dict = json.load(f)\n",
    "    #print(single_dict.keys())\n",
    "    for key in single_dict.keys():\n",
    "        eterna[key] = single_dict[key]\n",
    "    f.close()"
   ]
  },
  {
   "cell_type": "code",
   "execution_count": 27,
   "id": "33766c63",
   "metadata": {},
   "outputs": [
    {
     "name": "stdout",
     "output_type": "stream",
     "text": [
      "CID_035006;chr6,47254049,47254070,-\n",
      "63118\n",
      "dict_keys(['sequence', 'p_net_base_pairing'])\n"
     ]
    }
   ],
   "source": [
    "print(list(eterna.keys())[0])\n",
    "print(len(eterna))\n",
    "print(eterna['CID_035006;chr6,47254049,47254070,-'].keys())"
   ]
  },
  {
   "cell_type": "code",
   "execution_count": 28,
   "id": "466bcea6",
   "metadata": {},
   "outputs": [],
   "source": [
    "save_file = open('../data/intermediate/eterna.json', 'w')\n",
    "json.dump(eterna, save_file, indent=6)\n",
    "save_file.close()"
   ]
  },
  {
   "cell_type": "code",
   "execution_count": null,
   "id": "95cbe8ed",
   "metadata": {},
   "outputs": [],
   "source": [
    "### plotting base pairing heat map \n",
    "\n"
   ]
  },
  {
   "cell_type": "code",
   "execution_count": 31,
   "id": "f7706703",
   "metadata": {},
   "outputs": [],
   "source": []
  },
  {
   "cell_type": "code",
   "execution_count": null,
   "id": "619051da",
   "metadata": {},
   "outputs": [],
   "source": []
  },
  {
   "cell_type": "code",
   "execution_count": null,
   "id": "4d695727",
   "metadata": {},
   "outputs": [],
   "source": []
  },
  {
   "cell_type": "code",
   "execution_count": null,
   "id": "748970eb",
   "metadata": {},
   "outputs": [],
   "source": []
  },
  {
   "cell_type": "code",
   "execution_count": null,
   "id": "597e0e0e",
   "metadata": {},
   "outputs": [],
   "source": []
  },
  {
   "cell_type": "markdown",
   "id": "2217fe8e",
   "metadata": {},
   "source": [
    "### Summary \n",
    "\n",
    "For this project, we needed to properly format the data so that we could engineer some additional features for it that will be very helpful to use in generating a CNN that can accurately predict RBP binding to a given RNA sequence. \n",
    "\n",
    "For this purpose, we first needed to pad the RNA sequences so that they were all the same length. We did this by extending each sequence to the same length by adding 'n' on to the end of the sequence. "
   ]
  }
 ],
 "metadata": {
  "kernelspec": {
   "display_name": "Python 3 (ipykernel)",
   "language": "python",
   "name": "python3"
  },
  "language_info": {
   "codemirror_mode": {
    "name": "ipython",
    "version": 3
   },
   "file_extension": ".py",
   "mimetype": "text/x-python",
   "name": "python",
   "nbconvert_exporter": "python",
   "pygments_lexer": "ipython3",
   "version": "3.10.13"
  }
 },
 "nbformat": 4,
 "nbformat_minor": 5
}
