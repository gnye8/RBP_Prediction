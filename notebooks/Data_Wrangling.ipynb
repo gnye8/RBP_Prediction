{
 "cells": [
  {
   "cell_type": "code",
   "execution_count": 1,
   "id": "57e5d0fc",
   "metadata": {},
   "outputs": [],
   "source": [
    "import pandas as pd\n",
    "import numpy as np\n",
    "import matplotlib.pyplot as plt\n",
    "import seaborn as sns\n",
    "import os\n",
    "from Bio import SeqIO"
   ]
  },
  {
   "cell_type": "code",
   "execution_count": 2,
   "id": "9b425574",
   "metadata": {},
   "outputs": [
    {
     "name": "stdout",
     "output_type": "stream",
     "text": [
      "['ZC3H7B_Baltz2012.ls.positives.fa', 'ICLIP_HNRNPC.ls.positives.fa', 'PARCLIP_HUR.ls.negatives.fa', 'C22ORF28_Baltz2012.train.negatives.fa', 'PARCLIP_QKI.train.negatives.fa', 'C17ORF85_Baltz2012.ls.negatives.fa', 'PARCLIP_QKI.ls.positives.fa', 'PARCLIP_ELAVL1A.ls.negatives.fa', 'ICLIP_TDP43.train.negatives.fa', 'PARCLIP_HUR.train.negatives.fa', 'ICLIP_TIA1.train.positives.fa', 'CAPRIN1_Baltz2012.ls.positives.fa', 'PTBv1.ls.positives.fa', 'CLIPSEQ_AGO2.ls.positives.fa', 'PARCLIP_EWSR1.ls.negatives.fa', 'PARCLIP_PUM2.ls.negatives.fa', 'CLIPSEQ_ELAVL1.train.negatives.fa', 'ZC3H7B_Baltz2012.train.positives.fa', 'PARCLIP_ELAVL1.ls.negatives.fa', 'PARCLIP_AGO1234.ls.negatives.fa', 'CLIPSEQ_AGO2.train.negatives.fa', 'CLIPSEQ_AGO2.train.positives.fa', 'PARCLIP_AGO1234.ls.positives.fa', 'PARCLIP_ELAVL1.ls.positives.fa', 'PARCLIP_EWSR1.ls.positives.fa', 'ZC3H7B_Baltz2012.train.negatives.fa', 'CLIPSEQ_ELAVL1.train.positives.fa', 'PARCLIP_PUM2.ls.positives.fa', 'CLIPSEQ_AGO2.ls.negatives.fa', 'PTBv1.ls.negatives.fa', 'CAPRIN1_Baltz2012.ls.negatives.fa', 'PARCLIP_HUR.train.positives.fa', 'ICLIP_TDP43.train.positives.fa', 'ICLIP_TIA1.train.negatives.fa', 'PARCLIP_ELAVL1A.ls.positives.fa', 'PARCLIP_QKI.ls.negatives.fa', 'PARCLIP_HUR.ls.positives.fa', 'ICLIP_HNRNPC.ls.negatives.fa', 'C22ORF28_Baltz2012.train.positives.fa', 'ZC3H7B_Baltz2012.ls.negatives.fa', 'C17ORF85_Baltz2012.ls.positives.fa', 'PARCLIP_QKI.train.positives.fa', 'ICLIP_TIA1.ls.positives.fa', 'C17ORF85_Baltz2012.train.positives.fa', 'PARCLIP_ELAVL1A.train.positives.fa', 'PARCLIP_IGF2BP123.train.positives.fa', 'ALKBH5_Baltz2012.train.positives.fa', 'ICLIP_TDP43.ls.negatives.fa', 'CLIPSEQ_SFRS1.ls.positives.fa', 'PARCLIP_PUM2.train.negatives.fa', 'PARCLIP_AGO1234.train.positives.fa', 'PARCLIP_MOV10_Sievers.ls.negatives.fa', 'PTBv1.train.positives.fa', 'C22ORF28_Baltz2012.ls.negatives.fa', 'PARCLIP_MOV10_Sievers.train.positives.fa', 'CAPRIN1_Baltz2012.train.positives.fa', 'ICLIP_TIAL1.train.negatives.fa', 'PARCLIP_ELAVL1.train.positives.fa', 'PARCLIP_TAF15.ls.negatives.fa', 'PARCLIP_IGF2BP123.ls.positives.fa', 'ALKBH5_Baltz2012.ls.positives.fa', 'PARCLIP_FUS.train.negatives.fa', 'PARCLIP_TAF15.train.positives.fa', 'CLIPSEQ_ELAVL1.ls.positives.fa', 'ICLIP_TIAL1.ls.negatives.fa', 'ICLIP_HNRNPC.train.positives.fa', 'CLIPSEQ_SFRS1.train.negatives.fa', 'PARCLIP_FUS.ls.positives.fa', 'PARCLIP_EWSR1.train.positives.fa', 'PARCLIP_FUS.ls.negatives.fa', 'PARCLIP_EWSR1.train.negatives.fa', 'PARCLIP_TAF15.train.negatives.fa', 'PARCLIP_FUS.train.positives.fa', 'ALKBH5_Baltz2012.ls.negatives.fa', 'CLIPSEQ_SFRS1.train.positives.fa', 'ICLIP_HNRNPC.train.negatives.fa', 'ICLIP_TIAL1.ls.positives.fa', 'CLIPSEQ_ELAVL1.ls.negatives.fa', 'PARCLIP_TAF15.ls.positives.fa', 'PARCLIP_IGF2BP123.ls.negatives.fa', 'CAPRIN1_Baltz2012.train.negatives.fa', 'ICLIP_TIAL1.train.positives.fa', 'PARCLIP_ELAVL1.train.negatives.fa', 'PTBv1.train.negatives.fa', 'PARCLIP_MOV10_Sievers.ls.positives.fa', 'PARCLIP_AGO1234.train.negatives.fa', 'C22ORF28_Baltz2012.ls.positives.fa', 'PARCLIP_MOV10_Sievers.train.negatives.fa', 'ALKBH5_Baltz2012.train.negatives.fa', 'PARCLIP_IGF2BP123.train.negatives.fa', 'PARCLIP_PUM2.train.positives.fa', 'CLIPSEQ_SFRS1.ls.negatives.fa', 'ICLIP_TDP43.ls.positives.fa', 'ICLIP_TIA1.ls.negatives.fa', 'PARCLIP_ELAVL1A.train.negatives.fa', 'C17ORF85_Baltz2012.train.negatives.fa']\n",
      "96\n"
     ]
    }
   ],
   "source": [
    "data_dir = '../data/raw/GraphProt_CLIP_sequences'\n",
    "\n",
    "files = os.listdir(data_dir)\n",
    "print(files)\n",
    "print(len(files))"
   ]
  },
  {
   "cell_type": "markdown",
   "id": "49b93c55",
   "metadata": {},
   "source": [
    "### Uploading Data\n",
    "\n",
    "We can see that there are 96 total files, and that for each dataset there are four files: \n",
    "1. ls.positives.fa\n",
    "2. ls.negatives.fa\n",
    "3. train.positives.fa\n",
    "4. train.negatives.fa\n",
    "\n",
    "We know that the .fa suffix stands for the fasta file format which these sequences are currently in. The sequences in the files labeled \"ls\" are part of an external dataset that we can use at the end for validation. Until then, we will withold these from training (although we will include them for now so that they will be included at the clustering step (where we will remove sequences with high similarity to avoid redundancy and data leakage). \n",
    "\n",
    "This means that there is data for 24 RBPs here. Let's start by opening these files, extracting the sequences and records, and formatting them in a dataframe together. \n",
    "\n",
    "We will use SeqIO to read the fasta files. "
   ]
  },
  {
   "cell_type": "markdown",
   "id": "fc64aec5",
   "metadata": {},
   "source": [
    "### Let's start by deciding which datasets to use\n",
    "(since we will be training each model for a single RBP, we will pick ~5 of the 24 to use here) \n",
    "\n",
    "We will pick datasets based on their size and performance on preivous models. "
   ]
  },
  {
   "cell_type": "code",
   "execution_count": 3,
   "id": "94e71f32",
   "metadata": {},
   "outputs": [
    {
     "name": "stdout",
     "output_type": "stream",
     "text": [
      "16\n",
      "16\n",
      "19\n",
      "19\n"
     ]
    }
   ],
   "source": [
    "print(len('.ls.positives.fa'))\n",
    "print(len('.ls.negatives.fa'))\n",
    "print(len('.train.negatives.fa'))\n",
    "print(len('.train.positives.fa'))"
   ]
  },
  {
   "cell_type": "code",
   "execution_count": 4,
   "id": "10b73737",
   "metadata": {},
   "outputs": [
    {
     "name": "stdout",
     "output_type": "stream",
     "text": [
      "['PARCLIP_ELAVL1A', 'PARCLIP_FUS', 'PARCLIP_HUR', 'ALKBH5_Baltz2012', 'PARCLIP_AGO1234', 'ZC3H7B_Baltz2012', 'ICLIP_TDP43', 'ICLIP_HNRNPC', 'PARCLIP_QKI', 'ICLIP_TIAL1', 'PTBv1', 'PARCLIP_PUM2', 'CLIPSEQ_AGO2', 'CLIPSEQ_SFRS1', 'CLIPSEQ_ELAVL1', 'C22ORF28_Baltz2012', 'PARCLIP_IGF2BP123', 'ICLIP_TIA1', 'C17ORF85_Baltz2012', 'PARCLIP_TAF15', 'PARCLIP_EWSR1', 'CAPRIN1_Baltz2012', 'PARCLIP_MOV10_Sievers', 'PARCLIP_ELAVL1']\n"
     ]
    }
   ],
   "source": [
    "RBPs = []\n",
    "for file in files:\n",
    "    RBPs.append(file.split('.')[0])\n",
    "    #print(file.split('.'))\n",
    "    \n",
    "distinct_RBPs = [*set(RBPs)]\n",
    "print(distinct_RBPs)"
   ]
  },
  {
   "cell_type": "markdown",
   "id": "44fb0a4d",
   "metadata": {},
   "source": [
    "Five datasets to keep: \n",
    "\n",
    "1. PARCLIP_AGO1234\n",
    "2. ICLIP_HNRNPC\n",
    "3. PARCLIP_ELAVL1A\n",
    "4. ICLIP_TDP43\n",
    "5. ICLIP_TIAL1"
   ]
  },
  {
   "cell_type": "code",
   "execution_count": 5,
   "id": "5b97ab3f",
   "metadata": {},
   "outputs": [],
   "source": [
    "datasets = ['PARCLIP_AGO1234', 'ICLIP_HNRNPC', 'PARCLIP_ELAVL1', 'ICLIP_TDP43', 'ICLIP_TIAL1']\n",
    "\n",
    "fasta_files = []\n",
    "for dataset in datasets:\n",
    "    fasta_files.append([f'{dataset}.ls.positives.fa', f'{dataset}.ls.negatives.fa', \n",
    "                   f'{dataset}.train.negatives.fa', f'{dataset}.train.positives.fa'])"
   ]
  },
  {
   "cell_type": "code",
   "execution_count": 6,
   "id": "5d6bf438",
   "metadata": {},
   "outputs": [
    {
     "name": "stdout",
     "output_type": "stream",
     "text": [
      "[['PARCLIP_AGO1234.ls.positives.fa', 'PARCLIP_AGO1234.ls.negatives.fa', 'PARCLIP_AGO1234.train.negatives.fa', 'PARCLIP_AGO1234.train.positives.fa'], ['ICLIP_HNRNPC.ls.positives.fa', 'ICLIP_HNRNPC.ls.negatives.fa', 'ICLIP_HNRNPC.train.negatives.fa', 'ICLIP_HNRNPC.train.positives.fa'], ['PARCLIP_ELAVL1.ls.positives.fa', 'PARCLIP_ELAVL1.ls.negatives.fa', 'PARCLIP_ELAVL1.train.negatives.fa', 'PARCLIP_ELAVL1.train.positives.fa'], ['ICLIP_TDP43.ls.positives.fa', 'ICLIP_TDP43.ls.negatives.fa', 'ICLIP_TDP43.train.negatives.fa', 'ICLIP_TDP43.train.positives.fa'], ['ICLIP_TIAL1.ls.positives.fa', 'ICLIP_TIAL1.ls.negatives.fa', 'ICLIP_TIAL1.train.negatives.fa', 'ICLIP_TIAL1.train.positives.fa']]\n"
     ]
    }
   ],
   "source": [
    "print(fasta_files)"
   ]
  },
  {
   "cell_type": "code",
   "execution_count": 7,
   "id": "f742ab1f",
   "metadata": {},
   "outputs": [
    {
     "name": "stdout",
     "output_type": "stream",
     "text": [
      "PARCLIP_AGO1234.ls.positives.fa\n",
      "PARCLIP_AGO1234.ls.negatives.fa\n",
      "PARCLIP_AGO1234.train.negatives.fa\n",
      "PARCLIP_AGO1234.train.positives.fa\n"
     ]
    }
   ],
   "source": [
    "dataset_dict = {}\n",
    "for file in fasta_files[0]:\n",
    "    print(file)\n",
    "    seq_dict = {}\n",
    "    for seq_record in SeqIO.parse(f'{data_dir}/{file}', 'fasta'):\n",
    "        #print(seq_record.id)\n",
    "        #print(seq_record.seq)\n",
    "        seq_dict[str(seq_record.id)] = str(seq_record.seq).lower().replace('t', 'u')\n",
    "    dataset_dict[file] = seq_dict"
   ]
  },
  {
   "cell_type": "code",
   "execution_count": 8,
   "id": "b000a9d1",
   "metadata": {},
   "outputs": [
    {
     "data": {
      "text/html": [
       "<div>\n",
       "<style scoped>\n",
       "    .dataframe tbody tr th:only-of-type {\n",
       "        vertical-align: middle;\n",
       "    }\n",
       "\n",
       "    .dataframe tbody tr th {\n",
       "        vertical-align: top;\n",
       "    }\n",
       "\n",
       "    .dataframe thead th {\n",
       "        text-align: right;\n",
       "    }\n",
       "</style>\n",
       "<table border=\"1\" class=\"dataframe\">\n",
       "  <thead>\n",
       "    <tr style=\"text-align: right;\">\n",
       "      <th></th>\n",
       "      <th>PARCLIP_AGO1234.ls.positives.fa</th>\n",
       "      <th>PARCLIP_AGO1234.ls.negatives.fa</th>\n",
       "      <th>PARCLIP_AGO1234.train.negatives.fa</th>\n",
       "      <th>PARCLIP_AGO1234.train.positives.fa</th>\n",
       "    </tr>\n",
       "  </thead>\n",
       "  <tbody>\n",
       "    <tr>\n",
       "      <th>CID_041533;chrX,47028785,47028819,+</th>\n",
       "      <td>gaacacaucaccugggccucuugcaccuuuuagaaagggcaaccuu...</td>\n",
       "      <td>NaN</td>\n",
       "      <td>NaN</td>\n",
       "      <td>NaN</td>\n",
       "    </tr>\n",
       "    <tr>\n",
       "      <th>CID_014973;chr15,90774588,90774613,-</th>\n",
       "      <td>guccuguggcguuuguucuccuaggccaaccccuucaaggagcgaa...</td>\n",
       "      <td>NaN</td>\n",
       "      <td>NaN</td>\n",
       "      <td>NaN</td>\n",
       "    </tr>\n",
       "    <tr>\n",
       "      <th>CID_015737;chr16,30959327,30959347,+</th>\n",
       "      <td>ccuucccccugacccugacuccuugaacgucacugaaaacggcagc...</td>\n",
       "      <td>NaN</td>\n",
       "      <td>NaN</td>\n",
       "      <td>NaN</td>\n",
       "    </tr>\n",
       "    <tr>\n",
       "      <th>CID_025246;chr2,227661131,227661173,-</th>\n",
       "      <td>ugccucaccccaaacccccaguggagagcagcggugguaagcucuu...</td>\n",
       "      <td>NaN</td>\n",
       "      <td>NaN</td>\n",
       "      <td>NaN</td>\n",
       "    </tr>\n",
       "    <tr>\n",
       "      <th>CID_009003;chr12,6347000,6347052,+</th>\n",
       "      <td>gacccaugucucucccuuucccucagccuuccuucagaucaaacca...</td>\n",
       "      <td>NaN</td>\n",
       "      <td>NaN</td>\n",
       "      <td>NaN</td>\n",
       "    </tr>\n",
       "  </tbody>\n",
       "</table>\n",
       "</div>"
      ],
      "text/plain": [
       "                                                         PARCLIP_AGO1234.ls.positives.fa  \\\n",
       "CID_041533;chrX,47028785,47028819,+    gaacacaucaccugggccucuugcaccuuuuagaaagggcaaccuu...   \n",
       "CID_014973;chr15,90774588,90774613,-   guccuguggcguuuguucuccuaggccaaccccuucaaggagcgaa...   \n",
       "CID_015737;chr16,30959327,30959347,+   ccuucccccugacccugacuccuugaacgucacugaaaacggcagc...   \n",
       "CID_025246;chr2,227661131,227661173,-  ugccucaccccaaacccccaguggagagcagcggugguaagcucuu...   \n",
       "CID_009003;chr12,6347000,6347052,+     gacccaugucucucccuuucccucagccuuccuucagaucaaacca...   \n",
       "\n",
       "                                      PARCLIP_AGO1234.ls.negatives.fa  \\\n",
       "CID_041533;chrX,47028785,47028819,+                               NaN   \n",
       "CID_014973;chr15,90774588,90774613,-                              NaN   \n",
       "CID_015737;chr16,30959327,30959347,+                              NaN   \n",
       "CID_025246;chr2,227661131,227661173,-                             NaN   \n",
       "CID_009003;chr12,6347000,6347052,+                                NaN   \n",
       "\n",
       "                                      PARCLIP_AGO1234.train.negatives.fa  \\\n",
       "CID_041533;chrX,47028785,47028819,+                                  NaN   \n",
       "CID_014973;chr15,90774588,90774613,-                                 NaN   \n",
       "CID_015737;chr16,30959327,30959347,+                                 NaN   \n",
       "CID_025246;chr2,227661131,227661173,-                                NaN   \n",
       "CID_009003;chr12,6347000,6347052,+                                   NaN   \n",
       "\n",
       "                                      PARCLIP_AGO1234.train.positives.fa  \n",
       "CID_041533;chrX,47028785,47028819,+                                  NaN  \n",
       "CID_014973;chr15,90774588,90774613,-                                 NaN  \n",
       "CID_015737;chr16,30959327,30959347,+                                 NaN  \n",
       "CID_025246;chr2,227661131,227661173,-                                NaN  \n",
       "CID_009003;chr12,6347000,6347052,+                                   NaN  "
      ]
     },
     "execution_count": 8,
     "metadata": {},
     "output_type": "execute_result"
    }
   ],
   "source": [
    "ago1234 = pd.DataFrame(dataset_dict)\n",
    "ago1234.head()"
   ]
  },
  {
   "cell_type": "code",
   "execution_count": 9,
   "id": "ba11a549",
   "metadata": {},
   "outputs": [
    {
     "name": "stdout",
     "output_type": "stream",
     "text": [
      "<class 'pandas.core.frame.DataFrame'>\n",
      "Index: 69212 entries, CID_041533;chrX,47028785,47028819,+ to CID_016143;chr16,70597807,70597847,+\n",
      "Data columns (total 4 columns):\n",
      " #   Column                              Non-Null Count  Dtype \n",
      "---  ------                              --------------  ----- \n",
      " 0   PARCLIP_AGO1234.ls.positives.fa     500 non-null    object\n",
      " 1   PARCLIP_AGO1234.ls.negatives.fa     500 non-null    object\n",
      " 2   PARCLIP_AGO1234.train.negatives.fa  31310 non-null  object\n",
      " 3   PARCLIP_AGO1234.train.positives.fa  36902 non-null  object\n",
      "dtypes: object(4)\n",
      "memory usage: 2.6+ MB\n"
     ]
    }
   ],
   "source": [
    "ago1234.info()"
   ]
  },
  {
   "cell_type": "code",
   "execution_count": 10,
   "id": "81ab6d6a",
   "metadata": {},
   "outputs": [],
   "source": [
    "ago1234.reset_index(inplace=True)"
   ]
  },
  {
   "cell_type": "code",
   "execution_count": 11,
   "id": "c4fc5ff5",
   "metadata": {},
   "outputs": [],
   "source": [
    "ago1234.columns = ['ID', 'positive_test', 'negative_test', 'negative_train', 'positive_train']"
   ]
  },
  {
   "cell_type": "code",
   "execution_count": 12,
   "id": "fd6f88b8",
   "metadata": {},
   "outputs": [
    {
     "data": {
      "text/html": [
       "<div>\n",
       "<style scoped>\n",
       "    .dataframe tbody tr th:only-of-type {\n",
       "        vertical-align: middle;\n",
       "    }\n",
       "\n",
       "    .dataframe tbody tr th {\n",
       "        vertical-align: top;\n",
       "    }\n",
       "\n",
       "    .dataframe thead th {\n",
       "        text-align: right;\n",
       "    }\n",
       "</style>\n",
       "<table border=\"1\" class=\"dataframe\">\n",
       "  <thead>\n",
       "    <tr style=\"text-align: right;\">\n",
       "      <th></th>\n",
       "      <th>ID</th>\n",
       "      <th>positive_test</th>\n",
       "      <th>negative_test</th>\n",
       "      <th>negative_train</th>\n",
       "      <th>positive_train</th>\n",
       "    </tr>\n",
       "  </thead>\n",
       "  <tbody>\n",
       "    <tr>\n",
       "      <th>0</th>\n",
       "      <td>CID_041533;chrX,47028785,47028819,+</td>\n",
       "      <td>gaacacaucaccugggccucuugcaccuuuuagaaagggcaaccuu...</td>\n",
       "      <td>NaN</td>\n",
       "      <td>NaN</td>\n",
       "      <td>NaN</td>\n",
       "    </tr>\n",
       "    <tr>\n",
       "      <th>1</th>\n",
       "      <td>CID_014973;chr15,90774588,90774613,-</td>\n",
       "      <td>guccuguggcguuuguucuccuaggccaaccccuucaaggagcgaa...</td>\n",
       "      <td>NaN</td>\n",
       "      <td>NaN</td>\n",
       "      <td>NaN</td>\n",
       "    </tr>\n",
       "    <tr>\n",
       "      <th>2</th>\n",
       "      <td>CID_015737;chr16,30959327,30959347,+</td>\n",
       "      <td>ccuucccccugacccugacuccuugaacgucacugaaaacggcagc...</td>\n",
       "      <td>NaN</td>\n",
       "      <td>NaN</td>\n",
       "      <td>NaN</td>\n",
       "    </tr>\n",
       "    <tr>\n",
       "      <th>3</th>\n",
       "      <td>CID_025246;chr2,227661131,227661173,-</td>\n",
       "      <td>ugccucaccccaaacccccaguggagagcagcggugguaagcucuu...</td>\n",
       "      <td>NaN</td>\n",
       "      <td>NaN</td>\n",
       "      <td>NaN</td>\n",
       "    </tr>\n",
       "    <tr>\n",
       "      <th>4</th>\n",
       "      <td>CID_009003;chr12,6347000,6347052,+</td>\n",
       "      <td>gacccaugucucucccuuucccucagccuuccuucagaucaaacca...</td>\n",
       "      <td>NaN</td>\n",
       "      <td>NaN</td>\n",
       "      <td>NaN</td>\n",
       "    </tr>\n",
       "  </tbody>\n",
       "</table>\n",
       "</div>"
      ],
      "text/plain": [
       "                                      ID  \\\n",
       "0    CID_041533;chrX,47028785,47028819,+   \n",
       "1   CID_014973;chr15,90774588,90774613,-   \n",
       "2   CID_015737;chr16,30959327,30959347,+   \n",
       "3  CID_025246;chr2,227661131,227661173,-   \n",
       "4     CID_009003;chr12,6347000,6347052,+   \n",
       "\n",
       "                                       positive_test negative_test  \\\n",
       "0  gaacacaucaccugggccucuugcaccuuuuagaaagggcaaccuu...           NaN   \n",
       "1  guccuguggcguuuguucuccuaggccaaccccuucaaggagcgaa...           NaN   \n",
       "2  ccuucccccugacccugacuccuugaacgucacugaaaacggcagc...           NaN   \n",
       "3  ugccucaccccaaacccccaguggagagcagcggugguaagcucuu...           NaN   \n",
       "4  gacccaugucucucccuuucccucagccuuccuucagaucaaacca...           NaN   \n",
       "\n",
       "  negative_train positive_train  \n",
       "0            NaN            NaN  \n",
       "1            NaN            NaN  \n",
       "2            NaN            NaN  \n",
       "3            NaN            NaN  \n",
       "4            NaN            NaN  "
      ]
     },
     "execution_count": 12,
     "metadata": {},
     "output_type": "execute_result"
    }
   ],
   "source": [
    "ago1234.head()"
   ]
  },
  {
   "cell_type": "code",
   "execution_count": 13,
   "id": "4bc76a18",
   "metadata": {},
   "outputs": [],
   "source": [
    "ago1234 = pd.melt(ago1234, id_vars='ID', \n",
    "                  value_vars=['positive_test', 'negative_test', 'negative_train', 'positive_train'],\n",
    "                 var_name = 'sequence_identity', value_name = 'sequence')"
   ]
  },
  {
   "cell_type": "code",
   "execution_count": 14,
   "id": "71cff422",
   "metadata": {},
   "outputs": [
    {
     "data": {
      "text/html": [
       "<div>\n",
       "<style scoped>\n",
       "    .dataframe tbody tr th:only-of-type {\n",
       "        vertical-align: middle;\n",
       "    }\n",
       "\n",
       "    .dataframe tbody tr th {\n",
       "        vertical-align: top;\n",
       "    }\n",
       "\n",
       "    .dataframe thead th {\n",
       "        text-align: right;\n",
       "    }\n",
       "</style>\n",
       "<table border=\"1\" class=\"dataframe\">\n",
       "  <thead>\n",
       "    <tr style=\"text-align: right;\">\n",
       "      <th></th>\n",
       "      <th>ID</th>\n",
       "      <th>sequence_identity</th>\n",
       "      <th>sequence</th>\n",
       "    </tr>\n",
       "  </thead>\n",
       "  <tbody>\n",
       "    <tr>\n",
       "      <th>0</th>\n",
       "      <td>CID_041533;chrX,47028785,47028819,+</td>\n",
       "      <td>positive_test</td>\n",
       "      <td>gaacacaucaccugggccucuugcaccuuuuagaaagggcaaccuu...</td>\n",
       "    </tr>\n",
       "    <tr>\n",
       "      <th>1</th>\n",
       "      <td>CID_014973;chr15,90774588,90774613,-</td>\n",
       "      <td>positive_test</td>\n",
       "      <td>guccuguggcguuuguucuccuaggccaaccccuucaaggagcgaa...</td>\n",
       "    </tr>\n",
       "    <tr>\n",
       "      <th>2</th>\n",
       "      <td>CID_015737;chr16,30959327,30959347,+</td>\n",
       "      <td>positive_test</td>\n",
       "      <td>ccuucccccugacccugacuccuugaacgucacugaaaacggcagc...</td>\n",
       "    </tr>\n",
       "    <tr>\n",
       "      <th>3</th>\n",
       "      <td>CID_025246;chr2,227661131,227661173,-</td>\n",
       "      <td>positive_test</td>\n",
       "      <td>ugccucaccccaaacccccaguggagagcagcggugguaagcucuu...</td>\n",
       "    </tr>\n",
       "    <tr>\n",
       "      <th>4</th>\n",
       "      <td>CID_009003;chr12,6347000,6347052,+</td>\n",
       "      <td>positive_test</td>\n",
       "      <td>gacccaugucucucccuuucccucagccuuccuucagaucaaacca...</td>\n",
       "    </tr>\n",
       "  </tbody>\n",
       "</table>\n",
       "</div>"
      ],
      "text/plain": [
       "                                      ID sequence_identity  \\\n",
       "0    CID_041533;chrX,47028785,47028819,+     positive_test   \n",
       "1   CID_014973;chr15,90774588,90774613,-     positive_test   \n",
       "2   CID_015737;chr16,30959327,30959347,+     positive_test   \n",
       "3  CID_025246;chr2,227661131,227661173,-     positive_test   \n",
       "4     CID_009003;chr12,6347000,6347052,+     positive_test   \n",
       "\n",
       "                                            sequence  \n",
       "0  gaacacaucaccugggccucuugcaccuuuuagaaagggcaaccuu...  \n",
       "1  guccuguggcguuuguucuccuaggccaaccccuucaaggagcgaa...  \n",
       "2  ccuucccccugacccugacuccuugaacgucacugaaaacggcagc...  \n",
       "3  ugccucaccccaaacccccaguggagagcagcggugguaagcucuu...  \n",
       "4  gacccaugucucucccuuucccucagccuuccuucagaucaaacca...  "
      ]
     },
     "execution_count": 14,
     "metadata": {},
     "output_type": "execute_result"
    }
   ],
   "source": [
    "ago1234.head()"
   ]
  },
  {
   "cell_type": "code",
   "execution_count": 15,
   "id": "5fad17b9",
   "metadata": {},
   "outputs": [
    {
     "name": "stdout",
     "output_type": "stream",
     "text": [
      "<class 'pandas.core.frame.DataFrame'>\n",
      "RangeIndex: 276848 entries, 0 to 276847\n",
      "Data columns (total 3 columns):\n",
      " #   Column             Non-Null Count   Dtype \n",
      "---  ------             --------------   ----- \n",
      " 0   ID                 276848 non-null  object\n",
      " 1   sequence_identity  276848 non-null  object\n",
      " 2   sequence           69212 non-null   object\n",
      "dtypes: object(3)\n",
      "memory usage: 6.3+ MB\n"
     ]
    }
   ],
   "source": [
    "ago1234.info()"
   ]
  },
  {
   "cell_type": "code",
   "execution_count": 16,
   "id": "9edf5b7d",
   "metadata": {},
   "outputs": [],
   "source": [
    "ago1234 = ago1234.dropna(subset='sequence')"
   ]
  },
  {
   "cell_type": "code",
   "execution_count": 17,
   "id": "ef3645b4",
   "metadata": {},
   "outputs": [
    {
     "name": "stdout",
     "output_type": "stream",
     "text": [
      "<class 'pandas.core.frame.DataFrame'>\n",
      "Int64Index: 69212 entries, 0 to 276847\n",
      "Data columns (total 3 columns):\n",
      " #   Column             Non-Null Count  Dtype \n",
      "---  ------             --------------  ----- \n",
      " 0   ID                 69212 non-null  object\n",
      " 1   sequence_identity  69212 non-null  object\n",
      " 2   sequence           69212 non-null  object\n",
      "dtypes: object(3)\n",
      "memory usage: 2.1+ MB\n"
     ]
    }
   ],
   "source": [
    "ago1234.info()"
   ]
  },
  {
   "cell_type": "markdown",
   "id": "0b8dec2d",
   "metadata": {},
   "source": [
    "### dataset prep\n",
    "\n",
    "Now that we have looked into formatting a single dataset, let's write a function that will allow us to do this again automatically for following datasets. "
   ]
  },
  {
   "cell_type": "code",
   "execution_count": 18,
   "id": "3074adc9",
   "metadata": {},
   "outputs": [],
   "source": [
    "def format_df_from_fastas(data_dir, dataset_fastas):\n",
    "    ## first we will move all seqs/ids into a dictionary \n",
    "    dataset_dict = {}\n",
    "    for file in dataset_fastas:\n",
    "        #print(file)\n",
    "        seq_dict = {}\n",
    "        for seq_record in SeqIO.parse(f'{data_dir}/{file}', 'fasta'):\n",
    "            #print(seq_record.id)\n",
    "            #print(seq_record.seq)\n",
    "            seq_dict[str(seq_record.id)] = str(seq_record.seq).lower().replace('t', 'u')\n",
    "        dataset_dict[file] = seq_dict\n",
    "        \n",
    "    df = pd.DataFrame(dataset_dict)\n",
    "    df.reset_index(inplace=True)\n",
    "    #now we are renaming columns -- we know that they will always be in this order because I wrote fasta_files\n",
    "    #list explicitly so that they would be\n",
    "    df.columns = ['ID', 'positive_test', 'negative_test', 'negative_train', 'positive_train']\n",
    "    df = pd.melt(df, id_vars='ID', \n",
    "                  value_vars=['positive_test', 'negative_test', 'negative_train', 'positive_train'],\n",
    "                 var_name = 'sequence_identity', value_name = 'sequence')\n",
    "    #we can drop all rows that have missing values because rows with no sequences are no use to us\n",
    "    df = df.dropna(subset='sequence')\n",
    "    return df"
   ]
  },
  {
   "cell_type": "code",
   "execution_count": 19,
   "id": "77aedc01",
   "metadata": {},
   "outputs": [],
   "source": [
    "hnrnpc = format_df_from_fastas(data_dir, fasta_files[1])"
   ]
  },
  {
   "cell_type": "code",
   "execution_count": 20,
   "id": "af9cc730",
   "metadata": {},
   "outputs": [
    {
     "data": {
      "text/html": [
       "<div>\n",
       "<style scoped>\n",
       "    .dataframe tbody tr th:only-of-type {\n",
       "        vertical-align: middle;\n",
       "    }\n",
       "\n",
       "    .dataframe tbody tr th {\n",
       "        vertical-align: top;\n",
       "    }\n",
       "\n",
       "    .dataframe thead th {\n",
       "        text-align: right;\n",
       "    }\n",
       "</style>\n",
       "<table border=\"1\" class=\"dataframe\">\n",
       "  <thead>\n",
       "    <tr style=\"text-align: right;\">\n",
       "      <th></th>\n",
       "      <th>ID</th>\n",
       "      <th>sequence_identity</th>\n",
       "      <th>sequence</th>\n",
       "    </tr>\n",
       "  </thead>\n",
       "  <tbody>\n",
       "    <tr>\n",
       "      <th>0</th>\n",
       "      <td>cid_24084;chrX,53680075,53680107,-</td>\n",
       "      <td>positive_test</td>\n",
       "      <td>ugugaggcaauugcuuagcauaguaucuggcacauaaguuaguuca...</td>\n",
       "    </tr>\n",
       "    <tr>\n",
       "      <th>1</th>\n",
       "      <td>cid_6339;chr13,92163497,92163529,+</td>\n",
       "      <td>positive_test</td>\n",
       "      <td>aaauuugaguuuguaguuaaaugauugucucagaagcauuuccuuu...</td>\n",
       "    </tr>\n",
       "    <tr>\n",
       "      <th>2</th>\n",
       "      <td>cid_7047;chr14,32590369,32590406,+</td>\n",
       "      <td>positive_test</td>\n",
       "      <td>uuuuuuuuuuuuuuuuuuuuggagacaggguucucucucuaacacc...</td>\n",
       "    </tr>\n",
       "    <tr>\n",
       "      <th>3</th>\n",
       "      <td>cid_738;chr1,44765193,44765227,-</td>\n",
       "      <td>positive_test</td>\n",
       "      <td>uuugaacauuucucaccuuccuaggcccauuugcuugggccuuucu...</td>\n",
       "    </tr>\n",
       "    <tr>\n",
       "      <th>4</th>\n",
       "      <td>cid_22458;chr8,128991034,128991066,+</td>\n",
       "      <td>positive_test</td>\n",
       "      <td>acaccuggcuaauuuuuuugugguuuuaguagagaugagguuucac...</td>\n",
       "    </tr>\n",
       "  </tbody>\n",
       "</table>\n",
       "</div>"
      ],
      "text/plain": [
       "                                     ID sequence_identity  \\\n",
       "0    cid_24084;chrX,53680075,53680107,-     positive_test   \n",
       "1    cid_6339;chr13,92163497,92163529,+     positive_test   \n",
       "2    cid_7047;chr14,32590369,32590406,+     positive_test   \n",
       "3      cid_738;chr1,44765193,44765227,-     positive_test   \n",
       "4  cid_22458;chr8,128991034,128991066,+     positive_test   \n",
       "\n",
       "                                            sequence  \n",
       "0  ugugaggcaauugcuuagcauaguaucuggcacauaaguuaguuca...  \n",
       "1  aaauuugaguuuguaguuaaaugauugucucagaagcauuuccuuu...  \n",
       "2  uuuuuuuuuuuuuuuuuuuuggagacaggguucucucucuaacacc...  \n",
       "3  uuugaacauuucucaccuuccuaggcccauuugcuugggccuuucu...  \n",
       "4  acaccuggcuaauuuuuuugugguuuuaguagagaugagguuucac...  "
      ]
     },
     "execution_count": 20,
     "metadata": {},
     "output_type": "execute_result"
    }
   ],
   "source": [
    "hnrnpc.head()"
   ]
  },
  {
   "cell_type": "code",
   "execution_count": 21,
   "id": "c473e5f6",
   "metadata": {},
   "outputs": [
    {
     "name": "stdout",
     "output_type": "stream",
     "text": [
      "<class 'pandas.core.frame.DataFrame'>\n",
      "Int64Index: 42266 entries, 0 to 169063\n",
      "Data columns (total 3 columns):\n",
      " #   Column             Non-Null Count  Dtype \n",
      "---  ------             --------------  ----- \n",
      " 0   ID                 42266 non-null  object\n",
      " 1   sequence_identity  42266 non-null  object\n",
      " 2   sequence           42266 non-null  object\n",
      "dtypes: object(3)\n",
      "memory usage: 1.3+ MB\n"
     ]
    }
   ],
   "source": [
    "hnrnpc.info()"
   ]
  },
  {
   "cell_type": "code",
   "execution_count": 22,
   "id": "ed4eca04",
   "metadata": {},
   "outputs": [],
   "source": [
    "hnrnpc['seq_len'] = [len(seq) for seq in hnrnpc['sequence']]"
   ]
  },
  {
   "cell_type": "code",
   "execution_count": 23,
   "id": "6759c8c4",
   "metadata": {},
   "outputs": [
    {
     "data": {
      "image/png": "[encoded data removed]",
      "text/plain": [
       "<Figure size 432x288 with 1 Axes>"
      ]
     },
     "metadata": {
      "needs_background": "light"
     },
     "output_type": "display_data"
    }
   ],
   "source": [
    "hnrnpc.seq_len.hist()\n",
    "plt.show()"
   ]
  },
  {
   "cell_type": "code",
   "execution_count": 24,
   "id": "f49d34b9",
   "metadata": {},
   "outputs": [
    {
     "data": {
      "text/html": [
       "<div>\n",
       "<style scoped>\n",
       "    .dataframe tbody tr th:only-of-type {\n",
       "        vertical-align: middle;\n",
       "    }\n",
       "\n",
       "    .dataframe tbody tr th {\n",
       "        vertical-align: top;\n",
       "    }\n",
       "\n",
       "    .dataframe thead th {\n",
       "        text-align: right;\n",
       "    }\n",
       "</style>\n",
       "<table border=\"1\" class=\"dataframe\">\n",
       "  <thead>\n",
       "    <tr style=\"text-align: right;\">\n",
       "      <th></th>\n",
       "      <th>ID</th>\n",
       "      <th>sequence_identity</th>\n",
       "      <th>sequence</th>\n",
       "    </tr>\n",
       "  </thead>\n",
       "  <tbody>\n",
       "    <tr>\n",
       "      <th>0</th>\n",
       "      <td>CID_002575;chr1,156283921,156283954,-</td>\n",
       "      <td>positive_test</td>\n",
       "      <td>cuuucaugauuuccuugauuggcucugucauaaauccuacgaaguc...</td>\n",
       "    </tr>\n",
       "    <tr>\n",
       "      <th>1</th>\n",
       "      <td>CID_005459;chr10,96368133,96368162,+</td>\n",
       "      <td>positive_test</td>\n",
       "      <td>guuugaggauaaaugaggucuaaagacaguaugaacuuguuaauaa...</td>\n",
       "    </tr>\n",
       "    <tr>\n",
       "      <th>2</th>\n",
       "      <td>CID_030395;chr5,145493419,145493445,-</td>\n",
       "      <td>positive_test</td>\n",
       "      <td>ucagaaccuuaggcuggaccuaaauagauugauuucauuucuaacc...</td>\n",
       "    </tr>\n",
       "    <tr>\n",
       "      <th>3</th>\n",
       "      <td>CID_009617;chr12,98941568,98941613,+</td>\n",
       "      <td>positive_test</td>\n",
       "      <td>aggagucuuuuucaucuaaauauguuccuaaguauguucccuuggc...</td>\n",
       "    </tr>\n",
       "    <tr>\n",
       "      <th>4</th>\n",
       "      <td>CID_035058;chr8,614716,614750,-</td>\n",
       "      <td>positive_test</td>\n",
       "      <td>caaauauucagaauugagccacuguguugccauacugauuauguaa...</td>\n",
       "    </tr>\n",
       "  </tbody>\n",
       "</table>\n",
       "</div>"
      ],
      "text/plain": [
       "                                      ID sequence_identity  \\\n",
       "0  CID_002575;chr1,156283921,156283954,-     positive_test   \n",
       "1   CID_005459;chr10,96368133,96368162,+     positive_test   \n",
       "2  CID_030395;chr5,145493419,145493445,-     positive_test   \n",
       "3   CID_009617;chr12,98941568,98941613,+     positive_test   \n",
       "4        CID_035058;chr8,614716,614750,-     positive_test   \n",
       "\n",
       "                                            sequence  \n",
       "0  cuuucaugauuuccuugauuggcucugucauaaauccuacgaaguc...  \n",
       "1  guuugaggauaaaugaggucuaaagacaguaugaacuuguuaauaa...  \n",
       "2  ucagaaccuuaggcuggaccuaaauagauugauuucauuucuaacc...  \n",
       "3  aggagucuuuuucaucuaaauauguuccuaaguauguucccuuggc...  \n",
       "4  caaauauucagaauugagccacuguguugccauacugauuauguaa...  "
      ]
     },
     "execution_count": 24,
     "metadata": {},
     "output_type": "execute_result"
    }
   ],
   "source": [
    "elavl1a = format_df_from_fastas(data_dir, fasta_files[2])\n",
    "elavl1a.head()"
   ]
  },
  {
   "cell_type": "code",
   "execution_count": 25,
   "id": "a4239142",
   "metadata": {},
   "outputs": [
    {
     "name": "stdout",
     "output_type": "stream",
     "text": [
      "<class 'pandas.core.frame.DataFrame'>\n",
      "Int64Index: 52249 entries, 0 to 208995\n",
      "Data columns (total 3 columns):\n",
      " #   Column             Non-Null Count  Dtype \n",
      "---  ------             --------------  ----- \n",
      " 0   ID                 52249 non-null  object\n",
      " 1   sequence_identity  52249 non-null  object\n",
      " 2   sequence           52249 non-null  object\n",
      "dtypes: object(3)\n",
      "memory usage: 1.6+ MB\n"
     ]
    }
   ],
   "source": [
    "elavl1a.info()"
   ]
  },
  {
   "cell_type": "code",
   "execution_count": 26,
   "id": "cc6d2c71",
   "metadata": {},
   "outputs": [
    {
     "data": {
      "text/html": [
       "<div>\n",
       "<style scoped>\n",
       "    .dataframe tbody tr th:only-of-type {\n",
       "        vertical-align: middle;\n",
       "    }\n",
       "\n",
       "    .dataframe tbody tr th {\n",
       "        vertical-align: top;\n",
       "    }\n",
       "\n",
       "    .dataframe thead th {\n",
       "        text-align: right;\n",
       "    }\n",
       "</style>\n",
       "<table border=\"1\" class=\"dataframe\">\n",
       "  <thead>\n",
       "    <tr style=\"text-align: right;\">\n",
       "      <th></th>\n",
       "      <th>ID</th>\n",
       "      <th>sequence_identity</th>\n",
       "      <th>sequence</th>\n",
       "    </tr>\n",
       "  </thead>\n",
       "  <tbody>\n",
       "    <tr>\n",
       "      <th>0</th>\n",
       "      <td>cid_42757;chr17,3597959,3598005,-</td>\n",
       "      <td>positive_test</td>\n",
       "      <td>cccuggccuucccacaguguaauuauugggcuuauuugggggauca...</td>\n",
       "    </tr>\n",
       "    <tr>\n",
       "      <th>1</th>\n",
       "      <td>cid_97060;chr7,11110307,11110352,+</td>\n",
       "      <td>positive_test</td>\n",
       "      <td>auuugggcauauuuucuucuuccuucuaagccuacaucaguauuua...</td>\n",
       "    </tr>\n",
       "    <tr>\n",
       "      <th>2</th>\n",
       "      <td>cid_65845;chr20,42339963,42340033,+</td>\n",
       "      <td>positive_test</td>\n",
       "      <td>aggcuguugaucucugagcuucuguuucuaccugcuuaaaaugacg...</td>\n",
       "    </tr>\n",
       "    <tr>\n",
       "      <th>3</th>\n",
       "      <td>cid_91509;chr6,19568120,19568156,-</td>\n",
       "      <td>positive_test</td>\n",
       "      <td>auaaauuugcuugcuuauagcuguuuucccccuagaaaguaagcuc...</td>\n",
       "    </tr>\n",
       "    <tr>\n",
       "      <th>4</th>\n",
       "      <td>cid_17170;chr11,19797628,19797682,+</td>\n",
       "      <td>positive_test</td>\n",
       "      <td>ucugaaaggaaaucaaguccugaaagguuuagguagggugacaagu...</td>\n",
       "    </tr>\n",
       "  </tbody>\n",
       "</table>\n",
       "</div>"
      ],
      "text/plain": [
       "                                    ID sequence_identity  \\\n",
       "0    cid_42757;chr17,3597959,3598005,-     positive_test   \n",
       "1   cid_97060;chr7,11110307,11110352,+     positive_test   \n",
       "2  cid_65845;chr20,42339963,42340033,+     positive_test   \n",
       "3   cid_91509;chr6,19568120,19568156,-     positive_test   \n",
       "4  cid_17170;chr11,19797628,19797682,+     positive_test   \n",
       "\n",
       "                                            sequence  \n",
       "0  cccuggccuucccacaguguaauuauugggcuuauuugggggauca...  \n",
       "1  auuugggcauauuuucuucuuccuucuaagccuacaucaguauuua...  \n",
       "2  aggcuguugaucucugagcuucuguuucuaccugcuuaaaaugacg...  \n",
       "3  auaaauuugcuugcuuauagcuguuuucccccuagaaaguaagcuc...  \n",
       "4  ucugaaaggaaaucaaguccugaaagguuuagguagggugacaagu...  "
      ]
     },
     "execution_count": 26,
     "metadata": {},
     "output_type": "execute_result"
    }
   ],
   "source": [
    "tdp43 = format_df_from_fastas(data_dir, fasta_files[3])\n",
    "tdp43.head()"
   ]
  },
  {
   "cell_type": "code",
   "execution_count": 27,
   "id": "dd380746",
   "metadata": {},
   "outputs": [
    {
     "name": "stdout",
     "output_type": "stream",
     "text": [
      "<class 'pandas.core.frame.DataFrame'>\n",
      "Int64Index: 168109 entries, 0 to 672435\n",
      "Data columns (total 3 columns):\n",
      " #   Column             Non-Null Count   Dtype \n",
      "---  ------             --------------   ----- \n",
      " 0   ID                 168109 non-null  object\n",
      " 1   sequence_identity  168109 non-null  object\n",
      " 2   sequence           168109 non-null  object\n",
      "dtypes: object(3)\n",
      "memory usage: 5.1+ MB\n"
     ]
    }
   ],
   "source": [
    "tdp43.info()"
   ]
  },
  {
   "cell_type": "code",
   "execution_count": 28,
   "id": "2bfd1a58",
   "metadata": {},
   "outputs": [
    {
     "data": {
      "text/html": [
       "<div>\n",
       "<style scoped>\n",
       "    .dataframe tbody tr th:only-of-type {\n",
       "        vertical-align: middle;\n",
       "    }\n",
       "\n",
       "    .dataframe tbody tr th {\n",
       "        vertical-align: top;\n",
       "    }\n",
       "\n",
       "    .dataframe thead th {\n",
       "        text-align: right;\n",
       "    }\n",
       "</style>\n",
       "<table border=\"1\" class=\"dataframe\">\n",
       "  <thead>\n",
       "    <tr style=\"text-align: right;\">\n",
       "      <th></th>\n",
       "      <th>ID</th>\n",
       "      <th>sequence_identity</th>\n",
       "      <th>sequence</th>\n",
       "    </tr>\n",
       "  </thead>\n",
       "  <tbody>\n",
       "    <tr>\n",
       "      <th>0</th>\n",
       "      <td>cid_822;chr1,31501807,31501871,-</td>\n",
       "      <td>positive_test</td>\n",
       "      <td>auuaaauuaaaaaguaugagaaauagcuaacauaauucucaugaug...</td>\n",
       "    </tr>\n",
       "    <tr>\n",
       "      <th>1</th>\n",
       "      <td>cid_8722;chr11,61919476,61919533,+</td>\n",
       "      <td>positive_test</td>\n",
       "      <td>auaucuucaagaagagcaagccccgcuaucacaagcgcaccagcuc...</td>\n",
       "    </tr>\n",
       "    <tr>\n",
       "      <th>2</th>\n",
       "      <td>cid_25818;chr2,96858720,96858758,-</td>\n",
       "      <td>positive_test</td>\n",
       "      <td>auuucuuuaguauccaauguacucacgggauuauguuuauguucgg...</td>\n",
       "    </tr>\n",
       "    <tr>\n",
       "      <th>3</th>\n",
       "      <td>cid_47473;chr8,138917864,138917895,+</td>\n",
       "      <td>positive_test</td>\n",
       "      <td>uugauuuuucuguuuagagaaaugaggacaaaaacaugaacuuaau...</td>\n",
       "    </tr>\n",
       "    <tr>\n",
       "      <th>4</th>\n",
       "      <td>cid_15287;chr14,53385787,53385854,-</td>\n",
       "      <td>positive_test</td>\n",
       "      <td>uuggaccuuagauaaguaugguauucaggcagaugcuaagcuucag...</td>\n",
       "    </tr>\n",
       "  </tbody>\n",
       "</table>\n",
       "</div>"
      ],
      "text/plain": [
       "                                     ID sequence_identity  \\\n",
       "0      cid_822;chr1,31501807,31501871,-     positive_test   \n",
       "1    cid_8722;chr11,61919476,61919533,+     positive_test   \n",
       "2    cid_25818;chr2,96858720,96858758,-     positive_test   \n",
       "3  cid_47473;chr8,138917864,138917895,+     positive_test   \n",
       "4   cid_15287;chr14,53385787,53385854,-     positive_test   \n",
       "\n",
       "                                            sequence  \n",
       "0  auuaaauuaaaaaguaugagaaauagcuaacauaauucucaugaug...  \n",
       "1  auaucuucaagaagagcaagccccgcuaucacaagcgcaccagcuc...  \n",
       "2  auuucuuuaguauccaauguacucacgggauuauguuuauguucgg...  \n",
       "3  uugauuuuucuguuuagagaaaugaggacaaaaacaugaacuuaau...  \n",
       "4  uuggaccuuagauaaguaugguauucaggcagaugcuaagcuucag...  "
      ]
     },
     "execution_count": 28,
     "metadata": {},
     "output_type": "execute_result"
    }
   ],
   "source": [
    "tial1 = format_df_from_fastas(data_dir, fasta_files[4])\n",
    "tial1.head()"
   ]
  },
  {
   "cell_type": "code",
   "execution_count": 29,
   "id": "895ca2bf",
   "metadata": {},
   "outputs": [
    {
     "name": "stdout",
     "output_type": "stream",
     "text": [
      "<class 'pandas.core.frame.DataFrame'>\n",
      "Int64Index: 79984 entries, 0 to 319935\n",
      "Data columns (total 3 columns):\n",
      " #   Column             Non-Null Count  Dtype \n",
      "---  ------             --------------  ----- \n",
      " 0   ID                 79984 non-null  object\n",
      " 1   sequence_identity  79984 non-null  object\n",
      " 2   sequence           79984 non-null  object\n",
      "dtypes: object(3)\n",
      "memory usage: 2.4+ MB\n"
     ]
    }
   ],
   "source": [
    "tial1.info()"
   ]
  },
  {
   "cell_type": "markdown",
   "id": "518ecd70",
   "metadata": {},
   "source": [
    "We can see that the five datasets are all very large. \n",
    "It is important to avoid data leakage that we remove sequences with greater than 80% sequence similarity. We will perform this with cd-hit-est and reimport the sequences. "
   ]
  },
  {
   "cell_type": "code",
   "execution_count": 30,
   "id": "445c7f1c",
   "metadata": {},
   "outputs": [],
   "source": [
    "#five dataframes:\n",
    "    #ago1234\n",
    "    #hnrnpc\n",
    "    #elavl1a\n",
    "    #tdp43\n",
    "    #tial1"
   ]
  },
  {
   "cell_type": "code",
   "execution_count": 31,
   "id": "41d61521",
   "metadata": {},
   "outputs": [],
   "source": [
    "def write_seqs_to_file(ids, seqs, filename):\n",
    "    lines = []\n",
    "    for seq_id, seq in zip(ids, seqs):\n",
    "        lines.append(f'>{seq_id} \\n')\n",
    "        lines.append(f'{seq} \\n')\n",
    "        lines.append('\\n')\n",
    "    with open(filename, 'w') as f:\n",
    "        f.writelines(lines)"
   ]
  },
  {
   "cell_type": "code",
   "execution_count": 32,
   "id": "fb3bf241",
   "metadata": {},
   "outputs": [],
   "source": [
    "dataframes = [ago1234, hnrnpc, elavl1a, tdp43, tial1]\n",
    "names = ['ago1234', 'hnrnpc', 'elavl1a', 'tdp43', 'tial1']\n",
    "for df, name in zip(dataframes, names):\n",
    "    write_seqs_to_file(df['ID'].to_list(), df['sequence'].to_list(), \n",
    "                   f'../data/intermediate/{name}.fasta')"
   ]
  },
  {
   "cell_type": "code",
   "execution_count": 33,
   "id": "f4a3e73c",
   "metadata": {},
   "outputs": [],
   "source": [
    "#for ago1234, the longest sequence is 375 and the shortest is 61\n",
    "#could use a global CNN with eternafold punpaired predictions since eternafold can handle a window size of 375\n",
    "#or can divide into windows of size 100"
   ]
  },
  {
   "cell_type": "markdown",
   "id": "5c8ed374",
   "metadata": {},
   "source": [
    "Now I will add more descriptive rows. "
   ]
  },
  {
   "cell_type": "markdown",
   "id": "57183332",
   "metadata": {},
   "source": [
    "ago1234.head()"
   ]
  },
  {
   "cell_type": "code",
   "execution_count": 34,
   "id": "9a618cfc",
   "metadata": {},
   "outputs": [],
   "source": [
    "#now I want to take the column 'sequence_identity' and use it to create another column which answers \n",
    "#binarily whether or not the RNA sequence is a binding one "
   ]
  },
  {
   "cell_type": "code",
   "execution_count": 35,
   "id": "45b1cfcf",
   "metadata": {},
   "outputs": [],
   "source": [
    "rbp_binding = []\n",
    "for index,row in ago1234.iterrows():\n",
    "    seq_identity = row['sequence_identity'].split('_')\n",
    "    if seq_identity[0] == 'positive':\n",
    "        rbp_binding.append(1)\n",
    "    elif seq_identity[0] == 'negative':\n",
    "        rbp_binding.append(0)\n",
    "    else:\n",
    "        print('error')\n",
    "    #print(seq_identity[0])"
   ]
  },
  {
   "cell_type": "code",
   "execution_count": 36,
   "id": "e539d5b7",
   "metadata": {},
   "outputs": [],
   "source": [
    "ago1234['RBP_binding'] = rbp_binding"
   ]
  },
  {
   "cell_type": "code",
   "execution_count": 37,
   "id": "6b713921",
   "metadata": {},
   "outputs": [
    {
     "data": {
      "text/html": [
       "<div>\n",
       "<style scoped>\n",
       "    .dataframe tbody tr th:only-of-type {\n",
       "        vertical-align: middle;\n",
       "    }\n",
       "\n",
       "    .dataframe tbody tr th {\n",
       "        vertical-align: top;\n",
       "    }\n",
       "\n",
       "    .dataframe thead th {\n",
       "        text-align: right;\n",
       "    }\n",
       "</style>\n",
       "<table border=\"1\" class=\"dataframe\">\n",
       "  <thead>\n",
       "    <tr style=\"text-align: right;\">\n",
       "      <th></th>\n",
       "      <th>ID</th>\n",
       "      <th>sequence_identity</th>\n",
       "      <th>sequence</th>\n",
       "      <th>RBP_binding</th>\n",
       "    </tr>\n",
       "  </thead>\n",
       "  <tbody>\n",
       "    <tr>\n",
       "      <th>0</th>\n",
       "      <td>CID_041533;chrX,47028785,47028819,+</td>\n",
       "      <td>positive_test</td>\n",
       "      <td>gaacacaucaccugggccucuugcaccuuuuagaaagggcaaccuu...</td>\n",
       "      <td>1</td>\n",
       "    </tr>\n",
       "    <tr>\n",
       "      <th>1</th>\n",
       "      <td>CID_014973;chr15,90774588,90774613,-</td>\n",
       "      <td>positive_test</td>\n",
       "      <td>guccuguggcguuuguucuccuaggccaaccccuucaaggagcgaa...</td>\n",
       "      <td>1</td>\n",
       "    </tr>\n",
       "    <tr>\n",
       "      <th>2</th>\n",
       "      <td>CID_015737;chr16,30959327,30959347,+</td>\n",
       "      <td>positive_test</td>\n",
       "      <td>ccuucccccugacccugacuccuugaacgucacugaaaacggcagc...</td>\n",
       "      <td>1</td>\n",
       "    </tr>\n",
       "    <tr>\n",
       "      <th>3</th>\n",
       "      <td>CID_025246;chr2,227661131,227661173,-</td>\n",
       "      <td>positive_test</td>\n",
       "      <td>ugccucaccccaaacccccaguggagagcagcggugguaagcucuu...</td>\n",
       "      <td>1</td>\n",
       "    </tr>\n",
       "    <tr>\n",
       "      <th>4</th>\n",
       "      <td>CID_009003;chr12,6347000,6347052,+</td>\n",
       "      <td>positive_test</td>\n",
       "      <td>gacccaugucucucccuuucccucagccuuccuucagaucaaacca...</td>\n",
       "      <td>1</td>\n",
       "    </tr>\n",
       "  </tbody>\n",
       "</table>\n",
       "</div>"
      ],
      "text/plain": [
       "                                      ID sequence_identity  \\\n",
       "0    CID_041533;chrX,47028785,47028819,+     positive_test   \n",
       "1   CID_014973;chr15,90774588,90774613,-     positive_test   \n",
       "2   CID_015737;chr16,30959327,30959347,+     positive_test   \n",
       "3  CID_025246;chr2,227661131,227661173,-     positive_test   \n",
       "4     CID_009003;chr12,6347000,6347052,+     positive_test   \n",
       "\n",
       "                                            sequence  RBP_binding  \n",
       "0  gaacacaucaccugggccucuugcaccuuuuagaaagggcaaccuu...            1  \n",
       "1  guccuguggcguuuguucuccuaggccaaccccuucaaggagcgaa...            1  \n",
       "2  ccuucccccugacccugacuccuugaacgucacugaaaacggcagc...            1  \n",
       "3  ugccucaccccaaacccccaguggagagcagcggugguaagcucuu...            1  \n",
       "4  gacccaugucucucccuuucccucagccuuccuucagaucaaacca...            1  "
      ]
     },
     "execution_count": 37,
     "metadata": {},
     "output_type": "execute_result"
    }
   ],
   "source": [
    "ago1234.head()"
   ]
  },
  {
   "cell_type": "code",
   "execution_count": 38,
   "id": "474b87d3",
   "metadata": {},
   "outputs": [
    {
     "name": "stdout",
     "output_type": "stream",
     "text": [
      "<class 'pandas.core.frame.DataFrame'>\n",
      "Int64Index: 69212 entries, 0 to 276847\n",
      "Data columns (total 4 columns):\n",
      " #   Column             Non-Null Count  Dtype \n",
      "---  ------             --------------  ----- \n",
      " 0   ID                 69212 non-null  object\n",
      " 1   sequence_identity  69212 non-null  object\n",
      " 2   sequence           69212 non-null  object\n",
      " 3   RBP_binding        69212 non-null  int64 \n",
      "dtypes: int64(1), object(3)\n",
      "memory usage: 2.6+ MB\n"
     ]
    }
   ],
   "source": [
    "ago1234.info()"
   ]
  },
  {
   "cell_type": "code",
   "execution_count": 39,
   "id": "f13423a9",
   "metadata": {},
   "outputs": [],
   "source": [
    "ago1234['seq_len'] = [len(seq) for seq in ago1234['sequence']]"
   ]
  },
  {
   "cell_type": "code",
   "execution_count": 40,
   "id": "1a16ecd3",
   "metadata": {},
   "outputs": [
    {
     "data": {
      "text/html": [
       "<div>\n",
       "<style scoped>\n",
       "    .dataframe tbody tr th:only-of-type {\n",
       "        vertical-align: middle;\n",
       "    }\n",
       "\n",
       "    .dataframe tbody tr th {\n",
       "        vertical-align: top;\n",
       "    }\n",
       "\n",
       "    .dataframe thead th {\n",
       "        text-align: right;\n",
       "    }\n",
       "</style>\n",
       "<table border=\"1\" class=\"dataframe\">\n",
       "  <thead>\n",
       "    <tr style=\"text-align: right;\">\n",
       "      <th></th>\n",
       "      <th>ID</th>\n",
       "      <th>sequence_identity</th>\n",
       "      <th>sequence</th>\n",
       "      <th>RBP_binding</th>\n",
       "      <th>seq_len</th>\n",
       "    </tr>\n",
       "  </thead>\n",
       "  <tbody>\n",
       "    <tr>\n",
       "      <th>0</th>\n",
       "      <td>CID_041533;chrX,47028785,47028819,+</td>\n",
       "      <td>positive_test</td>\n",
       "      <td>gaacacaucaccugggccucuugcaccuuuuagaaagggcaaccuu...</td>\n",
       "      <td>1</td>\n",
       "      <td>334</td>\n",
       "    </tr>\n",
       "    <tr>\n",
       "      <th>1</th>\n",
       "      <td>CID_014973;chr15,90774588,90774613,-</td>\n",
       "      <td>positive_test</td>\n",
       "      <td>guccuguggcguuuguucuccuaggccaaccccuucaaggagcgaa...</td>\n",
       "      <td>1</td>\n",
       "      <td>325</td>\n",
       "    </tr>\n",
       "    <tr>\n",
       "      <th>2</th>\n",
       "      <td>CID_015737;chr16,30959327,30959347,+</td>\n",
       "      <td>positive_test</td>\n",
       "      <td>ccuucccccugacccugacuccuugaacgucacugaaaacggcagc...</td>\n",
       "      <td>1</td>\n",
       "      <td>320</td>\n",
       "    </tr>\n",
       "    <tr>\n",
       "      <th>3</th>\n",
       "      <td>CID_025246;chr2,227661131,227661173,-</td>\n",
       "      <td>positive_test</td>\n",
       "      <td>ugccucaccccaaacccccaguggagagcagcggugguaagcucuu...</td>\n",
       "      <td>1</td>\n",
       "      <td>342</td>\n",
       "    </tr>\n",
       "    <tr>\n",
       "      <th>4</th>\n",
       "      <td>CID_009003;chr12,6347000,6347052,+</td>\n",
       "      <td>positive_test</td>\n",
       "      <td>gacccaugucucucccuuucccucagccuuccuucagaucaaacca...</td>\n",
       "      <td>1</td>\n",
       "      <td>352</td>\n",
       "    </tr>\n",
       "  </tbody>\n",
       "</table>\n",
       "</div>"
      ],
      "text/plain": [
       "                                      ID sequence_identity  \\\n",
       "0    CID_041533;chrX,47028785,47028819,+     positive_test   \n",
       "1   CID_014973;chr15,90774588,90774613,-     positive_test   \n",
       "2   CID_015737;chr16,30959327,30959347,+     positive_test   \n",
       "3  CID_025246;chr2,227661131,227661173,-     positive_test   \n",
       "4     CID_009003;chr12,6347000,6347052,+     positive_test   \n",
       "\n",
       "                                            sequence  RBP_binding  seq_len  \n",
       "0  gaacacaucaccugggccucuugcaccuuuuagaaagggcaaccuu...            1      334  \n",
       "1  guccuguggcguuuguucuccuaggccaaccccuucaaggagcgaa...            1      325  \n",
       "2  ccuucccccugacccugacuccuugaacgucacugaaaacggcagc...            1      320  \n",
       "3  ugccucaccccaaacccccaguggagagcagcggugguaagcucuu...            1      342  \n",
       "4  gacccaugucucucccuuucccucagccuuccuucagaucaaacca...            1      352  "
      ]
     },
     "execution_count": 40,
     "metadata": {},
     "output_type": "execute_result"
    }
   ],
   "source": [
    "ago1234.head()"
   ]
  },
  {
   "cell_type": "code",
   "execution_count": 41,
   "id": "696c8915",
   "metadata": {},
   "outputs": [
    {
     "data": {
      "image/png": "[encoded data removed]",
      "text/plain": [
       "<Figure size 432x288 with 1 Axes>"
      ]
     },
     "metadata": {
      "needs_background": "light"
     },
     "output_type": "display_data"
    }
   ],
   "source": [
    "ago1234.seq_len.hist()\n",
    "plt.xlabel('Sequence Length (nucleotides)')\n",
    "plt.ylabel('Count')\n",
    "plt.title('PARCLIP_AGO1234 Dataset')\n",
    "plt.show()"
   ]
  },
  {
   "cell_type": "code",
   "execution_count": 42,
   "id": "f602d963",
   "metadata": {},
   "outputs": [
    {
     "data": {
      "text/plain": [
       "1    37402\n",
       "0    31810\n",
       "Name: RBP_binding, dtype: int64"
      ]
     },
     "execution_count": 42,
     "metadata": {},
     "output_type": "execute_result"
    }
   ],
   "source": [
    "ago1234.RBP_binding.value_counts()"
   ]
  },
  {
   "cell_type": "markdown",
   "id": "99e21966",
   "metadata": {},
   "source": [
    "There seem to be roughly equal numbers of sequences that bind/do not bind. This makes sense with what we know. \n",
    "Let's now repeat these operations with the other dataframes. "
   ]
  },
  {
   "cell_type": "code",
   "execution_count": 43,
   "id": "607a68d8",
   "metadata": {},
   "outputs": [],
   "source": [
    "def add_rbp_binding_col(df):\n",
    "    rbp_binding = []\n",
    "    for index,row in df.iterrows():\n",
    "        seq_identity = row['sequence_identity'].split('_')\n",
    "        if seq_identity[0] == 'positive':\n",
    "            rbp_binding.append(1)\n",
    "        elif seq_identity[0] == 'negative':\n",
    "            rbp_binding.append(0)\n",
    "        else:\n",
    "            print('error')\n",
    "    df['RBP_binding'] = rbp_binding\n",
    "    return df\n",
    "    #print(seq_identity[0])"
   ]
  },
  {
   "cell_type": "code",
   "execution_count": 44,
   "id": "1759baba",
   "metadata": {},
   "outputs": [],
   "source": [
    "#five dataframes:\n",
    "    #ago1234\n",
    "    #hnrnpc\n",
    "    #elavl1a\n",
    "    #tdp43\n",
    "    #tial1"
   ]
  },
  {
   "cell_type": "code",
   "execution_count": 45,
   "id": "16051381",
   "metadata": {},
   "outputs": [],
   "source": [
    "hnrnpc = add_rbp_binding_col(hnrnpc)\n",
    "hnrnpc['seq_len'] = [len(seq) for seq in hnrnpc['sequence']]"
   ]
  },
  {
   "cell_type": "code",
   "execution_count": 46,
   "id": "eda416fb",
   "metadata": {},
   "outputs": [
    {
     "data": {
      "text/html": [
       "<div>\n",
       "<style scoped>\n",
       "    .dataframe tbody tr th:only-of-type {\n",
       "        vertical-align: middle;\n",
       "    }\n",
       "\n",
       "    .dataframe tbody tr th {\n",
       "        vertical-align: top;\n",
       "    }\n",
       "\n",
       "    .dataframe thead th {\n",
       "        text-align: right;\n",
       "    }\n",
       "</style>\n",
       "<table border=\"1\" class=\"dataframe\">\n",
       "  <thead>\n",
       "    <tr style=\"text-align: right;\">\n",
       "      <th></th>\n",
       "      <th>ID</th>\n",
       "      <th>sequence_identity</th>\n",
       "      <th>sequence</th>\n",
       "      <th>seq_len</th>\n",
       "      <th>RBP_binding</th>\n",
       "    </tr>\n",
       "  </thead>\n",
       "  <tbody>\n",
       "    <tr>\n",
       "      <th>0</th>\n",
       "      <td>cid_24084;chrX,53680075,53680107,-</td>\n",
       "      <td>positive_test</td>\n",
       "      <td>ugugaggcaauugcuuagcauaguaucuggcacauaaguuaguuca...</td>\n",
       "      <td>332</td>\n",
       "      <td>1</td>\n",
       "    </tr>\n",
       "    <tr>\n",
       "      <th>1</th>\n",
       "      <td>cid_6339;chr13,92163497,92163529,+</td>\n",
       "      <td>positive_test</td>\n",
       "      <td>aaauuugaguuuguaguuaaaugauugucucagaagcauuuccuuu...</td>\n",
       "      <td>332</td>\n",
       "      <td>1</td>\n",
       "    </tr>\n",
       "    <tr>\n",
       "      <th>2</th>\n",
       "      <td>cid_7047;chr14,32590369,32590406,+</td>\n",
       "      <td>positive_test</td>\n",
       "      <td>uuuuuuuuuuuuuuuuuuuuggagacaggguucucucucuaacacc...</td>\n",
       "      <td>337</td>\n",
       "      <td>1</td>\n",
       "    </tr>\n",
       "    <tr>\n",
       "      <th>3</th>\n",
       "      <td>cid_738;chr1,44765193,44765227,-</td>\n",
       "      <td>positive_test</td>\n",
       "      <td>uuugaacauuucucaccuuccuaggcccauuugcuugggccuuucu...</td>\n",
       "      <td>334</td>\n",
       "      <td>1</td>\n",
       "    </tr>\n",
       "    <tr>\n",
       "      <th>4</th>\n",
       "      <td>cid_22458;chr8,128991034,128991066,+</td>\n",
       "      <td>positive_test</td>\n",
       "      <td>acaccuggcuaauuuuuuugugguuuuaguagagaugagguuucac...</td>\n",
       "      <td>332</td>\n",
       "      <td>1</td>\n",
       "    </tr>\n",
       "  </tbody>\n",
       "</table>\n",
       "</div>"
      ],
      "text/plain": [
       "                                     ID sequence_identity  \\\n",
       "0    cid_24084;chrX,53680075,53680107,-     positive_test   \n",
       "1    cid_6339;chr13,92163497,92163529,+     positive_test   \n",
       "2    cid_7047;chr14,32590369,32590406,+     positive_test   \n",
       "3      cid_738;chr1,44765193,44765227,-     positive_test   \n",
       "4  cid_22458;chr8,128991034,128991066,+     positive_test   \n",
       "\n",
       "                                            sequence  seq_len  RBP_binding  \n",
       "0  ugugaggcaauugcuuagcauaguaucuggcacauaaguuaguuca...      332            1  \n",
       "1  aaauuugaguuuguaguuaaaugauugucucagaagcauuuccuuu...      332            1  \n",
       "2  uuuuuuuuuuuuuuuuuuuuggagacaggguucucucucuaacacc...      337            1  \n",
       "3  uuugaacauuucucaccuuccuaggcccauuugcuugggccuuucu...      334            1  \n",
       "4  acaccuggcuaauuuuuuugugguuuuaguagagaugagguuucac...      332            1  "
      ]
     },
     "execution_count": 46,
     "metadata": {},
     "output_type": "execute_result"
    }
   ],
   "source": [
    "hnrnpc.head()"
   ]
  },
  {
   "cell_type": "code",
   "execution_count": 47,
   "id": "39431648",
   "metadata": {},
   "outputs": [
    {
     "name": "stdout",
     "output_type": "stream",
     "text": [
      "<class 'pandas.core.frame.DataFrame'>\n",
      "Int64Index: 42266 entries, 0 to 169063\n",
      "Data columns (total 5 columns):\n",
      " #   Column             Non-Null Count  Dtype \n",
      "---  ------             --------------  ----- \n",
      " 0   ID                 42266 non-null  object\n",
      " 1   sequence_identity  42266 non-null  object\n",
      " 2   sequence           42266 non-null  object\n",
      " 3   seq_len            42266 non-null  int64 \n",
      " 4   RBP_binding        42266 non-null  int64 \n",
      "dtypes: int64(2), object(3)\n",
      "memory usage: 1.9+ MB\n"
     ]
    }
   ],
   "source": [
    "hnrnpc.info()"
   ]
  },
  {
   "cell_type": "code",
   "execution_count": 48,
   "id": "c4ec4bf3",
   "metadata": {},
   "outputs": [
    {
     "data": {
      "image/png": "[encoded data removed]",
      "text/plain": [
       "<Figure size 432x288 with 1 Axes>"
      ]
     },
     "metadata": {
      "needs_background": "light"
     },
     "output_type": "display_data"
    }
   ],
   "source": [
    "hnrnpc.seq_len.hist()\n",
    "plt.xlabel('Sequence Length (nucleotides)')\n",
    "plt.ylabel('Count')\n",
    "plt.title('ICLIP_HNRNPC Dataset')\n",
    "plt.show()"
   ]
  },
  {
   "cell_type": "code",
   "execution_count": 49,
   "id": "5e9b69d7",
   "metadata": {},
   "outputs": [
    {
     "data": {
      "text/plain": [
       "1    21972\n",
       "0    20294\n",
       "Name: RBP_binding, dtype: int64"
      ]
     },
     "execution_count": 49,
     "metadata": {},
     "output_type": "execute_result"
    }
   ],
   "source": [
    "hnrnpc.RBP_binding.value_counts()"
   ]
  },
  {
   "cell_type": "code",
   "execution_count": 50,
   "id": "1f1a911b",
   "metadata": {},
   "outputs": [],
   "source": [
    "elavl1a = add_rbp_binding_col(elavl1a)\n",
    "elavl1a['seq_len'] = [len(seq) for seq in elavl1a['sequence']]"
   ]
  },
  {
   "cell_type": "code",
   "execution_count": 51,
   "id": "9dc211a6",
   "metadata": {},
   "outputs": [
    {
     "data": {
      "text/html": [
       "<div>\n",
       "<style scoped>\n",
       "    .dataframe tbody tr th:only-of-type {\n",
       "        vertical-align: middle;\n",
       "    }\n",
       "\n",
       "    .dataframe tbody tr th {\n",
       "        vertical-align: top;\n",
       "    }\n",
       "\n",
       "    .dataframe thead th {\n",
       "        text-align: right;\n",
       "    }\n",
       "</style>\n",
       "<table border=\"1\" class=\"dataframe\">\n",
       "  <thead>\n",
       "    <tr style=\"text-align: right;\">\n",
       "      <th></th>\n",
       "      <th>ID</th>\n",
       "      <th>sequence_identity</th>\n",
       "      <th>sequence</th>\n",
       "      <th>RBP_binding</th>\n",
       "      <th>seq_len</th>\n",
       "    </tr>\n",
       "  </thead>\n",
       "  <tbody>\n",
       "    <tr>\n",
       "      <th>0</th>\n",
       "      <td>CID_002575;chr1,156283921,156283954,-</td>\n",
       "      <td>positive_test</td>\n",
       "      <td>cuuucaugauuuccuugauuggcucugucauaaauccuacgaaguc...</td>\n",
       "      <td>1</td>\n",
       "      <td>333</td>\n",
       "    </tr>\n",
       "    <tr>\n",
       "      <th>1</th>\n",
       "      <td>CID_005459;chr10,96368133,96368162,+</td>\n",
       "      <td>positive_test</td>\n",
       "      <td>guuugaggauaaaugaggucuaaagacaguaugaacuuguuaauaa...</td>\n",
       "      <td>1</td>\n",
       "      <td>329</td>\n",
       "    </tr>\n",
       "    <tr>\n",
       "      <th>2</th>\n",
       "      <td>CID_030395;chr5,145493419,145493445,-</td>\n",
       "      <td>positive_test</td>\n",
       "      <td>ucagaaccuuaggcuggaccuaaauagauugauuucauuucuaacc...</td>\n",
       "      <td>1</td>\n",
       "      <td>326</td>\n",
       "    </tr>\n",
       "    <tr>\n",
       "      <th>3</th>\n",
       "      <td>CID_009617;chr12,98941568,98941613,+</td>\n",
       "      <td>positive_test</td>\n",
       "      <td>aggagucuuuuucaucuaaauauguuccuaaguauguucccuuggc...</td>\n",
       "      <td>1</td>\n",
       "      <td>345</td>\n",
       "    </tr>\n",
       "    <tr>\n",
       "      <th>4</th>\n",
       "      <td>CID_035058;chr8,614716,614750,-</td>\n",
       "      <td>positive_test</td>\n",
       "      <td>caaauauucagaauugagccacuguguugccauacugauuauguaa...</td>\n",
       "      <td>1</td>\n",
       "      <td>334</td>\n",
       "    </tr>\n",
       "  </tbody>\n",
       "</table>\n",
       "</div>"
      ],
      "text/plain": [
       "                                      ID sequence_identity  \\\n",
       "0  CID_002575;chr1,156283921,156283954,-     positive_test   \n",
       "1   CID_005459;chr10,96368133,96368162,+     positive_test   \n",
       "2  CID_030395;chr5,145493419,145493445,-     positive_test   \n",
       "3   CID_009617;chr12,98941568,98941613,+     positive_test   \n",
       "4        CID_035058;chr8,614716,614750,-     positive_test   \n",
       "\n",
       "                                            sequence  RBP_binding  seq_len  \n",
       "0  cuuucaugauuuccuugauuggcucugucauaaauccuacgaaguc...            1      333  \n",
       "1  guuugaggauaaaugaggucuaaagacaguaugaacuuguuaauaa...            1      329  \n",
       "2  ucagaaccuuaggcuggaccuaaauagauugauuucauuucuaacc...            1      326  \n",
       "3  aggagucuuuuucaucuaaauauguuccuaaguauguucccuuggc...            1      345  \n",
       "4  caaauauucagaauugagccacuguguugccauacugauuauguaa...            1      334  "
      ]
     },
     "execution_count": 51,
     "metadata": {},
     "output_type": "execute_result"
    }
   ],
   "source": [
    "elavl1a.head()"
   ]
  },
  {
   "cell_type": "code",
   "execution_count": 52,
   "id": "0c81e3a8",
   "metadata": {},
   "outputs": [
    {
     "name": "stdout",
     "output_type": "stream",
     "text": [
      "<class 'pandas.core.frame.DataFrame'>\n",
      "Int64Index: 52249 entries, 0 to 208995\n",
      "Data columns (total 5 columns):\n",
      " #   Column             Non-Null Count  Dtype \n",
      "---  ------             --------------  ----- \n",
      " 0   ID                 52249 non-null  object\n",
      " 1   sequence_identity  52249 non-null  object\n",
      " 2   sequence           52249 non-null  object\n",
      " 3   RBP_binding        52249 non-null  int64 \n",
      " 4   seq_len            52249 non-null  int64 \n",
      "dtypes: int64(2), object(3)\n",
      "memory usage: 2.4+ MB\n"
     ]
    }
   ],
   "source": [
    "elavl1a.info()"
   ]
  },
  {
   "cell_type": "code",
   "execution_count": 53,
   "id": "daf6da5a",
   "metadata": {},
   "outputs": [
    {
     "data": {
      "image/png": "[encoded data removed]",
      "text/plain": [
       "<Figure size 432x288 with 1 Axes>"
      ]
     },
     "metadata": {
      "needs_background": "light"
     },
     "output_type": "display_data"
    }
   ],
   "source": [
    "elavl1a.seq_len.hist()\n",
    "plt.xlabel('Sequence Length (nucleotides)')\n",
    "plt.ylabel('Count')\n",
    "plt.title('PARCLIP_ELAVL1A Dataset')\n",
    "plt.show()"
   ]
  },
  {
   "cell_type": "code",
   "execution_count": 54,
   "id": "222732c3",
   "metadata": {},
   "outputs": [
    {
     "data": {
      "text/plain": [
       "1    27775\n",
       "0    24474\n",
       "Name: RBP_binding, dtype: int64"
      ]
     },
     "execution_count": 54,
     "metadata": {},
     "output_type": "execute_result"
    }
   ],
   "source": [
    "elavl1a.RBP_binding.value_counts()"
   ]
  },
  {
   "cell_type": "code",
   "execution_count": 55,
   "id": "89121113",
   "metadata": {},
   "outputs": [],
   "source": [
    "tdp43 = add_rbp_binding_col(tdp43)\n",
    "tdp43['seq_len'] = [len(seq) for seq in tdp43['sequence']]"
   ]
  },
  {
   "cell_type": "code",
   "execution_count": 56,
   "id": "4bc34b4c",
   "metadata": {},
   "outputs": [
    {
     "data": {
      "text/html": [
       "<div>\n",
       "<style scoped>\n",
       "    .dataframe tbody tr th:only-of-type {\n",
       "        vertical-align: middle;\n",
       "    }\n",
       "\n",
       "    .dataframe tbody tr th {\n",
       "        vertical-align: top;\n",
       "    }\n",
       "\n",
       "    .dataframe thead th {\n",
       "        text-align: right;\n",
       "    }\n",
       "</style>\n",
       "<table border=\"1\" class=\"dataframe\">\n",
       "  <thead>\n",
       "    <tr style=\"text-align: right;\">\n",
       "      <th></th>\n",
       "      <th>ID</th>\n",
       "      <th>sequence_identity</th>\n",
       "      <th>sequence</th>\n",
       "      <th>RBP_binding</th>\n",
       "      <th>seq_len</th>\n",
       "    </tr>\n",
       "  </thead>\n",
       "  <tbody>\n",
       "    <tr>\n",
       "      <th>0</th>\n",
       "      <td>cid_42757;chr17,3597959,3598005,-</td>\n",
       "      <td>positive_test</td>\n",
       "      <td>cccuggccuucccacaguguaauuauugggcuuauuugggggauca...</td>\n",
       "      <td>1</td>\n",
       "      <td>346</td>\n",
       "    </tr>\n",
       "    <tr>\n",
       "      <th>1</th>\n",
       "      <td>cid_97060;chr7,11110307,11110352,+</td>\n",
       "      <td>positive_test</td>\n",
       "      <td>auuugggcauauuuucuucuuccuucuaagccuacaucaguauuua...</td>\n",
       "      <td>1</td>\n",
       "      <td>345</td>\n",
       "    </tr>\n",
       "    <tr>\n",
       "      <th>2</th>\n",
       "      <td>cid_65845;chr20,42339963,42340033,+</td>\n",
       "      <td>positive_test</td>\n",
       "      <td>aggcuguugaucucugagcuucuguuucuaccugcuuaaaaugacg...</td>\n",
       "      <td>1</td>\n",
       "      <td>370</td>\n",
       "    </tr>\n",
       "    <tr>\n",
       "      <th>3</th>\n",
       "      <td>cid_91509;chr6,19568120,19568156,-</td>\n",
       "      <td>positive_test</td>\n",
       "      <td>auaaauuugcuugcuuauagcuguuuucccccuagaaaguaagcuc...</td>\n",
       "      <td>1</td>\n",
       "      <td>336</td>\n",
       "    </tr>\n",
       "    <tr>\n",
       "      <th>4</th>\n",
       "      <td>cid_17170;chr11,19797628,19797682,+</td>\n",
       "      <td>positive_test</td>\n",
       "      <td>ucugaaaggaaaucaaguccugaaagguuuagguagggugacaagu...</td>\n",
       "      <td>1</td>\n",
       "      <td>354</td>\n",
       "    </tr>\n",
       "  </tbody>\n",
       "</table>\n",
       "</div>"
      ],
      "text/plain": [
       "                                    ID sequence_identity  \\\n",
       "0    cid_42757;chr17,3597959,3598005,-     positive_test   \n",
       "1   cid_97060;chr7,11110307,11110352,+     positive_test   \n",
       "2  cid_65845;chr20,42339963,42340033,+     positive_test   \n",
       "3   cid_91509;chr6,19568120,19568156,-     positive_test   \n",
       "4  cid_17170;chr11,19797628,19797682,+     positive_test   \n",
       "\n",
       "                                            sequence  RBP_binding  seq_len  \n",
       "0  cccuggccuucccacaguguaauuauugggcuuauuugggggauca...            1      346  \n",
       "1  auuugggcauauuuucuucuuccuucuaagccuacaucaguauuua...            1      345  \n",
       "2  aggcuguugaucucugagcuucuguuucuaccugcuuaaaaugacg...            1      370  \n",
       "3  auaaauuugcuugcuuauagcuguuuucccccuagaaaguaagcuc...            1      336  \n",
       "4  ucugaaaggaaaucaaguccugaaagguuuagguagggugacaagu...            1      354  "
      ]
     },
     "execution_count": 56,
     "metadata": {},
     "output_type": "execute_result"
    }
   ],
   "source": [
    "tdp43.head()"
   ]
  },
  {
   "cell_type": "code",
   "execution_count": 57,
   "id": "815e8ebc",
   "metadata": {},
   "outputs": [
    {
     "name": "stdout",
     "output_type": "stream",
     "text": [
      "<class 'pandas.core.frame.DataFrame'>\n",
      "Int64Index: 168109 entries, 0 to 672435\n",
      "Data columns (total 5 columns):\n",
      " #   Column             Non-Null Count   Dtype \n",
      "---  ------             --------------   ----- \n",
      " 0   ID                 168109 non-null  object\n",
      " 1   sequence_identity  168109 non-null  object\n",
      " 2   sequence           168109 non-null  object\n",
      " 3   RBP_binding        168109 non-null  int64 \n",
      " 4   seq_len            168109 non-null  int64 \n",
      "dtypes: int64(2), object(3)\n",
      "memory usage: 7.7+ MB\n"
     ]
    }
   ],
   "source": [
    "tdp43.info()"
   ]
  },
  {
   "cell_type": "code",
   "execution_count": 58,
   "id": "6e05a094",
   "metadata": {},
   "outputs": [
    {
     "data": {
      "image/png": "[encoded data removed]",
      "text/plain": [
       "<Figure size 432x288 with 1 Axes>"
      ]
     },
     "metadata": {
      "needs_background": "light"
     },
     "output_type": "display_data"
    }
   ],
   "source": [
    "tdp43.seq_len.hist()\n",
    "plt.xlabel('Sequence Length (nucleotides)')\n",
    "plt.ylabel('Count')\n",
    "plt.title('ICLIP_TDP43 Dataset')\n",
    "plt.show()"
   ]
  },
  {
   "cell_type": "code",
   "execution_count": 59,
   "id": "4b1bf8aa",
   "metadata": {},
   "outputs": [
    {
     "data": {
      "text/plain": [
       "1    92530\n",
       "0    75579\n",
       "Name: RBP_binding, dtype: int64"
      ]
     },
     "execution_count": 59,
     "metadata": {},
     "output_type": "execute_result"
    }
   ],
   "source": [
    "tdp43.RBP_binding.value_counts()"
   ]
  },
  {
   "cell_type": "code",
   "execution_count": 60,
   "id": "51602218",
   "metadata": {},
   "outputs": [],
   "source": [
    "tial1 = add_rbp_binding_col(tial1)\n",
    "tial1['seq_len'] = [len(seq) for seq in tial1['sequence']]"
   ]
  },
  {
   "cell_type": "code",
   "execution_count": 61,
   "id": "ddf52b97",
   "metadata": {},
   "outputs": [
    {
     "data": {
      "text/html": [
       "<div>\n",
       "<style scoped>\n",
       "    .dataframe tbody tr th:only-of-type {\n",
       "        vertical-align: middle;\n",
       "    }\n",
       "\n",
       "    .dataframe tbody tr th {\n",
       "        vertical-align: top;\n",
       "    }\n",
       "\n",
       "    .dataframe thead th {\n",
       "        text-align: right;\n",
       "    }\n",
       "</style>\n",
       "<table border=\"1\" class=\"dataframe\">\n",
       "  <thead>\n",
       "    <tr style=\"text-align: right;\">\n",
       "      <th></th>\n",
       "      <th>ID</th>\n",
       "      <th>sequence_identity</th>\n",
       "      <th>sequence</th>\n",
       "      <th>RBP_binding</th>\n",
       "      <th>seq_len</th>\n",
       "    </tr>\n",
       "  </thead>\n",
       "  <tbody>\n",
       "    <tr>\n",
       "      <th>0</th>\n",
       "      <td>cid_822;chr1,31501807,31501871,-</td>\n",
       "      <td>positive_test</td>\n",
       "      <td>auuaaauuaaaaaguaugagaaauagcuaacauaauucucaugaug...</td>\n",
       "      <td>1</td>\n",
       "      <td>364</td>\n",
       "    </tr>\n",
       "    <tr>\n",
       "      <th>1</th>\n",
       "      <td>cid_8722;chr11,61919476,61919533,+</td>\n",
       "      <td>positive_test</td>\n",
       "      <td>auaucuucaagaagagcaagccccgcuaucacaagcgcaccagcuc...</td>\n",
       "      <td>1</td>\n",
       "      <td>357</td>\n",
       "    </tr>\n",
       "    <tr>\n",
       "      <th>2</th>\n",
       "      <td>cid_25818;chr2,96858720,96858758,-</td>\n",
       "      <td>positive_test</td>\n",
       "      <td>auuucuuuaguauccaauguacucacgggauuauguuuauguucgg...</td>\n",
       "      <td>1</td>\n",
       "      <td>338</td>\n",
       "    </tr>\n",
       "    <tr>\n",
       "      <th>3</th>\n",
       "      <td>cid_47473;chr8,138917864,138917895,+</td>\n",
       "      <td>positive_test</td>\n",
       "      <td>uugauuuuucuguuuagagaaaugaggacaaaaacaugaacuuaau...</td>\n",
       "      <td>1</td>\n",
       "      <td>331</td>\n",
       "    </tr>\n",
       "    <tr>\n",
       "      <th>4</th>\n",
       "      <td>cid_15287;chr14,53385787,53385854,-</td>\n",
       "      <td>positive_test</td>\n",
       "      <td>uuggaccuuagauaaguaugguauucaggcagaugcuaagcuucag...</td>\n",
       "      <td>1</td>\n",
       "      <td>367</td>\n",
       "    </tr>\n",
       "  </tbody>\n",
       "</table>\n",
       "</div>"
      ],
      "text/plain": [
       "                                     ID sequence_identity  \\\n",
       "0      cid_822;chr1,31501807,31501871,-     positive_test   \n",
       "1    cid_8722;chr11,61919476,61919533,+     positive_test   \n",
       "2    cid_25818;chr2,96858720,96858758,-     positive_test   \n",
       "3  cid_47473;chr8,138917864,138917895,+     positive_test   \n",
       "4   cid_15287;chr14,53385787,53385854,-     positive_test   \n",
       "\n",
       "                                            sequence  RBP_binding  seq_len  \n",
       "0  auuaaauuaaaaaguaugagaaauagcuaacauaauucucaugaug...            1      364  \n",
       "1  auaucuucaagaagagcaagccccgcuaucacaagcgcaccagcuc...            1      357  \n",
       "2  auuucuuuaguauccaauguacucacgggauuauguuuauguucgg...            1      338  \n",
       "3  uugauuuuucuguuuagagaaaugaggacaaaaacaugaacuuaau...            1      331  \n",
       "4  uuggaccuuagauaaguaugguauucaggcagaugcuaagcuucag...            1      367  "
      ]
     },
     "execution_count": 61,
     "metadata": {},
     "output_type": "execute_result"
    }
   ],
   "source": [
    "tial1.head()"
   ]
  },
  {
   "cell_type": "code",
   "execution_count": 62,
   "id": "3b9bf795",
   "metadata": {},
   "outputs": [
    {
     "name": "stdout",
     "output_type": "stream",
     "text": [
      "<class 'pandas.core.frame.DataFrame'>\n",
      "Int64Index: 79984 entries, 0 to 319935\n",
      "Data columns (total 5 columns):\n",
      " #   Column             Non-Null Count  Dtype \n",
      "---  ------             --------------  ----- \n",
      " 0   ID                 79984 non-null  object\n",
      " 1   sequence_identity  79984 non-null  object\n",
      " 2   sequence           79984 non-null  object\n",
      " 3   RBP_binding        79984 non-null  int64 \n",
      " 4   seq_len            79984 non-null  int64 \n",
      "dtypes: int64(2), object(3)\n",
      "memory usage: 3.7+ MB\n"
     ]
    }
   ],
   "source": [
    "tial1.info()"
   ]
  },
  {
   "cell_type": "code",
   "execution_count": 63,
   "id": "c294f4b9",
   "metadata": {},
   "outputs": [
    {
     "data": {
      "image/png": "[encoded data removed]",
      "text/plain": [
       "<Figure size 432x288 with 1 Axes>"
      ]
     },
     "metadata": {
      "needs_background": "light"
     },
     "output_type": "display_data"
    }
   ],
   "source": [
    "tial1.seq_len.hist()\n",
    "plt.xlabel('Sequence Length (nucleotides)')\n",
    "plt.ylabel('Count')\n",
    "plt.title('ICLIP_TIAL1 Dataset')\n",
    "plt.show()"
   ]
  },
  {
   "cell_type": "code",
   "execution_count": 64,
   "id": "9ec5b2bc",
   "metadata": {},
   "outputs": [
    {
     "data": {
      "text/plain": [
       "1    42832\n",
       "0    37152\n",
       "Name: RBP_binding, dtype: int64"
      ]
     },
     "execution_count": 64,
     "metadata": {},
     "output_type": "execute_result"
    }
   ],
   "source": [
    "tial1.RBP_binding.value_counts()"
   ]
  },
  {
   "cell_type": "code",
   "execution_count": 65,
   "id": "cf416a4a",
   "metadata": {},
   "outputs": [],
   "source": [
    "#five dataframes:\n",
    "    #ago1234\n",
    "    #hnrnpc\n",
    "    #elavl1a\n",
    "    #tdp43\n",
    "    #tial1"
   ]
  },
  {
   "cell_type": "code",
   "execution_count": 66,
   "id": "0e41408f",
   "metadata": {},
   "outputs": [],
   "source": [
    "ago1234.to_csv('../data/intermediate/ago1234.csv')"
   ]
  },
  {
   "cell_type": "code",
   "execution_count": 67,
   "id": "8646fc10",
   "metadata": {},
   "outputs": [],
   "source": [
    "hnrnpc.to_csv('../data/intermediate/hnrnpc.csv')"
   ]
  },
  {
   "cell_type": "code",
   "execution_count": 68,
   "id": "fa028380",
   "metadata": {},
   "outputs": [],
   "source": [
    "elavl1a.to_csv('../data/intermediate/elavl1a.csv')"
   ]
  },
  {
   "cell_type": "code",
   "execution_count": 69,
   "id": "8e6dc700",
   "metadata": {},
   "outputs": [],
   "source": [
    "tdp43.to_csv('../data/intermediate/tdp43.csv')"
   ]
  },
  {
   "cell_type": "code",
   "execution_count": 70,
   "id": "e19a9194",
   "metadata": {},
   "outputs": [],
   "source": [
    "tial1.to_csv('../data/intermediate/tial1.csv')"
   ]
  },
  {
   "cell_type": "markdown",
   "id": "b9d5cfb0",
   "metadata": {},
   "source": [
    "Using the file ago1234.fasta, I removed sequences with greater than 80% sequence similarity using the program cd-hit-est. I ran this program in the terminal using the following command: \n",
    "\n",
    "                    cd-hit-est -i <input.fasta> -o <output.fasta> -c 0.8 -n 5\n",
    "                    \n",
    "This output the file ago1234_clustered.fasta which contains the desired sequences with those with high similarity removed. \n",
    "\n",
    "Exact command for AGO1234 dataset can be found in the scripts directory in the main repo (cd-hit-est.command)\n",
    "\n",
    "I repeated this with the other four fasta files as well. \n",
    "\n",
    "Now let's filter our csv's by the sequences in the output file. "
   ]
  },
  {
   "cell_type": "code",
   "execution_count": 71,
   "id": "00d99f44",
   "metadata": {},
   "outputs": [],
   "source": [
    "#here I am defining a function to get the dissimilar sequences and filter each dataframe by them \n",
    "def get_dissimilar_seqs(fasta_file, df):\n",
    "    seq_ids = []\n",
    "    for seq_record in SeqIO.parse(f'{fasta_file}', 'fasta'):\n",
    "        seq_ids.append(str(seq_record.id))\n",
    "        \n",
    "    print(len(seq_ids))\n",
    "    \n",
    "    df = df[df['ID'].isin(seq_ids)]\n",
    "    return df"
   ]
  },
  {
   "cell_type": "code",
   "execution_count": 72,
   "id": "64747e4b",
   "metadata": {},
   "outputs": [
    {
     "name": "stdout",
     "output_type": "stream",
     "text": [
      "63118\n"
     ]
    }
   ],
   "source": [
    "ago1234 = get_dissimilar_seqs('../data/intermediate/ago1234_clustered.fasta', ago1234)"
   ]
  },
  {
   "cell_type": "code",
   "execution_count": 73,
   "id": "d793e67e",
   "metadata": {},
   "outputs": [
    {
     "name": "stdout",
     "output_type": "stream",
     "text": [
      "<class 'pandas.core.frame.DataFrame'>\n",
      "Int64Index: 63118 entries, 0 to 276846\n",
      "Data columns (total 5 columns):\n",
      " #   Column             Non-Null Count  Dtype \n",
      "---  ------             --------------  ----- \n",
      " 0   ID                 63118 non-null  object\n",
      " 1   sequence_identity  63118 non-null  object\n",
      " 2   sequence           63118 non-null  object\n",
      " 3   RBP_binding        63118 non-null  int64 \n",
      " 4   seq_len            63118 non-null  int64 \n",
      "dtypes: int64(2), object(3)\n",
      "memory usage: 2.9+ MB\n"
     ]
    }
   ],
   "source": [
    "ago1234.info()"
   ]
  },
  {
   "cell_type": "code",
   "execution_count": 74,
   "id": "e28dd949",
   "metadata": {},
   "outputs": [
    {
     "data": {
      "text/plain": [
       "1    33560\n",
       "0    29558\n",
       "Name: RBP_binding, dtype: int64"
      ]
     },
     "execution_count": 74,
     "metadata": {},
     "output_type": "execute_result"
    }
   ],
   "source": [
    "ago1234.RBP_binding.value_counts()"
   ]
  },
  {
   "cell_type": "code",
   "execution_count": 75,
   "id": "4abfda41",
   "metadata": {},
   "outputs": [
    {
     "name": "stdout",
     "output_type": "stream",
     "text": [
      "39342\n",
      "<class 'pandas.core.frame.DataFrame'>\n",
      "Int64Index: 39342 entries, 0 to 169063\n",
      "Data columns (total 5 columns):\n",
      " #   Column             Non-Null Count  Dtype \n",
      "---  ------             --------------  ----- \n",
      " 0   ID                 39342 non-null  object\n",
      " 1   sequence_identity  39342 non-null  object\n",
      " 2   sequence           39342 non-null  object\n",
      " 3   seq_len            39342 non-null  int64 \n",
      " 4   RBP_binding        39342 non-null  int64 \n",
      "dtypes: int64(2), object(3)\n",
      "memory usage: 1.8+ MB\n"
     ]
    }
   ],
   "source": [
    "hnrnpc = get_dissimilar_seqs('../data/intermediate/hnrnpc_clustered.fasta', hnrnpc)\n",
    "hnrnpc.info()"
   ]
  },
  {
   "cell_type": "code",
   "execution_count": 76,
   "id": "ed90ea21",
   "metadata": {},
   "outputs": [
    {
     "data": {
      "text/plain": [
       "1    20233\n",
       "0    19109\n",
       "Name: RBP_binding, dtype: int64"
      ]
     },
     "execution_count": 76,
     "metadata": {},
     "output_type": "execute_result"
    }
   ],
   "source": [
    "hnrnpc.RBP_binding.value_counts()"
   ]
  },
  {
   "cell_type": "code",
   "execution_count": 77,
   "id": "6345259d",
   "metadata": {},
   "outputs": [
    {
     "name": "stdout",
     "output_type": "stream",
     "text": [
      "48623\n",
      "<class 'pandas.core.frame.DataFrame'>\n",
      "Int64Index: 48623 entries, 0 to 208995\n",
      "Data columns (total 5 columns):\n",
      " #   Column             Non-Null Count  Dtype \n",
      "---  ------             --------------  ----- \n",
      " 0   ID                 48623 non-null  object\n",
      " 1   sequence_identity  48623 non-null  object\n",
      " 2   sequence           48623 non-null  object\n",
      " 3   RBP_binding        48623 non-null  int64 \n",
      " 4   seq_len            48623 non-null  int64 \n",
      "dtypes: int64(2), object(3)\n",
      "memory usage: 2.2+ MB\n"
     ]
    }
   ],
   "source": [
    "elavl1a = get_dissimilar_seqs('../data/intermediate/elavl1a_clustered.fasta', elavl1a)\n",
    "elavl1a.info()"
   ]
  },
  {
   "cell_type": "code",
   "execution_count": 78,
   "id": "e5cde9b7",
   "metadata": {},
   "outputs": [
    {
     "data": {
      "text/plain": [
       "1    25681\n",
       "0    22942\n",
       "Name: RBP_binding, dtype: int64"
      ]
     },
     "execution_count": 78,
     "metadata": {},
     "output_type": "execute_result"
    }
   ],
   "source": [
    "elavl1a.RBP_binding.value_counts()"
   ]
  },
  {
   "cell_type": "code",
   "execution_count": 79,
   "id": "09cce264",
   "metadata": {},
   "outputs": [
    {
     "name": "stdout",
     "output_type": "stream",
     "text": [
      "73715\n",
      "<class 'pandas.core.frame.DataFrame'>\n",
      "Int64Index: 73715 entries, 0 to 319934\n",
      "Data columns (total 5 columns):\n",
      " #   Column             Non-Null Count  Dtype \n",
      "---  ------             --------------  ----- \n",
      " 0   ID                 73715 non-null  object\n",
      " 1   sequence_identity  73715 non-null  object\n",
      " 2   sequence           73715 non-null  object\n",
      " 3   RBP_binding        73715 non-null  int64 \n",
      " 4   seq_len            73715 non-null  int64 \n",
      "dtypes: int64(2), object(3)\n",
      "memory usage: 3.4+ MB\n"
     ]
    }
   ],
   "source": [
    "tial1 = get_dissimilar_seqs('../data/intermediate/tial1_clustered.fasta', tial1)\n",
    "tial1.info()"
   ]
  },
  {
   "cell_type": "code",
   "execution_count": 80,
   "id": "5e6133a1",
   "metadata": {},
   "outputs": [
    {
     "data": {
      "text/plain": [
       "1    38645\n",
       "0    35070\n",
       "Name: RBP_binding, dtype: int64"
      ]
     },
     "execution_count": 80,
     "metadata": {},
     "output_type": "execute_result"
    }
   ],
   "source": [
    "tial1.RBP_binding.value_counts()"
   ]
  },
  {
   "cell_type": "markdown",
   "id": "ddc5fc72",
   "metadata": {},
   "source": [
    "Now we have successfully constructed and filtered our dataframes so that they contain the sequences that we want to use in our final model in an orderly format. We have also seen that these datasets contain roughly equal numbers of sequences that bind and do not bind the RBP and that the majority of sequence lengths hover somewhere around 350 nucleotides for these datasets. "
   ]
  },
  {
   "cell_type": "code",
   "execution_count": 81,
   "id": "ec8ba486",
   "metadata": {},
   "outputs": [],
   "source": [
    "ago1234.to_csv('../data/intermediate/ago1234.csv')\n",
    "hnrnpc.to_csv('../data/intermediate/hnrnpc.csv')\n",
    "elavl1a.to_csv('../data/intermediate/elavl1a.csv')\n",
    "tdp43.to_csv('../data/intermediate/tdp43.csv')\n",
    "tial1.to_csv('../data/intermediate/tial1.csv')"
   ]
  },
  {
   "cell_type": "markdown",
   "id": "75b31120",
   "metadata": {},
   "source": [
    "## Summary \n",
    "\n",
    "In this data wrangling step, I uploaded a series of fasta files containing sequences that bind and do not bind to a given RNA-binding protein (RBP). In the raw datasets downloaded, there were 24 datasets for RBPs. Since the model will be trained only for one RBP at a time (since they have specific binding preferences), I chose five datasets based off their size and high performance on previously developed models in the literature. \n",
    "    1. AGO1234\n",
    "    2. HNRNPC\n",
    "    3. ELAVL1A\n",
    "    4. TPD43\n",
    "    5. TIAL1\n",
    "After the initial data wrangling, exploratory data analysis, and feature engineering steps, I will proceed to focus on training/fine-tuning my CNN using a single one of these datasets. The finalized model architecture will then be trained/tested on the other four datasets in order to compare performance across RBPs. \n",
    "\n",
    "Each dataset was comprised of four fasta files: two with RNA sequences that bind the RBP (training and testing sequences) and two with RNA sequences that do not bind the RBP (training and testing sequences). Using Biopython's SeqIO module, I read these fasta files and converted the four files into a single dataframe containing rows for the sequence ID, sequence, RBP binding (a 1 indicating that it does bind, a 0 indicating that it does not), and sequence length. \n",
    "\n",
    "I then ran all the sequences through the cd-hit-est program on terminal in order to eliminate sequences with greater than 80% sequence identity in order to prevent redundancy in the training and test sets. The dataframes were filtered for these sequences. \n",
    "\n",
    "Finally, I took a look at the average sequence length as well as the number of positive and negative sequences in each dataset. Each dataset is well balanced between positive and negative sequences, with roughly equal numbers of both. In terms of sequence length, a large majority of sequences seem to be ~300-350 nucleotides long, although there are a few examples of sequences as short as ~50 nucleotides long. "
   ]
  },
  {
   "cell_type": "code",
   "execution_count": 82,
   "id": "efe13731",
   "metadata": {},
   "outputs": [
    {
     "data": {
      "text/html": [
       "<div>\n",
       "<style scoped>\n",
       "    .dataframe tbody tr th:only-of-type {\n",
       "        vertical-align: middle;\n",
       "    }\n",
       "\n",
       "    .dataframe tbody tr th {\n",
       "        vertical-align: top;\n",
       "    }\n",
       "\n",
       "    .dataframe thead th {\n",
       "        text-align: right;\n",
       "    }\n",
       "</style>\n",
       "<table border=\"1\" class=\"dataframe\">\n",
       "  <thead>\n",
       "    <tr style=\"text-align: right;\">\n",
       "      <th></th>\n",
       "      <th>ID</th>\n",
       "      <th>sequence_identity</th>\n",
       "      <th>sequence</th>\n",
       "      <th>RBP_binding</th>\n",
       "      <th>seq_len</th>\n",
       "    </tr>\n",
       "  </thead>\n",
       "  <tbody>\n",
       "    <tr>\n",
       "      <th>0</th>\n",
       "      <td>CID_041533;chrX,47028785,47028819,+</td>\n",
       "      <td>positive_test</td>\n",
       "      <td>gaacacaucaccugggccucuugcaccuuuuagaaagggcaaccuu...</td>\n",
       "      <td>1</td>\n",
       "      <td>334</td>\n",
       "    </tr>\n",
       "    <tr>\n",
       "      <th>1</th>\n",
       "      <td>CID_014973;chr15,90774588,90774613,-</td>\n",
       "      <td>positive_test</td>\n",
       "      <td>guccuguggcguuuguucuccuaggccaaccccuucaaggagcgaa...</td>\n",
       "      <td>1</td>\n",
       "      <td>325</td>\n",
       "    </tr>\n",
       "    <tr>\n",
       "      <th>2</th>\n",
       "      <td>CID_015737;chr16,30959327,30959347,+</td>\n",
       "      <td>positive_test</td>\n",
       "      <td>ccuucccccugacccugacuccuugaacgucacugaaaacggcagc...</td>\n",
       "      <td>1</td>\n",
       "      <td>320</td>\n",
       "    </tr>\n",
       "    <tr>\n",
       "      <th>3</th>\n",
       "      <td>CID_025246;chr2,227661131,227661173,-</td>\n",
       "      <td>positive_test</td>\n",
       "      <td>ugccucaccccaaacccccaguggagagcagcggugguaagcucuu...</td>\n",
       "      <td>1</td>\n",
       "      <td>342</td>\n",
       "    </tr>\n",
       "    <tr>\n",
       "      <th>4</th>\n",
       "      <td>CID_009003;chr12,6347000,6347052,+</td>\n",
       "      <td>positive_test</td>\n",
       "      <td>gacccaugucucucccuuucccucagccuuccuucagaucaaacca...</td>\n",
       "      <td>1</td>\n",
       "      <td>352</td>\n",
       "    </tr>\n",
       "  </tbody>\n",
       "</table>\n",
       "</div>"
      ],
      "text/plain": [
       "                                      ID sequence_identity  \\\n",
       "0    CID_041533;chrX,47028785,47028819,+     positive_test   \n",
       "1   CID_014973;chr15,90774588,90774613,-     positive_test   \n",
       "2   CID_015737;chr16,30959327,30959347,+     positive_test   \n",
       "3  CID_025246;chr2,227661131,227661173,-     positive_test   \n",
       "4     CID_009003;chr12,6347000,6347052,+     positive_test   \n",
       "\n",
       "                                            sequence  RBP_binding  seq_len  \n",
       "0  gaacacaucaccugggccucuugcaccuuuuagaaagggcaaccuu...            1      334  \n",
       "1  guccuguggcguuuguucuccuaggccaaccccuucaaggagcgaa...            1      325  \n",
       "2  ccuucccccugacccugacuccuugaacgucacugaaaacggcagc...            1      320  \n",
       "3  ugccucaccccaaacccccaguggagagcagcggugguaagcucuu...            1      342  \n",
       "4  gacccaugucucucccuuucccucagccuuccuucagaucaaacca...            1      352  "
      ]
     },
     "execution_count": 82,
     "metadata": {},
     "output_type": "execute_result"
    }
   ],
   "source": [
    "ago1234.head()"
   ]
  },
  {
   "cell_type": "code",
   "execution_count": 88,
   "id": "4ff0870a",
   "metadata": {},
   "outputs": [],
   "source": [
    "#a quick sanity check that there are no non-standard nucleotides in this dataset\n",
    "def check_for_nonstandard_nucs(df):\n",
    "    for index,row in df.iterrows():\n",
    "        seq = row['sequence']\n",
    "        for char in seq:\n",
    "            if char != 'a' and char != 'g' and char != 'u' and char != 'c':\n",
    "                print('error')\n",
    "                print(char)\n",
    "                print(seq)\n",
    "                print(index)"
   ]
  },
  {
   "cell_type": "code",
   "execution_count": 89,
   "id": "baf05382",
   "metadata": {},
   "outputs": [],
   "source": [
    "check_for_nonstandard_nucs(ago1234)"
   ]
  },
  {
   "cell_type": "code",
   "execution_count": 85,
   "id": "d14ed206",
   "metadata": {},
   "outputs": [],
   "source": [
    "check_for_nonstandard_nucs(hnrnpc)"
   ]
  },
  {
   "cell_type": "code",
   "execution_count": 86,
   "id": "5596ec76",
   "metadata": {},
   "outputs": [],
   "source": [
    "check_for_nonstandard_nucs(elavl1a)"
   ]
  },
  {
   "cell_type": "code",
   "execution_count": 87,
   "id": "ba18a41e",
   "metadata": {},
   "outputs": [],
   "source": [
    "check_for_nonstandard_nucs(tial1)"
   ]
  },
  {
   "cell_type": "code",
   "execution_count": null,
   "id": "4feb7e36",
   "metadata": {},
   "outputs": [],
   "source": []
  }
 ],
 "metadata": {
  "kernelspec": {
   "display_name": "Python 3 (ipykernel)",
   "language": "python",
   "name": "python3"
  },
  "language_info": {
   "codemirror_mode": {
    "name": "ipython",
    "version": 3
   },
   "file_extension": ".py",
   "mimetype": "text/x-python",
   "name": "python",
   "nbconvert_exporter": "python",
   "pygments_lexer": "ipython3",
   "version": "3.10.13"
  }
 },
 "nbformat": 4,
 "nbformat_minor": 5
}
