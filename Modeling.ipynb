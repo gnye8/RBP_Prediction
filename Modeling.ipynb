{
  "nbformat": 4,
  "nbformat_minor": 0,
  "metadata": {
    "colab": {
      "provenance": [],
      "gpuType": "A100",
      "authorship_tag": "ABX9TyPfp2bbBwy631DNuoWt1To8",
      "include_colab_link": true
    },
    "kernelspec": {
      "name": "python3",
      "display_name": "Python 3"
    },
    "language_info": {
      "name": "python"
    },
    "accelerator": "GPU"
  },
  "cells": [
    {
      "cell_type": "markdown",
      "metadata": {
        "id": "view-in-github",
        "colab_type": "text"
      },
      "source": [
        "<a href=\"https://colab.research.google.com/github/gnye8/RBP_Prediction/blob/main/Modeling.ipynb\" target=\"_parent\"><img src=\"https://colab.research.google.com/assets/colab-badge.svg\" alt=\"Open In Colab\"/></a>"
      ]
    },
    {
      "cell_type": "code",
      "execution_count": 1,
      "metadata": {
        "id": "Vu5lR32sPaKB"
      },
      "outputs": [],
      "source": [
        "import pandas as pd\n",
        "import numpy as np\n",
        "#import tensorflow as tf\n",
        "import keras\n",
        "from keras.models import Sequential\n",
        "from keras.layers import Conv2D, MaxPooling2D, Dense, Dropout, Flatten"
      ]
    },
    {
      "cell_type": "code",
      "source": [
        "X_train = np.load('/content/X_train2.npy')\n",
        "X_test = np.load('/content/X_test2.npy')\n",
        "y_train = np.load('/content/y_train2.npy')\n",
        "y_test = np.load('/content/y_test2.npy')\n",
        "\n",
        "X_extval = np.load('/content/X_extval.npy')\n",
        "y_extval = np.load('/content/y_extval.npy')"
      ],
      "metadata": {
        "id": "tuM5ZtAKPg1f"
      },
      "execution_count": 2,
      "outputs": []
    },
    {
      "cell_type": "markdown",
      "source": [
        "LeNet Architecture\n",
        "\n",
        "\n",
        "\n",
        "source: https://www.kaggle.com/code/blurredmachine/lenet-architecture-a-complete-guide"
      ],
      "metadata": {
        "id": "-6XOyUctP4nP"
      }
    },
    {
      "cell_type": "code",
      "source": [
        "LeNet = Sequential()\n",
        "LeNet.add(Conv2D(128, kernel_size=(9,3), activation='relu', input_shape=(406,4,1), padding='same'))\n",
        "LeNet.add(MaxPooling2D(pool_size=(3,1)))\n",
        "LeNet.add(Conv2D(128, kernel_size=(9,3), activation='relu', padding='same'))\n",
        "LeNet.add(MaxPooling2D(pool_size=(3,1)))\n",
        "LeNet.add(Flatten())\n",
        "LeNet.add(Dense(128, activation='relu'))\n",
        "LeNet.add(Dense(64, activation='relu'))\n",
        "LeNet.add(Dense(1, activation='sigmoid'))\n",
        "\n",
        "LeNet.summary()"
      ],
      "metadata": {
        "colab": {
          "base_uri": "https://localhost:8080/"
        },
        "id": "Pk1mZd6XPv1N",
        "outputId": "3b66d991-14eb-402b-806a-af01be27d8bb"
      },
      "execution_count": 3,
      "outputs": [
        {
          "output_type": "stream",
          "name": "stdout",
          "text": [
            "Model: \"sequential\"\n",
            "_________________________________________________________________\n",
            " Layer (type)                Output Shape              Param #   \n",
            "=================================================================\n",
            " conv2d (Conv2D)             (None, 406, 4, 128)       3584      \n",
            "                                                                 \n",
            " max_pooling2d (MaxPooling2  (None, 135, 4, 128)       0         \n",
            " D)                                                              \n",
            "                                                                 \n",
            " conv2d_1 (Conv2D)           (None, 135, 4, 128)       442496    \n",
            "                                                                 \n",
            " max_pooling2d_1 (MaxPoolin  (None, 45, 4, 128)        0         \n",
            " g2D)                                                            \n",
            "                                                                 \n",
            " flatten (Flatten)           (None, 23040)             0         \n",
            "                                                                 \n",
            " dense (Dense)               (None, 128)               2949248   \n",
            "                                                                 \n",
            " dense_1 (Dense)             (None, 64)                8256      \n",
            "                                                                 \n",
            " dense_2 (Dense)             (None, 1)                 65        \n",
            "                                                                 \n",
            "=================================================================\n",
            "Total params: 3403649 (12.98 MB)\n",
            "Trainable params: 3403649 (12.98 MB)\n",
            "Non-trainable params: 0 (0.00 Byte)\n",
            "_________________________________________________________________\n"
          ]
        }
      ]
    },
    {
      "cell_type": "code",
      "source": [
        "LeNet.compile(loss=keras.losses.binary_crossentropy, optimizer=keras.optimizers.legacy.Adam(), metrics=['accuracy'])"
      ],
      "metadata": {
        "id": "vnq3y6LuP7tU"
      },
      "execution_count": 4,
      "outputs": []
    },
    {
      "cell_type": "code",
      "source": [
        "LeNet.fit(X_train, y_train, batch_size=256, epochs=50, verbose=1, validation_data=(X_test, y_test))"
      ],
      "metadata": {
        "id": "ggJbHRhjP-46"
      },
      "execution_count": null,
      "outputs": []
    },
    {
      "cell_type": "markdown",
      "source": [
        "VGG Model Architecture\n",
        "\n",
        "\n",
        "source: https://builtin.com/machine-learning/vgg16"
      ],
      "metadata": {
        "id": "iHX-JqgoQEZV"
      }
    },
    {
      "cell_type": "code",
      "source": [
        "vgg = Sequential()\n",
        "vgg.add(Conv2D(64, kernel_size=(9,3), activation='relu', input_shape=[406,4,1], padding='same'))\n",
        "vgg.add(MaxPooling2D(pool_size=(3,1), strides=(2,2)))\n",
        "vgg.add(Conv2D(128, kernel_size=(9,3), activation='relu', padding='same'))\n",
        "vgg.add(Conv2D(128, kernel_size=(9,3), activation='relu', padding='same'))\n",
        "vgg.add(MaxPooling2D(pool_size=(3,1), strides=(2,2)))\n",
        "vgg.add(Conv2D(filters=128, kernel_size=(9,3), padding=\"same\", activation=\"relu\"))\n",
        "vgg.add(Conv2D(filters=128, kernel_size=(9,3), padding=\"same\", activation=\"relu\"))\n",
        "vgg.add(Conv2D(filters=128, kernel_size=(9,3), padding=\"same\", activation=\"relu\"))\n",
        "vgg.add(MaxPooling2D(pool_size=(3,1),strides=(2,2)))\n",
        "vgg.add(Conv2D(filters=128, kernel_size=(9,3), padding=\"same\", activation=\"relu\"))\n",
        "vgg.add(Conv2D(filters=128, kernel_size=(9,3), padding=\"same\", activation=\"relu\"))\n",
        "vgg.add(Conv2D(filters=128, kernel_size=(9,3), padding=\"same\", activation=\"relu\"))\n",
        "vgg.add(MaxPooling2D(pool_size=(3,1),strides=(2,2)))\n",
        "vgg.add(Conv2D(filters=256, kernel_size=(3,3), padding=\"same\", activation=\"relu\"))\n",
        "vgg.add(Conv2D(filters=256, kernel_size=(3,3), padding=\"same\", activation=\"relu\"))\n",
        "vgg.add(Conv2D(filters=256, kernel_size=(3,3), padding=\"same\", activation=\"relu\"))\n",
        "vgg.add(MaxPooling2D(pool_size=(3,1),strides=(2,2)))\n",
        "vgg.add(Flatten())\n",
        "vgg.add(Dense(units=128, activation='relu'))\n",
        "vgg.add(Dense(units=128, activation='relu'))\n",
        "vgg.add(Dense(1, activation='sigmoid'))\n",
        "\n",
        "print(vgg.summary())"
      ],
      "metadata": {
        "colab": {
          "base_uri": "https://localhost:8080/"
        },
        "id": "fe4yODNbQJDD",
        "outputId": "5c57c2ae-2933-4fcb-dd17-7cae8e49b936"
      },
      "execution_count": 5,
      "outputs": [
        {
          "output_type": "stream",
          "name": "stdout",
          "text": [
            "Model: \"sequential_1\"\n",
            "_________________________________________________________________\n",
            " Layer (type)                Output Shape              Param #   \n",
            "=================================================================\n",
            " conv2d_2 (Conv2D)           (None, 406, 4, 64)        1792      \n",
            "                                                                 \n",
            " max_pooling2d_2 (MaxPoolin  (None, 202, 2, 64)        0         \n",
            " g2D)                                                            \n",
            "                                                                 \n",
            " conv2d_3 (Conv2D)           (None, 202, 2, 128)       221312    \n",
            "                                                                 \n",
            " conv2d_4 (Conv2D)           (None, 202, 2, 128)       442496    \n",
            "                                                                 \n",
            " max_pooling2d_3 (MaxPoolin  (None, 100, 1, 128)       0         \n",
            " g2D)                                                            \n",
            "                                                                 \n",
            " conv2d_5 (Conv2D)           (None, 100, 1, 128)       442496    \n",
            "                                                                 \n",
            " conv2d_6 (Conv2D)           (None, 100, 1, 128)       442496    \n",
            "                                                                 \n",
            " conv2d_7 (Conv2D)           (None, 100, 1, 128)       442496    \n",
            "                                                                 \n",
            " max_pooling2d_4 (MaxPoolin  (None, 49, 1, 128)        0         \n",
            " g2D)                                                            \n",
            "                                                                 \n",
            " conv2d_8 (Conv2D)           (None, 49, 1, 128)        442496    \n",
            "                                                                 \n",
            " conv2d_9 (Conv2D)           (None, 49, 1, 128)        442496    \n",
            "                                                                 \n",
            " conv2d_10 (Conv2D)          (None, 49, 1, 128)        442496    \n",
            "                                                                 \n",
            " max_pooling2d_5 (MaxPoolin  (None, 24, 1, 128)        0         \n",
            " g2D)                                                            \n",
            "                                                                 \n",
            " conv2d_11 (Conv2D)          (None, 24, 1, 256)        295168    \n",
            "                                                                 \n",
            " conv2d_12 (Conv2D)          (None, 24, 1, 256)        590080    \n",
            "                                                                 \n",
            " conv2d_13 (Conv2D)          (None, 24, 1, 256)        590080    \n",
            "                                                                 \n",
            " max_pooling2d_6 (MaxPoolin  (None, 11, 1, 256)        0         \n",
            " g2D)                                                            \n",
            "                                                                 \n",
            " flatten_1 (Flatten)         (None, 2816)              0         \n",
            "                                                                 \n",
            " dense_3 (Dense)             (None, 128)               360576    \n",
            "                                                                 \n",
            " dense_4 (Dense)             (None, 128)               16512     \n",
            "                                                                 \n",
            " dense_5 (Dense)             (None, 1)                 129       \n",
            "                                                                 \n",
            "=================================================================\n",
            "Total params: 5173121 (19.73 MB)\n",
            "Trainable params: 5173121 (19.73 MB)\n",
            "Non-trainable params: 0 (0.00 Byte)\n",
            "_________________________________________________________________\n",
            "None\n"
          ]
        }
      ]
    },
    {
      "cell_type": "code",
      "source": [
        "vgg.compile(loss=keras.losses.binary_crossentropy, optimizer=keras.optimizers.legacy.Adam(), metrics=['accuracy'])"
      ],
      "metadata": {
        "id": "yYuzHksUQMFt"
      },
      "execution_count": 6,
      "outputs": []
    },
    {
      "cell_type": "code",
      "source": [
        "vgg.fit(X_train, y_train, batch_size=256, epochs=50, verbose=1, validation_data=(X_test, y_test))"
      ],
      "metadata": {
        "id": "Tg5wqF0kQO4z"
      },
      "execution_count": null,
      "outputs": []
    },
    {
      "cell_type": "markdown",
      "source": [
        "LeNet Optimization\n",
        "\n",
        "I will optimize LeNet over VGG because it is faster to train/fit and has comparable accuracy.\n",
        "\n",
        "In order to improve accuracy, I will add an additional cycle of convolutions and max pooling, and in order to prevent overfitting, I will insert dropout layers between convolution/max pooling steps."
      ],
      "metadata": {
        "id": "0LGiEBggQUF5"
      }
    },
    {
      "cell_type": "code",
      "source": [
        "model = Sequential()\n",
        "model.add(Conv2D(128, kernel_size=(9,3), activation='relu', input_shape=(406,4,1), padding='same'))\n",
        "model.add(MaxPooling2D(pool_size=(3,1)))\n",
        "model.add(Dropout(0.25))\n",
        "model.add(Conv2D(128, kernel_size=(9,3), activation='relu', padding='same'))\n",
        "model.add(MaxPooling2D(pool_size=(3,1)))\n",
        "model.add(Dropout(0.25))\n",
        "model.add(Conv2D(256, kernel_size=(3,3), activation='relu', padding='same'))\n",
        "model.add(MaxPooling2D(pool_size=(3,1)))\n",
        "model.add(Dropout(0.25))\n",
        "model.add(Flatten())\n",
        "model.add(Dense(128, activation='relu'))\n",
        "model.add(Dense(64, activation='relu'))\n",
        "model.add(Dropout(0.25))\n",
        "model.add(Dense(1, activation='sigmoid'))\n",
        "\n",
        "LeNet.summary()"
      ],
      "metadata": {
        "colab": {
          "base_uri": "https://localhost:8080/"
        },
        "id": "zan70ZyKQWUv",
        "outputId": "5f024d42-8fdf-4750-c470-f0d62e4abcea"
      },
      "execution_count": 7,
      "outputs": [
        {
          "output_type": "stream",
          "name": "stdout",
          "text": [
            "Model: \"sequential\"\n",
            "_________________________________________________________________\n",
            " Layer (type)                Output Shape              Param #   \n",
            "=================================================================\n",
            " conv2d (Conv2D)             (None, 406, 4, 128)       3584      \n",
            "                                                                 \n",
            " max_pooling2d (MaxPooling2  (None, 135, 4, 128)       0         \n",
            " D)                                                              \n",
            "                                                                 \n",
            " conv2d_1 (Conv2D)           (None, 135, 4, 128)       442496    \n",
            "                                                                 \n",
            " max_pooling2d_1 (MaxPoolin  (None, 45, 4, 128)        0         \n",
            " g2D)                                                            \n",
            "                                                                 \n",
            " flatten (Flatten)           (None, 23040)             0         \n",
            "                                                                 \n",
            " dense (Dense)               (None, 128)               2949248   \n",
            "                                                                 \n",
            " dense_1 (Dense)             (None, 64)                8256      \n",
            "                                                                 \n",
            " dense_2 (Dense)             (None, 1)                 65        \n",
            "                                                                 \n",
            "=================================================================\n",
            "Total params: 3403649 (12.98 MB)\n",
            "Trainable params: 3403649 (12.98 MB)\n",
            "Non-trainable params: 0 (0.00 Byte)\n",
            "_________________________________________________________________\n"
          ]
        }
      ]
    },
    {
      "cell_type": "code",
      "source": [
        "model.compile(loss=keras.losses.binary_crossentropy, optimizer=keras.optimizers.legacy.Adam(), metrics=['accuracy'])"
      ],
      "metadata": {
        "id": "YL4f5BCJQ4MJ"
      },
      "execution_count": 8,
      "outputs": []
    },
    {
      "cell_type": "code",
      "source": [
        "model.fit(X_train, y_train, batch_size=256, epochs=50, verbose=1, validation_data=(X_test, y_test))"
      ],
      "metadata": {
        "id": "SpfIH4lJQ7mP"
      },
      "execution_count": null,
      "outputs": []
    },
    {
      "cell_type": "markdown",
      "source": [
        "### Parameter Tuning\n",
        "\n",
        "We will now tune the parameters that we are using for model training.\n",
        "\n",
        "Parameters we will focus on are:\n",
        "\n",
        "- kernel size\n",
        "- dropout size\n",
        "- learning rate\n",
        "- batch size"
      ],
      "metadata": {
        "id": "dBEfOEFeRaaY"
      }
    },
    {
      "cell_type": "code",
      "source": [],
      "metadata": {
        "id": "tIlBhGWlRwJ-"
      },
      "execution_count": null,
      "outputs": []
    }
  ]
}