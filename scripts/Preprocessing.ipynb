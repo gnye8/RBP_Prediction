{
 "cells": [
  {
   "cell_type": "markdown",
   "id": "7372e229",
   "metadata": {},
   "source": [
    "### Converting windows to 1D vectors and then 2D arrays\n",
    "\n",
    "1. since we need to give CNN a matrix input of some sort, we will first convert each nucleotide to a 1D vector \n",
    "2. then each window will be a 2D array of vectors  "
   ]
  },
  {
   "cell_type": "code",
   "execution_count": 1,
   "id": "8833666f",
   "metadata": {},
   "outputs": [
    {
     "name": "stderr",
     "output_type": "stream",
     "text": [
      "/Users/gracenye/opt/anaconda3/lib/python3.9/site-packages/scipy/__init__.py:146: UserWarning: A NumPy version >=1.16.5 and <1.23.0 is required for this version of SciPy (detected version 1.26.4\n",
      "  warnings.warn(f\"A NumPy version >={np_minversion} and <{np_maxversion}\"\n"
     ]
    }
   ],
   "source": [
    "import pandas as pd\n",
    "import numpy as np\n",
    "import matplotlib.pyplot as plt\n",
    "import seaborn as sns\n",
    "import os\n",
    "os.environ['KMP_DUPLICATE_LIB_OK']='True'"
   ]
  },
  {
   "cell_type": "code",
   "execution_count": 2,
   "id": "2f7cb377",
   "metadata": {},
   "outputs": [
    {
     "data": {
      "text/html": [
       "<div>\n",
       "<style scoped>\n",
       "    .dataframe tbody tr th:only-of-type {\n",
       "        vertical-align: middle;\n",
       "    }\n",
       "\n",
       "    .dataframe tbody tr th {\n",
       "        vertical-align: top;\n",
       "    }\n",
       "\n",
       "    .dataframe thead th {\n",
       "        text-align: right;\n",
       "    }\n",
       "</style>\n",
       "<table border=\"1\" class=\"dataframe\">\n",
       "  <thead>\n",
       "    <tr style=\"text-align: right;\">\n",
       "      <th></th>\n",
       "      <th>ID</th>\n",
       "      <th>sequence_identity</th>\n",
       "      <th>sequence</th>\n",
       "      <th>RBP_binding</th>\n",
       "      <th>seq_len</th>\n",
       "      <th>padded_seqs</th>\n",
       "      <th>padded_len</th>\n",
       "      <th>window0</th>\n",
       "      <th>window50</th>\n",
       "      <th>window100</th>\n",
       "      <th>window150</th>\n",
       "      <th>window200</th>\n",
       "      <th>window250</th>\n",
       "      <th>window300</th>\n",
       "    </tr>\n",
       "  </thead>\n",
       "  <tbody>\n",
       "    <tr>\n",
       "      <th>0</th>\n",
       "      <td>CID_041533;chrX,47028785,47028819,+</td>\n",
       "      <td>positive_test</td>\n",
       "      <td>gaacacaucaccugggccucuugcaccuuuuagaaagggcaaccuu...</td>\n",
       "      <td>1</td>\n",
       "      <td>334</td>\n",
       "      <td>gaacacaucaccugggccucuugcaccuuuuagaaagggcaaccuu...</td>\n",
       "      <td>400</td>\n",
       "      <td>gaacacaucaccugggccucuugcaccuuuuagaaagggcaaccuu...</td>\n",
       "      <td>ucccuccccauccuucuuccuccacuagugguggucguggugacag...</td>\n",
       "      <td>ggccgcuauggagccacugaccgcucgcaggaugaugguggggaga...</td>\n",
       "      <td>cagccgagaccacgacuaccgggacauggacuaccguucauauccu...</td>\n",
       "      <td>aguauggcagccaggagggcaagcaugacuaugacgacucaucuga...</td>\n",
       "      <td>cagagugcggaggugaggagggggcgcgcugcgccaggccuggcug...</td>\n",
       "      <td>gggcucccaagggcccucugugucuggcugcagcnnnnnnnnnnnn...</td>\n",
       "    </tr>\n",
       "    <tr>\n",
       "      <th>1</th>\n",
       "      <td>CID_014973;chr15,90774588,90774613,-</td>\n",
       "      <td>positive_test</td>\n",
       "      <td>guccuguggcguuuguucuccuaggccaaccccuucaaggagcgaa...</td>\n",
       "      <td>1</td>\n",
       "      <td>325</td>\n",
       "      <td>guccuguggcguuuguucuccuaggccaaccccuucaaggagcgaa...</td>\n",
       "      <td>400</td>\n",
       "      <td>guccuguggcguuuguucuccuaggccaaccccuucaaggagcgaa...</td>\n",
       "      <td>cagggucuucuccacauccccagccaaagacagccuuagcuuugag...</td>\n",
       "      <td>uccuggaucuccucaguguguucagugacacagccacgccagacau...</td>\n",
       "      <td>ucccauuaugccuuccgcaucuuuggugagaaccaggagcagcccg...</td>\n",
       "      <td>gacaccaccccuucccacgugggcuuugugguggcccugcuuggga...</td>\n",
       "      <td>ggcgccguuuggggaaccucagagccccucccaaccgugucuuuug...</td>\n",
       "      <td>ccugugucugcucucuagacuuugannnnnnnnnnnnnnnnnnnnn...</td>\n",
       "    </tr>\n",
       "    <tr>\n",
       "      <th>2</th>\n",
       "      <td>CID_015737;chr16,30959327,30959347,+</td>\n",
       "      <td>positive_test</td>\n",
       "      <td>ccuucccccugacccugacuccuugaacgucacugaaaacggcagc...</td>\n",
       "      <td>1</td>\n",
       "      <td>320</td>\n",
       "      <td>ccuucccccugacccugacuccuugaacgucacugaaaacggcagc...</td>\n",
       "      <td>400</td>\n",
       "      <td>ccuucccccugacccugacuccuugaacgucacugaaaacggcagc...</td>\n",
       "      <td>gcaaggagugggggccgcgggcagccgcucuucagcucgcggccca...</td>\n",
       "      <td>aguggcgaggggcgccccaacccccugcccgccucuccgcacaaua...</td>\n",
       "      <td>aacauucaucuguacugaaguguuacuugaaccgggggaaucucgg...</td>\n",
       "      <td>gggggagccggggugugaggggacuggaccagcuuggacugagacc...</td>\n",
       "      <td>accgggccggugggcgcccauuugggacugcgccacccccaggcuu...</td>\n",
       "      <td>uuguuuuacuguauugagcgnnnnnnnnnnnnnnnnnnnnnnnnnn...</td>\n",
       "    </tr>\n",
       "    <tr>\n",
       "      <th>3</th>\n",
       "      <td>CID_025246;chr2,227661131,227661173,-</td>\n",
       "      <td>positive_test</td>\n",
       "      <td>ugccucaccccaaacccccaguggagagcagcggugguaagcucuu...</td>\n",
       "      <td>1</td>\n",
       "      <td>342</td>\n",
       "      <td>ugccucaccccaaacccccaguggagagcagcggugguaagcucuu...</td>\n",
       "      <td>400</td>\n",
       "      <td>ugccucaccccaaacccccaguggagagcagcggugguaagcucuu...</td>\n",
       "      <td>ugcacaggugacuacaugaacaugucaccagugggggacuccaaca...</td>\n",
       "      <td>cagccccuccgacugcuacuacggcccugaggacccccagcacaag...</td>\n",
       "      <td>uccucuccuacuacucauugccaagauccuuuaagcacacccagcg...</td>\n",
       "      <td>ggggagccggaggagggugcccggcaucagcaccuccgccuuucca...</td>\n",
       "      <td>cucuggucgccuucucuaugcugcaacagcagaugauucuuccucu...</td>\n",
       "      <td>ccagcagcgacagccugggugggggauacugcggggcuaggcnnnn...</td>\n",
       "    </tr>\n",
       "    <tr>\n",
       "      <th>4</th>\n",
       "      <td>CID_009003;chr12,6347000,6347052,+</td>\n",
       "      <td>positive_test</td>\n",
       "      <td>gacccaugucucucccuuucccucagccuuccuucagaucaaacca...</td>\n",
       "      <td>1</td>\n",
       "      <td>352</td>\n",
       "      <td>gacccaugucucucccuuucccucagccuuccuucagaucaaacca...</td>\n",
       "      <td>400</td>\n",
       "      <td>gacccaugucucucccuuucccucagccuuccuucagaucaaacca...</td>\n",
       "      <td>gauccucauguuucuuccuaucuccuagauauuuggcaugaucuuc...</td>\n",
       "      <td>ugaucuugugcugugcuauccgcaggaaccgcgagauggucuagag...</td>\n",
       "      <td>cuuacaucccugagcaggaaaguuuacccaugaagauuggugggau...</td>\n",
       "      <td>uguuuguuuguuuuguuuuguuuguuguuuguuguuuguuuuuuug...</td>\n",
       "      <td>uaauuuuaguauucauucugcauugcuagauaaaagcugaaguuac...</td>\n",
       "      <td>uguuugucuuuuaaugcuucauucaauauugacauuuguaguugag...</td>\n",
       "    </tr>\n",
       "  </tbody>\n",
       "</table>\n",
       "</div>"
      ],
      "text/plain": [
       "                                      ID sequence_identity  \\\n",
       "0    CID_041533;chrX,47028785,47028819,+     positive_test   \n",
       "1   CID_014973;chr15,90774588,90774613,-     positive_test   \n",
       "2   CID_015737;chr16,30959327,30959347,+     positive_test   \n",
       "3  CID_025246;chr2,227661131,227661173,-     positive_test   \n",
       "4     CID_009003;chr12,6347000,6347052,+     positive_test   \n",
       "\n",
       "                                            sequence  RBP_binding  seq_len  \\\n",
       "0  gaacacaucaccugggccucuugcaccuuuuagaaagggcaaccuu...            1      334   \n",
       "1  guccuguggcguuuguucuccuaggccaaccccuucaaggagcgaa...            1      325   \n",
       "2  ccuucccccugacccugacuccuugaacgucacugaaaacggcagc...            1      320   \n",
       "3  ugccucaccccaaacccccaguggagagcagcggugguaagcucuu...            1      342   \n",
       "4  gacccaugucucucccuuucccucagccuuccuucagaucaaacca...            1      352   \n",
       "\n",
       "                                         padded_seqs  padded_len  \\\n",
       "0  gaacacaucaccugggccucuugcaccuuuuagaaagggcaaccuu...         400   \n",
       "1  guccuguggcguuuguucuccuaggccaaccccuucaaggagcgaa...         400   \n",
       "2  ccuucccccugacccugacuccuugaacgucacugaaaacggcagc...         400   \n",
       "3  ugccucaccccaaacccccaguggagagcagcggugguaagcucuu...         400   \n",
       "4  gacccaugucucucccuuucccucagccuuccuucagaucaaacca...         400   \n",
       "\n",
       "                                             window0  \\\n",
       "0  gaacacaucaccugggccucuugcaccuuuuagaaagggcaaccuu...   \n",
       "1  guccuguggcguuuguucuccuaggccaaccccuucaaggagcgaa...   \n",
       "2  ccuucccccugacccugacuccuugaacgucacugaaaacggcagc...   \n",
       "3  ugccucaccccaaacccccaguggagagcagcggugguaagcucuu...   \n",
       "4  gacccaugucucucccuuucccucagccuuccuucagaucaaacca...   \n",
       "\n",
       "                                            window50  \\\n",
       "0  ucccuccccauccuucuuccuccacuagugguggucguggugacag...   \n",
       "1  cagggucuucuccacauccccagccaaagacagccuuagcuuugag...   \n",
       "2  gcaaggagugggggccgcgggcagccgcucuucagcucgcggccca...   \n",
       "3  ugcacaggugacuacaugaacaugucaccagugggggacuccaaca...   \n",
       "4  gauccucauguuucuuccuaucuccuagauauuuggcaugaucuuc...   \n",
       "\n",
       "                                           window100  \\\n",
       "0  ggccgcuauggagccacugaccgcucgcaggaugaugguggggaga...   \n",
       "1  uccuggaucuccucaguguguucagugacacagccacgccagacau...   \n",
       "2  aguggcgaggggcgccccaacccccugcccgccucuccgcacaaua...   \n",
       "3  cagccccuccgacugcuacuacggcccugaggacccccagcacaag...   \n",
       "4  ugaucuugugcugugcuauccgcaggaaccgcgagauggucuagag...   \n",
       "\n",
       "                                           window150  \\\n",
       "0  cagccgagaccacgacuaccgggacauggacuaccguucauauccu...   \n",
       "1  ucccauuaugccuuccgcaucuuuggugagaaccaggagcagcccg...   \n",
       "2  aacauucaucuguacugaaguguuacuugaaccgggggaaucucgg...   \n",
       "3  uccucuccuacuacucauugccaagauccuuuaagcacacccagcg...   \n",
       "4  cuuacaucccugagcaggaaaguuuacccaugaagauuggugggau...   \n",
       "\n",
       "                                           window200  \\\n",
       "0  aguauggcagccaggagggcaagcaugacuaugacgacucaucuga...   \n",
       "1  gacaccaccccuucccacgugggcuuugugguggcccugcuuggga...   \n",
       "2  gggggagccggggugugaggggacuggaccagcuuggacugagacc...   \n",
       "3  ggggagccggaggagggugcccggcaucagcaccuccgccuuucca...   \n",
       "4  uguuuguuuguuuuguuuuguuuguuguuuguuguuuguuuuuuug...   \n",
       "\n",
       "                                           window250  \\\n",
       "0  cagagugcggaggugaggagggggcgcgcugcgccaggccuggcug...   \n",
       "1  ggcgccguuuggggaaccucagagccccucccaaccgugucuuuug...   \n",
       "2  accgggccggugggcgcccauuugggacugcgccacccccaggcuu...   \n",
       "3  cucuggucgccuucucuaugcugcaacagcagaugauucuuccucu...   \n",
       "4  uaauuuuaguauucauucugcauugcuagauaaaagcugaaguuac...   \n",
       "\n",
       "                                           window300  \n",
       "0  gggcucccaagggcccucugugucuggcugcagcnnnnnnnnnnnn...  \n",
       "1  ccugugucugcucucuagacuuugannnnnnnnnnnnnnnnnnnnn...  \n",
       "2  uuguuuuacuguauugagcgnnnnnnnnnnnnnnnnnnnnnnnnnn...  \n",
       "3  ccagcagcgacagccugggugggggauacugcggggcuaggcnnnn...  \n",
       "4  uguuugucuuuuaaugcuucauucaauauugacauuuguaguugag...  "
      ]
     },
     "execution_count": 2,
     "metadata": {},
     "output_type": "execute_result"
    }
   ],
   "source": [
    "ago1234 = pd.read_csv('../data/intermediate/ago1234_windowed.csv', index_col=0)\n",
    "ago1234.head()"
   ]
  },
  {
   "cell_type": "code",
   "execution_count": 3,
   "id": "d1c65de9",
   "metadata": {},
   "outputs": [],
   "source": [
    "def get_RNA_conv_array(seq):\n",
    "    seq_len = len(seq)\n",
    "    #print(seq_len)\n",
    "    \n",
    "    alpha='acgu'\n",
    "    seq_arr = np.zeros([seq_len, 4])\n",
    "    for idx,char in enumerate(seq):\n",
    "        if char not in alpha:\n",
    "            seq_arr[idx] = np.array([0.25*4])\n",
    "        else:\n",
    "            index = alpha.index(char)\n",
    "            seq_arr[idx][index] = 1\n",
    "            \n",
    "    return seq_arr"
   ]
  },
  {
   "cell_type": "code",
   "execution_count": 4,
   "id": "c9fc5cbe",
   "metadata": {},
   "outputs": [],
   "source": [
    "def get_all_subseq_arrays(row):\n",
    "    arrs = []\n",
    "    for i in range(0, 301, 50):\n",
    "        subseq = row[f'window{i}']\n",
    "        subseq_arr = get_RNA_conv_array(subseq)\n",
    "        arrs.append(subseq_arr.T)\n",
    "    return arrs"
   ]
  },
  {
   "cell_type": "code",
   "execution_count": 5,
   "id": "41c50578",
   "metadata": {},
   "outputs": [],
   "source": [
    "X = []\n",
    "y = []\n",
    "\n",
    "for index,row in ago1234.iterrows():\n",
    "    X.append(get_all_subseq_arrays(row))\n",
    "    y.append(row['RBP_binding'])"
   ]
  },
  {
   "cell_type": "code",
   "execution_count": 6,
   "id": "b37841b7",
   "metadata": {},
   "outputs": [
    {
     "name": "stdout",
     "output_type": "stream",
     "text": [
      "(63118, 7, 4, 100)\n",
      "(63118,)\n"
     ]
    }
   ],
   "source": [
    "X = np.array(X)\n",
    "y = np.array(y)\n",
    "\n",
    "print(X.shape)\n",
    "print(y.shape)"
   ]
  },
  {
   "cell_type": "code",
   "execution_count": 7,
   "id": "7aeaac0e",
   "metadata": {},
   "outputs": [
    {
     "name": "stdout",
     "output_type": "stream",
     "text": [
      "7\n"
     ]
    }
   ],
   "source": [
    "print(len(['window0', 'window50', 'window100', 'window150', 'window200', 'window250', 'window300']))"
   ]
  },
  {
   "cell_type": "code",
   "execution_count": null,
   "id": "26ac8886",
   "metadata": {},
   "outputs": [],
   "source": []
  },
  {
   "cell_type": "code",
   "execution_count": null,
   "id": "2e809a02",
   "metadata": {},
   "outputs": [],
   "source": []
  }
 ],
 "metadata": {
  "kernelspec": {
   "display_name": "Python 3 (ipykernel)",
   "language": "python",
   "name": "python3"
  },
  "language_info": {
   "codemirror_mode": {
    "name": "ipython",
    "version": 3
   },
   "file_extension": ".py",
   "mimetype": "text/x-python",
   "name": "python",
   "nbconvert_exporter": "python",
   "pygments_lexer": "ipython3",
   "version": "3.9.12"
  }
 },
 "nbformat": 4,
 "nbformat_minor": 5
}
